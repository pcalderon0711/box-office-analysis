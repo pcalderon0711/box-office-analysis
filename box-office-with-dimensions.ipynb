{
 "cells": [
  {
   "cell_type": "code",
   "execution_count": 1257,
   "metadata": {
    "collapsed": true
   },
   "outputs": [],
   "source": [
    "import pandas as pd\n",
    "import numpy as np\n",
    "from nltk import word_tokenize\n",
    "import gensim\n",
    "from sklearn.ensemble import RandomForestClassifier\n",
    "from sklearn.preprocessing import StandardScaler\n",
    "from sklearn.cross_validation import train_test_split\n",
    "from sklearn.linear_model import LogisticRegression\n",
    "from sklearn.svm import SVC\n",
    "from sklearn.metrics import classification_report, confusion_matrix, roc_auc_score\n",
    "\n",
    "from gensim.corpora import Dictionary\n",
    "from gensim.models.tfidfmodel import TfidfModel\n",
    "\n",
    "import matplotlib.pyplot as plt\n",
    "%matplotlib inline"
   ]
  },
  {
   "cell_type": "markdown",
   "metadata": {},
   "source": [
    "# In this notebook, we do the following:\n",
    "1. Get word vectors of words appearing in title / synopsis.\n",
    "2. Get TF-IDF representation of words.\n",
    "3. Use TF-IDF as weight to get the sentence vector from the word vectors.\n",
    "4. Get cosine similarity of sentence vectors with each dimension.\n",
    "5. Use embedding model to calculate the frequency of word ranks in the title and synopsis.\n",
    "6. Look at correlation between similarity to dimensions and gross performance.\n",
    "7. Use cosine similarities and word rank frequencies as features of a classification model (instead of a regression model)."
   ]
  },
  {
   "cell_type": "markdown",
   "metadata": {},
   "source": [
    "# Load NF dimensions and embedding model"
   ]
  },
  {
   "cell_type": "code",
   "execution_count": 156,
   "metadata": {
    "collapsed": true
   },
   "outputs": [],
   "source": [
    "dimensions = pd.read_csv('data/dimensions.csv', usecols = ['en_label', 'en'])"
   ]
  },
  {
   "cell_type": "code",
   "execution_count": 157,
   "metadata": {
    "collapsed": true
   },
   "outputs": [],
   "source": [
    "# remove brand-specific labels\n",
    "dimensions = dimensions.iloc[:200]"
   ]
  },
  {
   "cell_type": "code",
   "execution_count": 158,
   "metadata": {
    "collapsed": true
   },
   "outputs": [],
   "source": [
    "# remove rows with no words\n",
    "dimensions = dimensions[~dimensions['en'].isnull()]"
   ]
  },
  {
   "cell_type": "code",
   "execution_count": 159,
   "metadata": {
    "collapsed": true
   },
   "outputs": [],
   "source": [
    "# turn to lowercase\n",
    "dimensions['en_label'] = dimensions['en_label'].str.lower()\n",
    "dimensions['en'] = dimensions['en'].str.lower()"
   ]
  },
  {
   "cell_type": "code",
   "execution_count": 160,
   "metadata": {
    "collapsed": true,
    "scrolled": true
   },
   "outputs": [],
   "source": [
    "# tokenize words\n",
    "dimensions['tokenized'] = dimensions['en'].str.replace('-', '_').str.replace(',', ' ').map(word_tokenize)"
   ]
  },
  {
   "cell_type": "code",
   "execution_count": 28,
   "metadata": {
    "collapsed": true
   },
   "outputs": [],
   "source": [
    "# load embedding model\n",
    "emb = gensim.models.KeyedVectors.load_word2vec_format('data/en_en_numberbatch_v1706.bin', binary=True)"
   ]
  },
  {
   "cell_type": "code",
   "execution_count": 1130,
   "metadata": {
    "collapsed": true
   },
   "outputs": [],
   "source": [
    "def get_average_vector(words):\n",
    "    \"\"\"\n",
    "        Average the word vectors of a list of words.\n",
    "    \"\"\"\n",
    "    words_in_emb = [emb[word] for word in words if word in emb.vocab.keys()]\n",
    "    total = np.sum(words_in_emb, axis=0)\n",
    "    count = len(words_in_emb)\n",
    "    return total / count"
   ]
  },
  {
   "cell_type": "code",
   "execution_count": 162,
   "metadata": {
    "collapsed": true
   },
   "outputs": [],
   "source": [
    "dimensions['dimension'] = dimensions['tokenized'].map(get_dimension)\n",
    "dimensions = dimensions.drop(columns=['en'])"
   ]
  },
  {
   "cell_type": "code",
   "execution_count": 1270,
   "metadata": {},
   "outputs": [],
   "source": [
    "dimensions = dimensions.reset_index().drop(columns='index')"
   ]
  },
  {
   "cell_type": "code",
   "execution_count": 313,
   "metadata": {
    "collapsed": true
   },
   "outputs": [],
   "source": [
    "# get word ranks from embedding model\n",
    "word_rank = pd.Series(list(emb.vocab.keys())).reset_index()"
   ]
  },
  {
   "cell_type": "code",
   "execution_count": 314,
   "metadata": {
    "collapsed": true
   },
   "outputs": [],
   "source": [
    "# divide word ranks into deciles\n",
    "word_rank['percentile'] = pd.qcut(word_rank['index'], 10, labels = ['<10', '10-20', '20-30', '30-40', '40-50', '50-60', '60-70', '70-80', '80-90', '90+'])"
   ]
  },
  {
   "cell_type": "code",
   "execution_count": 325,
   "metadata": {
    "collapsed": true
   },
   "outputs": [],
   "source": [
    "rank_dict = dict(zip(word_rank[0].values, word_rank['percentile'].values))"
   ]
  },
  {
   "cell_type": "code",
   "execution_count": 335,
   "metadata": {
    "collapsed": true
   },
   "outputs": [],
   "source": [
    "rank_labels = word_rank['percentile'].unique()"
   ]
  },
  {
   "cell_type": "markdown",
   "metadata": {},
   "source": [
    "# Load data from last week and remove blockbusters"
   ]
  },
  {
   "cell_type": "code",
   "execution_count": 205,
   "metadata": {
    "collapsed": true
   },
   "outputs": [],
   "source": [
    "# load data from the last notebook\n",
    "pc = pd.read_csv('data/wiki_matched.csv')"
   ]
  },
  {
   "cell_type": "code",
   "execution_count": 863,
   "metadata": {},
   "outputs": [
    {
     "data": {
      "text/html": [
       "<div>\n",
       "<style scoped>\n",
       "    .dataframe tbody tr th:only-of-type {\n",
       "        vertical-align: middle;\n",
       "    }\n",
       "\n",
       "    .dataframe tbody tr th {\n",
       "        vertical-align: top;\n",
       "    }\n",
       "\n",
       "    .dataframe thead th {\n",
       "        text-align: right;\n",
       "    }\n",
       "</style>\n",
       "<table border=\"1\" class=\"dataframe\">\n",
       "  <thead>\n",
       "    <tr style=\"text-align: right;\">\n",
       "      <th></th>\n",
       "      <th>year</th>\n",
       "      <th>rank</th>\n",
       "      <th>movie_title</th>\n",
       "      <th>rating</th>\n",
       "      <th>genre1</th>\n",
       "      <th>genre2</th>\n",
       "      <th>runtime</th>\n",
       "      <th>distributor</th>\n",
       "      <th>budget</th>\n",
       "      <th>adjusted_opening</th>\n",
       "      <th>...</th>\n",
       "      <th>wiki_wv_290.1.1</th>\n",
       "      <th>wiki_wv_291.1.1</th>\n",
       "      <th>wiki_wv_292.1.1</th>\n",
       "      <th>wiki_wv_293.1.1</th>\n",
       "      <th>wiki_wv_294.1.1</th>\n",
       "      <th>wiki_wv_295.1.1</th>\n",
       "      <th>wiki_wv_296.1.1</th>\n",
       "      <th>wiki_wv_297.1.1</th>\n",
       "      <th>wiki_wv_298.1.1</th>\n",
       "      <th>wiki_wv_299.1.1</th>\n",
       "    </tr>\n",
       "  </thead>\n",
       "  <tbody>\n",
       "    <tr>\n",
       "      <th>0</th>\n",
       "      <td>2010</td>\n",
       "      <td>1</td>\n",
       "      <td>Toy Story 3</td>\n",
       "      <td>G</td>\n",
       "      <td>Animation</td>\n",
       "      <td>NaN</td>\n",
       "      <td>103.0</td>\n",
       "      <td>Buena Vista</td>\n",
       "      <td>200000000.0</td>\n",
       "      <td>128225100.0</td>\n",
       "      <td>...</td>\n",
       "      <td>-50.865868</td>\n",
       "      <td>32.915565</td>\n",
       "      <td>-58.361187</td>\n",
       "      <td>4.377266</td>\n",
       "      <td>-32.066540</td>\n",
       "      <td>-25.931126</td>\n",
       "      <td>5.769211</td>\n",
       "      <td>-3.233112</td>\n",
       "      <td>28.904930</td>\n",
       "      <td>-16.628872</td>\n",
       "    </tr>\n",
       "    <tr>\n",
       "      <th>1</th>\n",
       "      <td>2010</td>\n",
       "      <td>2</td>\n",
       "      <td>Alice in Wonderland</td>\n",
       "      <td>PG</td>\n",
       "      <td>Family</td>\n",
       "      <td>Adventure</td>\n",
       "      <td>109.0</td>\n",
       "      <td>Buena Vista</td>\n",
       "      <td>200000000.0</td>\n",
       "      <td>133771700.0</td>\n",
       "      <td>...</td>\n",
       "      <td>-41.149185</td>\n",
       "      <td>-5.958760</td>\n",
       "      <td>-62.160366</td>\n",
       "      <td>1.402843</td>\n",
       "      <td>-32.683230</td>\n",
       "      <td>-16.236320</td>\n",
       "      <td>8.561918</td>\n",
       "      <td>-7.410161</td>\n",
       "      <td>29.774704</td>\n",
       "      <td>1.001106</td>\n",
       "    </tr>\n",
       "    <tr>\n",
       "      <th>2</th>\n",
       "      <td>2010</td>\n",
       "      <td>3</td>\n",
       "      <td>Iron Man 2</td>\n",
       "      <td>PG-13</td>\n",
       "      <td>Action</td>\n",
       "      <td>Adventure</td>\n",
       "      <td>125.0</td>\n",
       "      <td>Paramount</td>\n",
       "      <td>200000000.0</td>\n",
       "      <td>148934300.0</td>\n",
       "      <td>...</td>\n",
       "      <td>-39.669506</td>\n",
       "      <td>-14.324506</td>\n",
       "      <td>-59.775740</td>\n",
       "      <td>10.558628</td>\n",
       "      <td>-26.508518</td>\n",
       "      <td>-28.648207</td>\n",
       "      <td>-0.950573</td>\n",
       "      <td>-18.508064</td>\n",
       "      <td>18.950455</td>\n",
       "      <td>2.602741</td>\n",
       "    </tr>\n",
       "    <tr>\n",
       "      <th>3</th>\n",
       "      <td>2010</td>\n",
       "      <td>4</td>\n",
       "      <td>The Twilight Saga: Eclipse</td>\n",
       "      <td>PG-13</td>\n",
       "      <td>Romance</td>\n",
       "      <td>NaN</td>\n",
       "      <td>124.0</td>\n",
       "      <td>Summit Entertainment</td>\n",
       "      <td>68000000.0</td>\n",
       "      <td>75363300.0</td>\n",
       "      <td>...</td>\n",
       "      <td>-51.736317</td>\n",
       "      <td>0.388475</td>\n",
       "      <td>-69.993520</td>\n",
       "      <td>3.962325</td>\n",
       "      <td>-46.181377</td>\n",
       "      <td>0.863689</td>\n",
       "      <td>21.058079</td>\n",
       "      <td>-11.719788</td>\n",
       "      <td>45.462060</td>\n",
       "      <td>11.379520</td>\n",
       "    </tr>\n",
       "    <tr>\n",
       "      <th>4</th>\n",
       "      <td>2010</td>\n",
       "      <td>5</td>\n",
       "      <td>Inception</td>\n",
       "      <td>PG-13</td>\n",
       "      <td>Sci-Fi</td>\n",
       "      <td>Action</td>\n",
       "      <td>148.0</td>\n",
       "      <td>Warner Bros.</td>\n",
       "      <td>160000000.0</td>\n",
       "      <td>74593200.0</td>\n",
       "      <td>...</td>\n",
       "      <td>-66.710880</td>\n",
       "      <td>26.594257</td>\n",
       "      <td>-71.274460</td>\n",
       "      <td>19.334301</td>\n",
       "      <td>-56.281460</td>\n",
       "      <td>-8.980194</td>\n",
       "      <td>-9.290649</td>\n",
       "      <td>-19.509369</td>\n",
       "      <td>35.494690</td>\n",
       "      <td>-0.012482</td>\n",
       "    </tr>\n",
       "  </tbody>\n",
       "</table>\n",
       "<p>5 rows × 1531 columns</p>\n",
       "</div>"
      ],
      "text/plain": [
       "   year  rank                 movie_title rating     genre1     genre2  \\\n",
       "0  2010     1                 Toy Story 3      G  Animation        NaN   \n",
       "1  2010     2         Alice in Wonderland     PG     Family  Adventure   \n",
       "2  2010     3                  Iron Man 2  PG-13     Action  Adventure   \n",
       "3  2010     4  The Twilight Saga: Eclipse  PG-13    Romance        NaN   \n",
       "4  2010     5                   Inception  PG-13     Sci-Fi     Action   \n",
       "\n",
       "   runtime           distributor       budget  adjusted_opening  \\\n",
       "0    103.0           Buena Vista  200000000.0       128225100.0   \n",
       "1    109.0           Buena Vista  200000000.0       133771700.0   \n",
       "2    125.0             Paramount  200000000.0       148934300.0   \n",
       "3    124.0  Summit Entertainment   68000000.0        75363300.0   \n",
       "4    148.0          Warner Bros.  160000000.0        74593200.0   \n",
       "\n",
       "        ...        wiki_wv_290.1.1  wiki_wv_291.1.1  wiki_wv_292.1.1  \\\n",
       "0       ...             -50.865868        32.915565       -58.361187   \n",
       "1       ...             -41.149185        -5.958760       -62.160366   \n",
       "2       ...             -39.669506       -14.324506       -59.775740   \n",
       "3       ...             -51.736317         0.388475       -69.993520   \n",
       "4       ...             -66.710880        26.594257       -71.274460   \n",
       "\n",
       "   wiki_wv_293.1.1  wiki_wv_294.1.1  wiki_wv_295.1.1  wiki_wv_296.1.1  \\\n",
       "0         4.377266       -32.066540       -25.931126         5.769211   \n",
       "1         1.402843       -32.683230       -16.236320         8.561918   \n",
       "2        10.558628       -26.508518       -28.648207        -0.950573   \n",
       "3         3.962325       -46.181377         0.863689        21.058079   \n",
       "4        19.334301       -56.281460        -8.980194        -9.290649   \n",
       "\n",
       "   wiki_wv_297.1.1 wiki_wv_298.1.1 wiki_wv_299.1.1  \n",
       "0        -3.233112       28.904930      -16.628872  \n",
       "1        -7.410161       29.774704        1.001106  \n",
       "2       -18.508064       18.950455        2.602741  \n",
       "3       -11.719788       45.462060       11.379520  \n",
       "4       -19.509369       35.494690       -0.012482  \n",
       "\n",
       "[5 rows x 1531 columns]"
      ]
     },
     "execution_count": 863,
     "metadata": {},
     "output_type": "execute_result"
    }
   ],
   "source": [
    "pc.head()"
   ]
  },
  {
   "cell_type": "code",
   "execution_count": 206,
   "metadata": {
    "collapsed": true
   },
   "outputs": [],
   "source": [
    "pc['tokenized_words'] = pc['movie_title'].str.lower().str.replace(r'[^a-zA-Z0-9 ]', '').str.replace(r'\\'', '').map(word_tokenize)\n",
    "pc['wiki_tokenized_words'] = pc['wiki_synopsis'].str.replace(r'[^a-zA-Z0-9 ]', '').str.replace(r'\\'', '').map(word_tokenize)"
   ]
  },
  {
   "cell_type": "code",
   "execution_count": 864,
   "metadata": {
    "collapsed": true
   },
   "outputs": [],
   "source": [
    "# only retain genre, total gross per cinema, and text features\n",
    "reduced = pc[['movie_title', 'genre1', 'adjusted_total_gross_per_cinema', 'tokenized_words', 'wiki_tokenized_words']]"
   ]
  },
  {
   "cell_type": "code",
   "execution_count": 262,
   "metadata": {
    "collapsed": true
   },
   "outputs": [
    {
     "name": "stderr",
     "output_type": "stream",
     "text": [
      "/Users/piocalderon/anaconda/lib/python3.6/site-packages/ipykernel_launcher.py:5: RuntimeWarning: invalid value encountered in double_scalars\n",
      "  \"\"\"\n",
      "/Users/piocalderon/anaconda/lib/python3.6/site-packages/ipykernel_launcher.py:1: SettingWithCopyWarning: \n",
      "A value is trying to be set on a copy of a slice from a DataFrame.\n",
      "Try using .loc[row_indexer,col_indexer] = value instead\n",
      "\n",
      "See the caveats in the documentation: http://pandas.pydata.org/pandas-docs/stable/indexing.html#indexing-view-versus-copy\n",
      "  \"\"\"Entry point for launching an IPython kernel.\n",
      "/Users/piocalderon/anaconda/lib/python3.6/site-packages/ipykernel_launcher.py:2: SettingWithCopyWarning: \n",
      "A value is trying to be set on a copy of a slice from a DataFrame.\n",
      "Try using .loc[row_indexer,col_indexer] = value instead\n",
      "\n",
      "See the caveats in the documentation: http://pandas.pydata.org/pandas-docs/stable/indexing.html#indexing-view-versus-copy\n",
      "  \n"
     ]
    }
   ],
   "source": [
    "# get average word vectors assuming all words in the title/synopsis have equal weight\n",
    "reduced['wv_title'] = reduced['tokenized_words'].map(get_average_vector)\n",
    "reduced['wv_synopsis'] = reduced['wiki_tokenized_words'].map(get_average_vector)"
   ]
  },
  {
   "cell_type": "code",
   "execution_count": 263,
   "metadata": {
    "collapsed": true
   },
   "outputs": [],
   "source": [
    "def cosine_similarity(a,b):\n",
    "    \"\"\"\n",
    "        Compute the cosine similarity of a and b.\n",
    "    \"\"\"\n",
    "    return np.dot(a,b) / ( (np.dot(a,a) **.5) * (np.dot(b,b) ** .5) )"
   ]
  },
  {
   "cell_type": "code",
   "execution_count": 783,
   "metadata": {
    "collapsed": true
   },
   "outputs": [],
   "source": [
    "def get_similarity_with_dimensions(row, inp, dimensions, tfidf = False):\n",
    "    \"\"\"\n",
    "        Get similarity of row's word vector and every dimension.\n",
    "        row : row of the movie dataframe\n",
    "        inp : either 'title' or 'synopsis'\n",
    "        dimensions : dataframe containing Neuroflash dimensions\n",
    "        tfidf : true if we are using TFIDF-weighted sentence vectors\n",
    "    \"\"\"\n",
    "    for k in range(dimensions['dimension'].shape[0]):\n",
    "        if tfidf:\n",
    "            wv = 'wv_' + inp + '_tfidf'\n",
    "            name = 'cos_' + inp + '_dim_' + str(k) + '_tfidf'\n",
    "        else: \n",
    "            wv = 'wv_' + inp\n",
    "            name = 'cos_' + inp + '_dim_' + str(k)  \n",
    "        # define a new column for the cosine similarity of dimension k and inp\n",
    "        row[name] = cosine_similarity(row[wv], dimensions['dimension'].iloc[k])\n",
    "    return row"
   ]
  },
  {
   "cell_type": "code",
   "execution_count": 291,
   "metadata": {
    "collapsed": true
   },
   "outputs": [],
   "source": [
    "# retain only rows with filled-up title and synopis\n",
    "reduced = reduced[~reduced['wv_title'].isnull()]\n",
    "reduced = reduced[~reduced['wv_synopsis'].isnull()]"
   ]
  },
  {
   "cell_type": "code",
   "execution_count": 293,
   "metadata": {
    "collapsed": true
   },
   "outputs": [
    {
     "ename": "KeyboardInterrupt",
     "evalue": "",
     "output_type": "error",
     "traceback": [
      "\u001b[0;31m---------------------------------------------------------------------------\u001b[0m",
      "\u001b[0;31mKeyboardInterrupt\u001b[0m                         Traceback (most recent call last)",
      "\u001b[0;32m<ipython-input-293-358b26f674ea>\u001b[0m in \u001b[0;36m<module>\u001b[0;34m()\u001b[0m\n\u001b[0;32m----> 1\u001b[0;31m \u001b[0mreduced\u001b[0m \u001b[0;34m=\u001b[0m \u001b[0mreduced\u001b[0m\u001b[0;34m.\u001b[0m\u001b[0mapply\u001b[0m\u001b[0;34m(\u001b[0m\u001b[0;32mlambda\u001b[0m \u001b[0mx\u001b[0m\u001b[0;34m:\u001b[0m \u001b[0mget_similarity_with_dimensions\u001b[0m\u001b[0;34m(\u001b[0m\u001b[0mx\u001b[0m\u001b[0;34m,\u001b[0m \u001b[0;34m'title'\u001b[0m\u001b[0;34m,\u001b[0m \u001b[0mdimensions\u001b[0m\u001b[0;34m)\u001b[0m\u001b[0;34m,\u001b[0m \u001b[0maxis\u001b[0m\u001b[0;34m=\u001b[0m\u001b[0;36m1\u001b[0m\u001b[0;34m)\u001b[0m\u001b[0;34m\u001b[0m\u001b[0m\n\u001b[0m",
      "\u001b[0;32m/Users/piocalderon/anaconda/lib/python3.6/site-packages/pandas/core/frame.py\u001b[0m in \u001b[0;36mapply\u001b[0;34m(self, func, axis, broadcast, raw, reduce, args, **kwds)\u001b[0m\n\u001b[1;32m   4852\u001b[0m                         \u001b[0mf\u001b[0m\u001b[0;34m,\u001b[0m \u001b[0maxis\u001b[0m\u001b[0;34m,\u001b[0m\u001b[0;34m\u001b[0m\u001b[0m\n\u001b[1;32m   4853\u001b[0m                         \u001b[0mreduce\u001b[0m\u001b[0;34m=\u001b[0m\u001b[0mreduce\u001b[0m\u001b[0;34m,\u001b[0m\u001b[0;34m\u001b[0m\u001b[0m\n\u001b[0;32m-> 4854\u001b[0;31m                         ignore_failures=ignore_failures)\n\u001b[0m\u001b[1;32m   4855\u001b[0m             \u001b[0;32melse\u001b[0m\u001b[0;34m:\u001b[0m\u001b[0;34m\u001b[0m\u001b[0m\n\u001b[1;32m   4856\u001b[0m                 \u001b[0;32mreturn\u001b[0m \u001b[0mself\u001b[0m\u001b[0;34m.\u001b[0m\u001b[0m_apply_broadcast\u001b[0m\u001b[0;34m(\u001b[0m\u001b[0mf\u001b[0m\u001b[0;34m,\u001b[0m \u001b[0maxis\u001b[0m\u001b[0;34m)\u001b[0m\u001b[0;34m\u001b[0m\u001b[0m\n",
      "\u001b[0;32m/Users/piocalderon/anaconda/lib/python3.6/site-packages/pandas/core/frame.py\u001b[0m in \u001b[0;36m_apply_standard\u001b[0;34m(self, func, axis, ignore_failures, reduce)\u001b[0m\n\u001b[1;32m   4948\u001b[0m             \u001b[0;32mtry\u001b[0m\u001b[0;34m:\u001b[0m\u001b[0;34m\u001b[0m\u001b[0m\n\u001b[1;32m   4949\u001b[0m                 \u001b[0;32mfor\u001b[0m \u001b[0mi\u001b[0m\u001b[0;34m,\u001b[0m \u001b[0mv\u001b[0m \u001b[0;32min\u001b[0m \u001b[0menumerate\u001b[0m\u001b[0;34m(\u001b[0m\u001b[0mseries_gen\u001b[0m\u001b[0;34m)\u001b[0m\u001b[0;34m:\u001b[0m\u001b[0;34m\u001b[0m\u001b[0m\n\u001b[0;32m-> 4950\u001b[0;31m                     \u001b[0mresults\u001b[0m\u001b[0;34m[\u001b[0m\u001b[0mi\u001b[0m\u001b[0;34m]\u001b[0m \u001b[0;34m=\u001b[0m \u001b[0mfunc\u001b[0m\u001b[0;34m(\u001b[0m\u001b[0mv\u001b[0m\u001b[0;34m)\u001b[0m\u001b[0;34m\u001b[0m\u001b[0m\n\u001b[0m\u001b[1;32m   4951\u001b[0m                     \u001b[0mkeys\u001b[0m\u001b[0;34m.\u001b[0m\u001b[0mappend\u001b[0m\u001b[0;34m(\u001b[0m\u001b[0mv\u001b[0m\u001b[0;34m.\u001b[0m\u001b[0mname\u001b[0m\u001b[0;34m)\u001b[0m\u001b[0;34m\u001b[0m\u001b[0m\n\u001b[1;32m   4952\u001b[0m             \u001b[0;32mexcept\u001b[0m \u001b[0mException\u001b[0m \u001b[0;32mas\u001b[0m \u001b[0me\u001b[0m\u001b[0;34m:\u001b[0m\u001b[0;34m\u001b[0m\u001b[0m\n",
      "\u001b[0;32m<ipython-input-293-358b26f674ea>\u001b[0m in \u001b[0;36m<lambda>\u001b[0;34m(x)\u001b[0m\n\u001b[0;32m----> 1\u001b[0;31m \u001b[0mreduced\u001b[0m \u001b[0;34m=\u001b[0m \u001b[0mreduced\u001b[0m\u001b[0;34m.\u001b[0m\u001b[0mapply\u001b[0m\u001b[0;34m(\u001b[0m\u001b[0;32mlambda\u001b[0m \u001b[0mx\u001b[0m\u001b[0;34m:\u001b[0m \u001b[0mget_similarity_with_dimensions\u001b[0m\u001b[0;34m(\u001b[0m\u001b[0mx\u001b[0m\u001b[0;34m,\u001b[0m \u001b[0;34m'title'\u001b[0m\u001b[0;34m,\u001b[0m \u001b[0mdimensions\u001b[0m\u001b[0;34m)\u001b[0m\u001b[0;34m,\u001b[0m \u001b[0maxis\u001b[0m\u001b[0;34m=\u001b[0m\u001b[0;36m1\u001b[0m\u001b[0;34m)\u001b[0m\u001b[0;34m\u001b[0m\u001b[0m\n\u001b[0m",
      "\u001b[0;32m<ipython-input-282-4c52ce9fabbe>\u001b[0m in \u001b[0;36mget_similarity_with_dimensions\u001b[0;34m(row, inp, dimensions)\u001b[0m\n\u001b[1;32m      1\u001b[0m \u001b[0;32mdef\u001b[0m \u001b[0mget_similarity_with_dimensions\u001b[0m\u001b[0;34m(\u001b[0m\u001b[0mrow\u001b[0m\u001b[0;34m,\u001b[0m \u001b[0minp\u001b[0m\u001b[0;34m,\u001b[0m \u001b[0mdimensions\u001b[0m\u001b[0;34m)\u001b[0m\u001b[0;34m:\u001b[0m\u001b[0;34m\u001b[0m\u001b[0m\n\u001b[1;32m      2\u001b[0m     \u001b[0;32mfor\u001b[0m \u001b[0mk\u001b[0m \u001b[0;32min\u001b[0m \u001b[0mrange\u001b[0m\u001b[0;34m(\u001b[0m\u001b[0mdimensions\u001b[0m\u001b[0;34m[\u001b[0m\u001b[0;34m'dimension'\u001b[0m\u001b[0;34m]\u001b[0m\u001b[0;34m.\u001b[0m\u001b[0mshape\u001b[0m\u001b[0;34m[\u001b[0m\u001b[0;36m0\u001b[0m\u001b[0;34m]\u001b[0m\u001b[0;34m)\u001b[0m\u001b[0;34m:\u001b[0m\u001b[0;34m\u001b[0m\u001b[0m\n\u001b[0;32m----> 3\u001b[0;31m         \u001b[0mrow\u001b[0m\u001b[0;34m[\u001b[0m\u001b[0;34m'cos_'\u001b[0m \u001b[0;34m+\u001b[0m \u001b[0minp\u001b[0m \u001b[0;34m+\u001b[0m \u001b[0;34m'_dim_'\u001b[0m \u001b[0;34m+\u001b[0m \u001b[0mstr\u001b[0m\u001b[0;34m(\u001b[0m\u001b[0mk\u001b[0m\u001b[0;34m)\u001b[0m\u001b[0;34m]\u001b[0m \u001b[0;34m=\u001b[0m \u001b[0mcosine_similarity\u001b[0m\u001b[0;34m(\u001b[0m\u001b[0mrow\u001b[0m\u001b[0;34m[\u001b[0m\u001b[0;34m'wv_'\u001b[0m \u001b[0;34m+\u001b[0m \u001b[0minp\u001b[0m\u001b[0;34m]\u001b[0m\u001b[0;34m,\u001b[0m \u001b[0mdimensions\u001b[0m\u001b[0;34m[\u001b[0m\u001b[0;34m'dimension'\u001b[0m\u001b[0;34m]\u001b[0m\u001b[0;34m.\u001b[0m\u001b[0miloc\u001b[0m\u001b[0;34m[\u001b[0m\u001b[0mk\u001b[0m\u001b[0;34m]\u001b[0m\u001b[0;34m)\u001b[0m\u001b[0;34m\u001b[0m\u001b[0m\n\u001b[0m\u001b[1;32m      4\u001b[0m     \u001b[0;32mreturn\u001b[0m \u001b[0mrow\u001b[0m\u001b[0;34m\u001b[0m\u001b[0m\n",
      "\u001b[0;32m/Users/piocalderon/anaconda/lib/python3.6/site-packages/pandas/core/series.py\u001b[0m in \u001b[0;36m__getitem__\u001b[0;34m(self, key)\u001b[0m\n\u001b[1;32m    621\u001b[0m         \u001b[0mkey\u001b[0m \u001b[0;34m=\u001b[0m \u001b[0mcom\u001b[0m\u001b[0;34m.\u001b[0m\u001b[0m_apply_if_callable\u001b[0m\u001b[0;34m(\u001b[0m\u001b[0mkey\u001b[0m\u001b[0;34m,\u001b[0m \u001b[0mself\u001b[0m\u001b[0;34m)\u001b[0m\u001b[0;34m\u001b[0m\u001b[0m\n\u001b[1;32m    622\u001b[0m         \u001b[0;32mtry\u001b[0m\u001b[0;34m:\u001b[0m\u001b[0;34m\u001b[0m\u001b[0m\n\u001b[0;32m--> 623\u001b[0;31m             \u001b[0mresult\u001b[0m \u001b[0;34m=\u001b[0m \u001b[0mself\u001b[0m\u001b[0;34m.\u001b[0m\u001b[0mindex\u001b[0m\u001b[0;34m.\u001b[0m\u001b[0mget_value\u001b[0m\u001b[0;34m(\u001b[0m\u001b[0mself\u001b[0m\u001b[0;34m,\u001b[0m \u001b[0mkey\u001b[0m\u001b[0;34m)\u001b[0m\u001b[0;34m\u001b[0m\u001b[0m\n\u001b[0m\u001b[1;32m    624\u001b[0m \u001b[0;34m\u001b[0m\u001b[0m\n\u001b[1;32m    625\u001b[0m             \u001b[0;32mif\u001b[0m \u001b[0;32mnot\u001b[0m \u001b[0mis_scalar\u001b[0m\u001b[0;34m(\u001b[0m\u001b[0mresult\u001b[0m\u001b[0;34m)\u001b[0m\u001b[0;34m:\u001b[0m\u001b[0;34m\u001b[0m\u001b[0m\n",
      "\u001b[0;32m/Users/piocalderon/anaconda/lib/python3.6/site-packages/pandas/core/indexes/base.py\u001b[0m in \u001b[0;36mget_value\u001b[0;34m(self, series, key)\u001b[0m\n\u001b[1;32m   2549\u001b[0m                 \u001b[0;32mpass\u001b[0m\u001b[0;34m\u001b[0m\u001b[0m\n\u001b[1;32m   2550\u001b[0m \u001b[0;34m\u001b[0m\u001b[0m\n\u001b[0;32m-> 2551\u001b[0;31m         \u001b[0ms\u001b[0m \u001b[0;34m=\u001b[0m \u001b[0m_values_from_object\u001b[0m\u001b[0;34m(\u001b[0m\u001b[0mseries\u001b[0m\u001b[0;34m)\u001b[0m\u001b[0;34m\u001b[0m\u001b[0m\n\u001b[0m\u001b[1;32m   2552\u001b[0m         \u001b[0mk\u001b[0m \u001b[0;34m=\u001b[0m \u001b[0m_values_from_object\u001b[0m\u001b[0;34m(\u001b[0m\u001b[0mkey\u001b[0m\u001b[0;34m)\u001b[0m\u001b[0;34m\u001b[0m\u001b[0m\n\u001b[1;32m   2553\u001b[0m \u001b[0;34m\u001b[0m\u001b[0m\n",
      "\u001b[0;32mpandas/_libs/lib.pyx\u001b[0m in \u001b[0;36mpandas._libs.lib.values_from_object\u001b[0;34m()\u001b[0m\n",
      "\u001b[0;32m/Users/piocalderon/anaconda/lib/python3.6/site-packages/pandas/core/series.py\u001b[0m in \u001b[0;36mget_values\u001b[0;34m(self)\u001b[0m\n\u001b[1;32m    411\u001b[0m     \u001b[0;32mdef\u001b[0m \u001b[0mget_values\u001b[0m\u001b[0;34m(\u001b[0m\u001b[0mself\u001b[0m\u001b[0;34m)\u001b[0m\u001b[0;34m:\u001b[0m\u001b[0;34m\u001b[0m\u001b[0m\n\u001b[1;32m    412\u001b[0m         \u001b[0;34m\"\"\" same as values (but handles sparseness conversions); is a view \"\"\"\u001b[0m\u001b[0;34m\u001b[0m\u001b[0m\n\u001b[0;32m--> 413\u001b[0;31m         \u001b[0;32mreturn\u001b[0m \u001b[0mself\u001b[0m\u001b[0;34m.\u001b[0m\u001b[0m_data\u001b[0m\u001b[0;34m.\u001b[0m\u001b[0mget_values\u001b[0m\u001b[0;34m(\u001b[0m\u001b[0;34m)\u001b[0m\u001b[0;34m\u001b[0m\u001b[0m\n\u001b[0m\u001b[1;32m    414\u001b[0m \u001b[0;34m\u001b[0m\u001b[0m\n\u001b[1;32m    415\u001b[0m     \u001b[0;34m@\u001b[0m\u001b[0mproperty\u001b[0m\u001b[0;34m\u001b[0m\u001b[0m\n",
      "\u001b[0;32m/Users/piocalderon/anaconda/lib/python3.6/site-packages/pandas/core/internals.py\u001b[0m in \u001b[0;36mget_values\u001b[0;34m(self)\u001b[0m\n\u001b[1;32m   4508\u001b[0m     \u001b[0;32mdef\u001b[0m \u001b[0mget_values\u001b[0m\u001b[0;34m(\u001b[0m\u001b[0mself\u001b[0m\u001b[0;34m)\u001b[0m\u001b[0;34m:\u001b[0m\u001b[0;34m\u001b[0m\u001b[0m\n\u001b[1;32m   4509\u001b[0m         \u001b[0;34m\"\"\" return a dense type view \"\"\"\u001b[0m\u001b[0;34m\u001b[0m\u001b[0m\n\u001b[0;32m-> 4510\u001b[0;31m         \u001b[0;32mreturn\u001b[0m \u001b[0mnp\u001b[0m\u001b[0;34m.\u001b[0m\u001b[0marray\u001b[0m\u001b[0;34m(\u001b[0m\u001b[0mself\u001b[0m\u001b[0;34m.\u001b[0m\u001b[0m_block\u001b[0m\u001b[0;34m.\u001b[0m\u001b[0mto_dense\u001b[0m\u001b[0;34m(\u001b[0m\u001b[0;34m)\u001b[0m\u001b[0;34m,\u001b[0m \u001b[0mcopy\u001b[0m\u001b[0;34m=\u001b[0m\u001b[0;32mFalse\u001b[0m\u001b[0;34m)\u001b[0m\u001b[0;34m\u001b[0m\u001b[0m\n\u001b[0m\u001b[1;32m   4511\u001b[0m \u001b[0;34m\u001b[0m\u001b[0m\n\u001b[1;32m   4512\u001b[0m     \u001b[0;34m@\u001b[0m\u001b[0mproperty\u001b[0m\u001b[0;34m\u001b[0m\u001b[0m\n",
      "\u001b[0;31mKeyboardInterrupt\u001b[0m: "
     ]
    }
   ],
   "source": [
    "reduced = reduced.apply(lambda x: get_similarity_with_dimensions(x, 'title', dimensions), axis=1)"
   ]
  },
  {
   "cell_type": "code",
   "execution_count": 883,
   "metadata": {},
   "outputs": [
    {
     "data": {
      "image/png": "[encoded data removed]",
      "text/plain": [
       "<matplotlib.figure.Figure at 0x1671e8c88>"
      ]
     },
     "metadata": {},
     "output_type": "display_data"
    }
   ],
   "source": [
    "reduced['adjusted_total_gross_per_cinema'].hist(bins = 100);"
   ]
  },
  {
   "cell_type": "code",
   "execution_count": null,
   "metadata": {
    "collapsed": true
   },
   "outputs": [],
   "source": [
    "reduced['adjusted_total_gross_per_cinema'].hist"
   ]
  },
  {
   "cell_type": "markdown",
   "metadata": {},
   "source": [
    "As suggested in the last meeting, we remove blockbusters from our analysis. Arbitrarily set movies with > 50000 USD to be blockbusters."
   ]
  },
  {
   "cell_type": "code",
   "execution_count": null,
   "metadata": {
    "collapsed": true
   },
   "outputs": [],
   "source": [
    "no_blockbuster = reduced[reduced['adjusted_total_gross_per_cinema'] < 50000]"
   ]
  },
  {
   "cell_type": "code",
   "execution_count": 872,
   "metadata": {},
   "outputs": [
    {
     "data": {
      "image/png": "[encoded data removed]",
      "text/plain": [
       "<matplotlib.figure.Figure at 0x171087518>"
      ]
     },
     "metadata": {},
     "output_type": "display_data"
    }
   ],
   "source": [
    "no_blockbuster['adjusted_total_gross_per_cinema'].hist(bins = 100);"
   ]
  },
  {
   "cell_type": "markdown",
   "metadata": {},
   "source": [
    "# Correlations with Adjusted Total Gross per Cinema\n",
    "In this part, we look at the correlation of each TFIDF-weighted title/synopsis vector and word rank frequency with the adjusted total gross per cinema."
   ]
  },
  {
   "cell_type": "code",
   "execution_count": 1122,
   "metadata": {
    "collapsed": true
   },
   "outputs": [],
   "source": [
    "def get_tfidf_wv(row, emb, d, col = 'wiki_tokenized_words'):\n",
    "    \"\"\"\n",
    "        Get TFIDF-weighted vector for either title or synopsis.\n",
    "        row : row of movie dataframe\n",
    "        emb : embedding model used\n",
    "        d : Gensim dictionary for the corpus\n",
    "        col : either 'wiki_tokenized_words' (synopsis) or 'tokenized_words' (title)\n",
    "    \"\"\"\n",
    "    if col == 'wiki_tokenized_words':\n",
    "        tfidf_map = row['wiki_tfidf_map']\n",
    "        name = 'wv_synopsis'\n",
    "    else:\n",
    "        tfidf_map = row['tfidf_map']\n",
    "        name = 'wv_title'\n",
    "    words = row[col]\n",
    "    total = np.zeros(300)\n",
    "    for word in words:\n",
    "        if (word in d.token2id.keys() and d.token2id[word] in tfidf_map.keys() and word in emb.vocab.keys()):\n",
    "            # use the TFIDF of word as the weight to the word vector of word\n",
    "            total += np.array(tfidf_map[d.token2id[word]] * emb[word])\n",
    "    count = len(result)\n",
    "    if count == 0:\n",
    "        row[name + '_tfidf'] = np.nan\n",
    "    else:\n",
    "        row[name + '_tfidf'] = total / count\n",
    "    return row"
   ]
  },
  {
   "cell_type": "code",
   "execution_count": 367,
   "metadata": {
    "collapsed": true
   },
   "outputs": [],
   "source": [
    "def get_word_rank_count(row, inp, rank_dict, rank_labels):\n",
    "    \"\"\"\n",
    "        Get the frequency of the word rank deciles <10 to 90+\n",
    "        row : row of movie dataframe\n",
    "        inp : either 'title' or 'synopsis'\n",
    "        rank_dict : dictionary from words to ranks\n",
    "        rank_labels : labels for the word rank deciles\n",
    "    \"\"\"\n",
    "    if inp == 'title':\n",
    "        val = 'tokenized_words'\n",
    "    elif inp == 'synopsis':\n",
    "        val = 'wiki_tokenized_words'\n",
    "    else:\n",
    "        return\n",
    "    word_count = len(row[val])\n",
    "    running = 0\n",
    "    for k in range(10):\n",
    "        # count the number of words belonging to decile k\n",
    "        total = np.sum([1 for y in [rank_dict[x] for x in row[val] if x in rank_dict.keys()] if y == rank_labels[k]]) \n",
    "        # divide by the total number of words to get frequency\n",
    "        freq = total / word_count\n",
    "        row['freq_' + inp + '_'+ rank_labels[k]] = freq\n",
    "        running += freq\n",
    "    row['freq_' + inp + '_notinemb'] = 1 - running\n",
    "    return row"
   ]
  },
  {
   "cell_type": "code",
   "execution_count": 1133,
   "metadata": {
    "collapsed": true
   },
   "outputs": [],
   "source": [
    "no_blockbuster = no_blockbuster.apply(lambda x: get_word_rank_count(x, 'title', rank_dict, rank_labels), axis=1)\n",
    "no_blockbuster = no_blockbuster.apply(lambda x: get_word_rank_count(x, 'synopsis', rank_dict, rank_labels), axis=1)"
   ]
  },
  {
   "cell_type": "code",
   "execution_count": 734,
   "metadata": {
    "collapsed": true
   },
   "outputs": [],
   "source": [
    "dict_synopsis = Dictionary(no_blockbuster['wiki_tokenized_words'].values)\n",
    "dict_title = Dictionary(no_blockbuster['tokenized_words'].values)"
   ]
  },
  {
   "cell_type": "code",
   "execution_count": 735,
   "metadata": {
    "collapsed": true
   },
   "outputs": [],
   "source": [
    "corpus_synopsis = [dict_synopsis.doc2bow(line) for line in no_blockbuster['wiki_tokenized_words'].values]\n",
    "corpus_title = [dict_title.doc2bow(line) for line in no_blockbuster['tokenized_words'].values]"
   ]
  },
  {
   "cell_type": "code",
   "execution_count": 736,
   "metadata": {
    "collapsed": true
   },
   "outputs": [],
   "source": [
    "model_synopsis = TfidfModel(corpus_synopsis, id2word=dict_synopsis) \n",
    "model_title = TfidfModel(corpus_title, id2word=dict_title) "
   ]
  },
  {
   "cell_type": "code",
   "execution_count": null,
   "metadata": {
    "collapsed": true
   },
   "outputs": [],
   "source": [
    "no_blockbuster = no_blockbuster.apply(lambda x: get_tfidf_wv(x, emb, dict_synopsis, 'wiki_tokenized_words'), axis=1)\n",
    "no_blockbuster = no_blockbuster.apply(lambda x: get_tfidf_wv(x, emb, dict_title, 'tokenized_words'), axis=1)   \n",
    "\n",
    "no_blockbuster = no_blockbuster.apply(lambda x: get_similarity_with_dimensions(x, 'title', dimensions, tfidf=True), axis=1)\n",
    "no_blockbuster = no_blockbuster.apply(lambda x: get_similarity_with_dimensions(x, 'synopsis', dimensions, tfidf=True), axis=1)    "
   ]
  },
  {
   "cell_type": "code",
   "execution_count": 1158,
   "metadata": {
    "scrolled": true
   },
   "outputs": [
    {
     "data": {
      "text/plain": [
       "cos_synopsis_dim_47_tfidf         -0.148469\n",
       "cos_synopsis_dim_164_tfidf        -0.145230\n",
       "cos_synopsis_dim_81_tfidf         -0.132536\n",
       "cos_synopsis_dim_157_tfidf        -0.129402\n",
       "cos_synopsis_dim_167_tfidf        -0.127977\n",
       "cos_synopsis_dim_146_tfidf        -0.122766\n",
       "cos_synopsis_dim_7_tfidf          -0.121919\n",
       "cos_synopsis_dim_48_tfidf         -0.121208\n",
       "cos_synopsis_dim_153_tfidf        -0.120866\n",
       "cos_synopsis_dim_102_tfidf        -0.119816\n",
       "cos_synopsis_dim_83_tfidf         -0.114920\n",
       "cos_synopsis_dim_89_tfidf         -0.114272\n",
       "cos_synopsis_dim_111_tfidf        -0.113051\n",
       "cos_synopsis_dim_29_tfidf         -0.112940\n",
       "cos_synopsis_dim_172_tfidf        -0.111549\n",
       "cos_synopsis_dim_161_tfidf        -0.110709\n",
       "cos_synopsis_dim_5_tfidf          -0.110563\n",
       "cos_synopsis_dim_65_tfidf         -0.109918\n",
       "cos_synopsis_dim_162_tfidf        -0.109459\n",
       "cos_synopsis_dim_122_tfidf        -0.107510\n",
       "cos_synopsis_dim_18_tfidf         -0.107125\n",
       "cos_synopsis_dim_134_tfidf        -0.107090\n",
       "cos_synopsis_dim_139_tfidf        -0.105572\n",
       "cos_synopsis_dim_109_tfidf        -0.105041\n",
       "cos_synopsis_dim_56_tfidf         -0.104887\n",
       "cos_synopsis_dim_82_tfidf         -0.103463\n",
       "cos_synopsis_dim_34_tfidf         -0.103148\n",
       "cos_synopsis_dim_63_tfidf         -0.102503\n",
       "cos_synopsis_dim_10_tfidf         -0.101874\n",
       "cos_synopsis_dim_130_tfidf        -0.098205\n",
       "                                     ...   \n",
       "cos_synopsis_dim_168_tfidf         0.020534\n",
       "cos_title_dim_116_tfidf            0.021083\n",
       "cos_title_dim_133_tfidf            0.021155\n",
       "cos_title_dim_123_tfidf            0.021155\n",
       "cos_title_dim_4_tfidf              0.021286\n",
       "cos_title_dim_151_tfidf            0.021904\n",
       "cos_title_dim_85_tfidf             0.022214\n",
       "cos_title_dim_160_tfidf            0.024239\n",
       "freq_title_<10                     0.026406\n",
       "cos_synopsis_dim_60_tfidf          0.026512\n",
       "cos_title_dim_71_tfidf             0.027563\n",
       "cos_title_dim_2_tfidf              0.029200\n",
       "cos_title_dim_136_tfidf            0.029221\n",
       "cos_title_dim_81_tfidf             0.031095\n",
       "cos_title_dim_50_tfidf             0.032402\n",
       "cos_title_dim_171_tfidf            0.032737\n",
       "cos_title_dim_22_tfidf             0.033109\n",
       "freq_synopsis_20-30                0.034780\n",
       "cos_synopsis_dim_121_tfidf         0.035366\n",
       "cos_title_dim_51_tfidf             0.035773\n",
       "cos_synopsis_dim_66_tfidf          0.035922\n",
       "freq_synopsis_10-20                0.041362\n",
       "cos_title_dim_143_tfidf            0.042611\n",
       "cos_title_dim_170_tfidf            0.047937\n",
       "cos_synopsis_dim_59_tfidf          0.050896\n",
       "cos_synopsis_dim_24_tfidf          0.051829\n",
       "freq_synopsis_80-90                0.053745\n",
       "cos_title_dim_17_tfidf             0.055264\n",
       "cos_synopsis_dim_20_tfidf          0.071958\n",
       "adjusted_total_gross_per_cinema    1.000000\n",
       "Name: adjusted_total_gross_per_cinema, Length: 369, dtype: float64"
      ]
     },
     "execution_count": 1158,
     "metadata": {},
     "output_type": "execute_result"
    }
   ],
   "source": [
    "no_blockbuster[[x for x in no_blockbuster.columns if 'tfidf' in x or 'freq' in x] + ['adjusted_total_gross_per_cinema']].corr()['adjusted_total_gross_per_cinema'].sort_values()"
   ]
  },
  {
   "cell_type": "markdown",
   "metadata": {},
   "source": [
    "Top 5 Negatively correlated:\n",
    "* Synopsis Dim 47: emotion_negative\n",
    "* Synopsis Dim 164: the lover\n",
    "* Synopsis Dim 81: kompliziert\n",
    "* Synopsis Dim 157: unpleasant\n",
    "* Synopsis Dim 167: we\n",
    "\n",
    "Top 5 Positively correlated:\n",
    "* Synopsis Dim 20 : breakfast items\n",
    "* Title Dim 17 : blue collar\n",
    "* Frequency 80-90\n",
    "* Synopsis Dim 24 : cheese\n",
    "* Synopsis Dim 59 : fish"
   ]
  },
  {
   "cell_type": "markdown",
   "metadata": {},
   "source": [
    "## Classification Model\n",
    "Objective: Build a simple logistic regression model that predicts adjusted total gross per cinema from similarity of titles/ synopses with Neuroflash dimensions as well as embedding work ranks.\n",
    "\n",
    "We define three buckets: 0 for low-gross movies (below 15000 USD), 1 for mid-gross (15000-30000), 2 for high gross (above 30000)"
   ]
  },
  {
   "cell_type": "code",
   "execution_count": 549,
   "metadata": {
    "collapsed": true
   },
   "outputs": [
    {
     "name": "stderr",
     "output_type": "stream",
     "text": [
      "/Users/piocalderon/anaconda/lib/python3.6/site-packages/ipykernel_launcher.py:1: SettingWithCopyWarning: \n",
      "A value is trying to be set on a copy of a slice from a DataFrame.\n",
      "Try using .loc[row_indexer,col_indexer] = value instead\n",
      "\n",
      "See the caveats in the documentation: http://pandas.pydata.org/pandas-docs/stable/indexing.html#indexing-view-versus-copy\n",
      "  \"\"\"Entry point for launching an IPython kernel.\n"
     ]
    }
   ],
   "source": [
    "no_blockbuster['gross_bracket'] = pd.cut(no_blockbuster['adjusted_total_gross_per_cinema'], [0, 15000, 30000, 50000], labels = [0, 1, 2])"
   ]
  },
  {
   "cell_type": "code",
   "execution_count": 550,
   "metadata": {},
   "outputs": [
    {
     "data": {
      "text/plain": [
       "0    2153\n",
       "1     683\n",
       "2     241\n",
       "Name: gross_bracket, dtype: int64"
      ]
     },
     "execution_count": 550,
     "metadata": {},
     "output_type": "execute_result"
    }
   ],
   "source": [
    "no_blockbuster['gross_bracket'].value_counts()"
   ]
  },
  {
   "cell_type": "code",
   "execution_count": 1226,
   "metadata": {},
   "outputs": [],
   "source": [
    "def split_dataset_for_genre_classification(pc, emb, genre = '', var = 'gross_bracket', tfidf = False, whole = False):\n",
    "    \"\"\"\n",
    "        Split train and tests sets for the specific genre\n",
    "        \n",
    "        Input:\n",
    "            pc : dataframe of features\n",
    "            genre : genre to filter\n",
    "            var : box office performance metric\n",
    "            w2v : whether to include word2vec features\n",
    "            whole: whether to train on whole dataset or not\n",
    "        Output:\n",
    "            X_train : input training set\n",
    "            X_test : input test set\n",
    "            y_train : output training set\n",
    "            y_test : output test set\n",
    "            column_names : list of feature names\n",
    "    \"\"\"\n",
    "    \n",
    "    # check whether genre is provided\n",
    "    # if yes, filter pc by genre\n",
    "    if genre == '':\n",
    "        pc = pc\n",
    "    else:\n",
    "        pc = pc[pc['genre1'] == genre]\n",
    "    \n",
    "    # only retain rows with non-null performance metric\n",
    "    pc = pc[~pc[var].isnull()]\n",
    "    \n",
    "    column_names = ['tokenized_words', 'wiki_tokenized_words', 'wv_title', 'wv_synopsis', var]\n",
    "    X = pc[column_names]\n",
    "    \n",
    "    if whole:\n",
    "        X_train = X\n",
    "        y_train = pc[var]\n",
    "    \n",
    "    else:\n",
    "        # split 50-25-25 train-validation-test split\n",
    "        X_trainval, X_test, y_trainval, y_test = train_test_split(X,\n",
    "                pc[var], test_size=0.25, stratify = pc[var], random_state=0)\n",
    "        X_train, X_val, y_train, y_val = train_test_split(X,\n",
    "                pc[var], test_size=1/3, stratify = pc[var], random_state=0)\n",
    "        X_train = pd.DataFrame(X_train, columns=column_names)\n",
    "        X_val = pd.DataFrame(X_val, columns=column_names)\n",
    "        X_test = pd.DataFrame(X_test, columns=column_names)\n",
    "\n",
    "    dict_synopsis = Dictionary(X_train['wiki_tokenized_words'].values)\n",
    "    dict_title = Dictionary(X_train['tokenized_words'].values)\n",
    "\n",
    "    corpus_synopsis_train = [dict_synopsis.doc2bow(line) for line in X_train['wiki_tokenized_words'].values]\n",
    "    corpus_title_train = [dict_title.doc2bow(line) for line in X_train['tokenized_words'].values]\n",
    "\n",
    "    model_synopsis = TfidfModel(corpus_synopsis_train, id2word=dict_synopsis) \n",
    "    model_title = TfidfModel(corpus_title_train, id2word=dict_title) \n",
    "\n",
    "    if tfidf:\n",
    "        X_train['wiki_tfidf_map'] = corpus_synopsis_train\n",
    "        X_train['tfidf_map'] = corpus_title_train\n",
    "        X_train['wiki_tfidf_map'] = X_train['wiki_tfidf_map'].map(lambda x: dict(model_synopsis[x]))\n",
    "        X_train['tfidf_map'] = X_train['tfidf_map'].map(lambda x: dict(model_title[x]))\n",
    "        X_train = X_train.apply(lambda x: get_tfidf_wv(x, emb, dict_synopsis, 'wiki_tokenized_words'), axis=1)\n",
    "        X_train = X_train.apply(lambda x: get_tfidf_wv(x, emb, dict_title, 'tokenized_words'), axis=1)   \n",
    "\n",
    "    X_train = X_train.apply(lambda x: get_similarity_with_dimensions(x, 'title', dimensions, tfidf=tfidf), axis=1)\n",
    "    X_train = X_train.apply(lambda x: get_similarity_with_dimensions(x, 'synopsis', dimensions, tfidf=tfidf), axis=1)    \n",
    "\n",
    "    if tfidf:\n",
    "        column_names = [x for x in X_train.columns if ((x.startswith('cos') and x.endswith('tfidf')))]\n",
    "    else:\n",
    "        column_names = [x for x in X_train.columns if (x.startswith('cos'))]\n",
    "\n",
    "    X_train = pd.concat([X_train[column_names], no_blockbuster.loc[X_train.index,:][[x for x in pc.columns if 'freq' in x]]], axis=1)\n",
    "    \n",
    "    pad = X_train.mean()\n",
    "    X_train = X_train.fillna(pad)\n",
    "    \n",
    "    if whole:\n",
    "        return X_train, None, None, y_train, None, None\n",
    "\n",
    "    else:\n",
    "        \n",
    "        corpus_synopsis_val = [dict_synopsis.doc2bow(line) for line in X_val['wiki_tokenized_words'].values]\n",
    "        corpus_title_val = [dict_title.doc2bow(line) for line in X_val['tokenized_words'].values]\n",
    "\n",
    "        corpus_synopsis_test = [dict_synopsis.doc2bow(line) for line in X_test['wiki_tokenized_words'].values]\n",
    "        corpus_title_test = [dict_title.doc2bow(line) for line in X_test['tokenized_words'].values]\n",
    "\n",
    "        if tfidf:\n",
    "            X_val['wiki_tfidf_map'] = corpus_synopsis_val\n",
    "            X_val['tfidf_map'] = corpus_title_val\n",
    "            X_val['wiki_tfidf_map'] = X_val['wiki_tfidf_map'].map(lambda x: dict(model_synopsis[x]))\n",
    "            X_val['tfidf_map'] = X_val['tfidf_map'].map(lambda x: dict(model_title[x]))\n",
    "            X_val = X_val.apply(lambda x: get_tfidf_wv(x, emb, dict_synopsis), axis=1)\n",
    "            X_val = X_val.apply(lambda x: get_tfidf_wv(x, emb, dict_title, 'tokenized_words'), axis=1)\n",
    "\n",
    "        X_val = X_val.apply(lambda x: get_similarity_with_dimensions(x, 'title', dimensions, tfidf=tfidf), axis=1)\n",
    "        X_val = X_val.apply(lambda x: get_similarity_with_dimensions(x, 'synopsis', dimensions, tfidf=tfidf), axis=1)    \n",
    "\n",
    "        X_val = X_val.fillna(pad)\n",
    "\n",
    "        X_val = pd.concat([X_val[column_names], no_blockbuster.loc[X_val.index,:][[x for x in pc.columns if 'freq' in x]]], axis=1)\n",
    "\n",
    "        if tfidf:\n",
    "            X_test['wiki_tfidf_map'] = corpus_synopsis_test\n",
    "            X_test['tfidf_map'] = corpus_title_test\n",
    "            X_test['wiki_tfidf_map'] = X_test['wiki_tfidf_map'].map(lambda x: dict(model_synopsis[x]))\n",
    "            X_test['tfidf_map'] = X_test['tfidf_map'].map(lambda x: dict(model_title[x]))\n",
    "            X_test = X_test.apply(lambda x: get_tfidf_wv(x, emb, dict_synopsis), axis=1)\n",
    "            X_test = X_test.apply(lambda x: get_tfidf_wv(x, emb, dict_title, 'tokenized_words'), axis=1)\n",
    "\n",
    "        X_test = X_test.apply(lambda x: get_similarity_with_dimensions(x, 'title', dimensions, tfidf=tfidf), axis=1)\n",
    "        X_test = X_test.apply(lambda x: get_similarity_with_dimensions(x, 'synopsis', dimensions, tfidf=tfidf), axis=1)    \n",
    "\n",
    "        X_test = X_test.fillna(pad)\n",
    "\n",
    "        X_test = pd.concat([X_test[column_names], no_blockbuster.loc[X_test.index,:][[x for x in no_blockbuster.columns if 'freq' in x]]], axis=1)\n",
    "\n",
    "        return X_train, X_val, X_test, y_train, y_val, y_test   "
   ]
  },
  {
   "cell_type": "code",
   "execution_count": 1251,
   "metadata": {
    "collapsed": true
   },
   "outputs": [],
   "source": [
    "def train_model(modeltype, X_train, y_train, C=1):\n",
    "    \"\"\"\n",
    "        Train chosen model.\n",
    "        \n",
    "        Input:\n",
    "            modeltype : 'lr'. I wrote this to be extendable easily.\n",
    "            X_train : input training set\n",
    "            y_train : output training set\n",
    "        Output:\n",
    "            model : trained linear regression model\n",
    "    \"\"\"\n",
    "\n",
    "    if modeltype == 'lr':\n",
    "        model = LogisticRegression(class_weight='balanced', C=C)\n",
    "    model.fit(X_train, y_train)\n",
    "    return model"
   ]
  },
  {
   "cell_type": "code",
   "execution_count": 1286,
   "metadata": {
    "collapsed": true
   },
   "outputs": [],
   "source": [
    "def evaluate_model(model, X, y):\n",
    "    \"\"\"\n",
    "        Evaluate trained model.\n",
    "        \n",
    "        Input:\n",
    "            X : input to model\n",
    "            y : output to predict\n",
    "    \"\"\"\n",
    "    \n",
    "    print('accuracy : {}'.format(model.score(X, y)))\n",
    "    print(classification_report(y, model.predict(X)))\n",
    "    print(confusion_matrix(y, model.predict(X)))"
   ]
  },
  {
   "cell_type": "code",
   "execution_count": 1324,
   "metadata": {
    "collapsed": true
   },
   "outputs": [],
   "source": [
    "def plot_most_relevant_features(model, column_names, n=5):\n",
    "    \"\"\"\n",
    "        Plot the features which have the highest effect on\n",
    "        box office performance based on the mode.\n",
    "        \n",
    "        Input:\n",
    "            model : trained LR model\n",
    "            column_names : list of features\n",
    "            n : number of features to include (in one direction)\n",
    "    \"\"\"\n",
    "    \n",
    "    coef_low = model.coef_[0]\n",
    "    coef_medium = model.coef_[1]\n",
    "    coef_high = model.coef_[2]\n",
    "    \n",
    "    coef_low_sorted = list(coef_low[np.argsort(-coef_low)])\n",
    "    columns_low_sorted = list(np.array(column_names)[np.argsort(-coef_low)])\n",
    "    coef_medium_sorted = list(coef_medium[np.argsort(-coef_medium)])\n",
    "    columns_medium_sorted = list(np.array(column_names)[np.argsort(-coef_medium)])\n",
    "    coef_high_sorted = list(coef_high[np.argsort(-coef_high)])\n",
    "    columns_high_sorted = list(np.array(column_names)[np.argsort(-coef_high)])    \n",
    "\n",
    "    plt.figure(figsize=(15,6))\n",
    "    \n",
    "    plt.subplot(131)\n",
    "    plt.bar(range(2*n), coef_low_sorted[:n] + coef_low_sorted[-n:])\n",
    "    plt.xticks(range(2*n), columns_low_sorted[:n] + columns_low_sorted[-n:], rotation=270, size=15)\n",
    "    plt.yticks(size=15)\n",
    "    plt.ylabel('Coefficient', size=20)\n",
    "    plt.title('Low gross', size=21);\n",
    "    \n",
    "    plt.subplot(132)\n",
    "    plt.bar(range(2*n), coef_medium_sorted[:n] + coef_medium_sorted[-n:])\n",
    "    plt.xticks(range(2*n), columns_medium_sorted[:n] + columns_medium_sorted[-n:], rotation=270, size=15)\n",
    "    plt.yticks(size=15)\n",
    "    plt.title('Medium gross', size=21);\n",
    "    \n",
    "    plt.subplot(133)\n",
    "    plt.bar(range(2*n), coef_high_sorted[:n] + coef_high_sorted[-n:])\n",
    "    plt.xticks(range(2*n), columns_high_sorted[:n] + columns_high_sorted[-n:], rotation=270, size=15)\n",
    "    plt.yticks(size=15)\n",
    "    plt.title('High gross', size=21);"
   ]
  },
  {
   "cell_type": "markdown",
   "metadata": {},
   "source": [
    "### Using simple vector averaging + word2vec to get sentence vectors"
   ]
  },
  {
   "cell_type": "code",
   "execution_count": 1129,
   "metadata": {},
   "outputs": [],
   "source": [
    "X_train, X_val, X_test, y_train, y_val, y_test = split_dataset_for_genre_classification(no_blockbuster, emb, genre = '', var = 'gross_bracket', tfidf = False, whole = False)"
   ]
  },
  {
   "cell_type": "code",
   "execution_count": 1240,
   "metadata": {},
   "outputs": [],
   "source": [
    "X_train.to_csv('data/simple_X_train.csv')\n",
    "X_val.to_csv('data/simple_X_val.csv')\n",
    "X_test.to_csv('data/simple_X_test.csv')\n",
    "y_train.to_csv('data/simple_y_train.csv')\n",
    "y_val.to_csv('data/simple_y_val.csv')\n",
    "y_test.to_csv('data/simple_y_test.csv')"
   ]
  },
  {
   "cell_type": "code",
   "execution_count": 1291,
   "metadata": {},
   "outputs": [],
   "source": [
    "model_lr_1 = train_model('lr', X_train, y_train, 1)\n",
    "model_lr_10 = train_model('lr', X_train, y_train, 10)\n",
    "model_lr_100 = train_model('lr', X_train, y_train, 100)\n",
    "model_lr_1000 = train_model('lr', X_train, y_train, 1000)"
   ]
  },
  {
   "cell_type": "code",
   "execution_count": 1293,
   "metadata": {},
   "outputs": [
    {
     "name": "stdout",
     "output_type": "stream",
     "text": [
      "accuracy : 0.6705653021442495\n",
      "             precision    recall  f1-score   support\n",
      "\n",
      "          0       0.72      0.93      0.81       718\n",
      "          1       0.30      0.07      0.11       228\n",
      "          2       0.10      0.05      0.07        80\n",
      "\n",
      "avg / total       0.57      0.67      0.60      1026\n",
      "\n",
      "[[668  27  23]\n",
      " [200  16  12]\n",
      " [ 65  11   4]]\n"
     ]
    }
   ],
   "source": [
    "evaluate_model(model_lr_1, X_val, y_val)"
   ]
  },
  {
   "cell_type": "code",
   "execution_count": 1294,
   "metadata": {},
   "outputs": [
    {
     "name": "stdout",
     "output_type": "stream",
     "text": [
      "accuracy : 0.6111111111111112\n",
      "             precision    recall  f1-score   support\n",
      "\n",
      "          0       0.73      0.80      0.76       718\n",
      "          1       0.27      0.18      0.22       228\n",
      "          2       0.14      0.16      0.15        80\n",
      "\n",
      "avg / total       0.58      0.61      0.60      1026\n",
      "\n",
      "[[572  92  54]\n",
      " [162  42  24]\n",
      " [ 45  22  13]]\n"
     ]
    }
   ],
   "source": [
    "evaluate_model(model_lr_10, X_val, y_val)"
   ]
  },
  {
   "cell_type": "code",
   "execution_count": 1295,
   "metadata": {
    "scrolled": true
   },
   "outputs": [
    {
     "name": "stdout",
     "output_type": "stream",
     "text": [
      "accuracy : 0.5769980506822612\n",
      "             precision    recall  f1-score   support\n",
      "\n",
      "          0       0.74      0.73      0.74       718\n",
      "          1       0.26      0.23      0.24       228\n",
      "          2       0.12      0.19      0.15        80\n",
      "\n",
      "avg / total       0.59      0.58      0.58      1026\n",
      "\n",
      "[[525 119  74]\n",
      " [145  52  31]\n",
      " [ 39  26  15]]\n"
     ]
    }
   ],
   "source": [
    "evaluate_model(model_lr_100, X_val, y_val)"
   ]
  },
  {
   "cell_type": "code",
   "execution_count": 1296,
   "metadata": {},
   "outputs": [
    {
     "name": "stdout",
     "output_type": "stream",
     "text": [
      "accuracy : 0.557504873294347\n",
      "             precision    recall  f1-score   support\n",
      "\n",
      "          0       0.74      0.69      0.72       718\n",
      "          1       0.26      0.27      0.27       228\n",
      "          2       0.10      0.15      0.12        80\n",
      "\n",
      "avg / total       0.59      0.56      0.57      1026\n",
      "\n",
      "[[499 141  78]\n",
      " [136  61  31]\n",
      " [ 38  30  12]]\n"
     ]
    }
   ],
   "source": [
    "evaluate_model(model_lr_1000, X_val, y_val)"
   ]
  },
  {
   "cell_type": "markdown",
   "metadata": {},
   "source": [
    "### Using TFIDF weighting + word2vec to get sentence vectors"
   ]
  },
  {
   "cell_type": "code",
   "execution_count": 1237,
   "metadata": {},
   "outputs": [
    {
     "name": "stderr",
     "output_type": "stream",
     "text": [
      "/Users/piocalderon/anaconda/lib/python3.6/site-packages/ipykernel_launcher.py:2: RuntimeWarning: invalid value encountered in double_scalars\n",
      "  \n"
     ]
    }
   ],
   "source": [
    "X_train_tfidf, X_val_tfidf, X_test_tfidf, y_train_tfidf, y_val_tfidf, y_test_tfidf = split_dataset_for_genre_classification(no_blockbuster, emb, genre = '', var = 'gross_bracket', tfidf = True, whole = False)"
   ]
  },
  {
   "cell_type": "code",
   "execution_count": 1241,
   "metadata": {},
   "outputs": [],
   "source": [
    "X_train_tfidf.to_csv('data/tfidf_X_train.csv')\n",
    "X_val_tfidf.to_csv('data/tfidf_X_val.csv')\n",
    "X_test_tfidf.to_csv('data/tfidf_X_test.csv')\n",
    "y_train_tfidf.to_csv('data/tfidf_y_train.csv')\n",
    "y_val_tfidf.to_csv('data/tfidf_y_val.csv')\n",
    "y_test_tfidf.to_csv('data/tfidf_y_test.csv')"
   ]
  },
  {
   "cell_type": "code",
   "execution_count": 1298,
   "metadata": {},
   "outputs": [],
   "source": [
    "model_lr_1_tfidf = train_model('lr', X_train_tfidf, y_train_tfidf, 1)\n",
    "model_lr_10_tfidf = train_model('lr', X_train_tfidf, y_train_tfidf, 10)\n",
    "model_lr_100_tfidf = train_model('lr', X_train_tfidf, y_train_tfidf, 100)\n",
    "model_lr_1000_tfidf = train_model('lr', X_train_tfidf, y_train_tfidf, 1000)"
   ]
  },
  {
   "cell_type": "code",
   "execution_count": 1299,
   "metadata": {},
   "outputs": [
    {
     "name": "stdout",
     "output_type": "stream",
     "text": [
      "accuracy : 0.6608187134502924\n",
      "             precision    recall  f1-score   support\n",
      "\n",
      "          0       0.72      0.90      0.80       718\n",
      "          1       0.32      0.11      0.16       228\n",
      "          2       0.14      0.10      0.12        80\n",
      "\n",
      "avg / total       0.59      0.66      0.61      1026\n",
      "\n",
      "[[645  37  36]\n",
      " [190  25  13]\n",
      " [ 57  15   8]]\n"
     ]
    }
   ],
   "source": [
    "evaluate_model(model_lr_1_tfidf, X_val_tfidf, y_val_tfidf)"
   ]
  },
  {
   "cell_type": "code",
   "execution_count": 1303,
   "metadata": {},
   "outputs": [
    {
     "name": "stdout",
     "output_type": "stream",
     "text": [
      "accuracy : 0.6169590643274854\n",
      "             precision    recall  f1-score   support\n",
      "\n",
      "          0       0.73      0.81      0.77       718\n",
      "          1       0.28      0.18      0.22       228\n",
      "          2       0.13      0.12      0.13        80\n",
      "\n",
      "avg / total       0.58      0.62      0.59      1026\n",
      "\n",
      "[[582  84  52]\n",
      " [170  41  17]\n",
      " [ 49  21  10]]\n"
     ]
    }
   ],
   "source": [
    "evaluate_model(model_lr_10_tfidf, X_val_tfidf, y_val_tfidf)"
   ]
  },
  {
   "cell_type": "code",
   "execution_count": 1305,
   "metadata": {},
   "outputs": [
    {
     "name": "stdout",
     "output_type": "stream",
     "text": [
      "accuracy : 0.5964912280701754\n",
      "             precision    recall  f1-score   support\n",
      "\n",
      "          0       0.72      0.78      0.75       718\n",
      "          1       0.26      0.19      0.22       228\n",
      "          2       0.14      0.15      0.14        80\n",
      "\n",
      "avg / total       0.57      0.60      0.58      1026\n",
      "\n",
      "[[557 106  55]\n",
      " [166  43  19]\n",
      " [ 49  19  12]]\n"
     ]
    }
   ],
   "source": [
    "evaluate_model(model_lr_100_tfidf, X_val_tfidf, y_val_tfidf)"
   ]
  },
  {
   "cell_type": "code",
   "execution_count": 1306,
   "metadata": {},
   "outputs": [
    {
     "name": "stdout",
     "output_type": "stream",
     "text": [
      "accuracy : 0.5662768031189084\n",
      "             precision    recall  f1-score   support\n",
      "\n",
      "          0       0.71      0.74      0.72       718\n",
      "          1       0.24      0.19      0.21       228\n",
      "          2       0.09      0.11      0.10        80\n",
      "\n",
      "avg / total       0.56      0.57      0.56      1026\n",
      "\n",
      "[[528 122  68]\n",
      " [161  44  23]\n",
      " [ 51  20   9]]\n"
     ]
    }
   ],
   "source": [
    "evaluate_model(model_lr_1000_tfidf, X_val_tfidf, y_val_tfidf)"
   ]
  },
  {
   "cell_type": "markdown",
   "metadata": {},
   "source": [
    "Judging by accuracy, I should go by averaging and C = 1\n",
    "\n",
    "Judging by F1, I should go by TFIDF and C = 1"
   ]
  },
  {
   "cell_type": "code",
   "execution_count": 1308,
   "metadata": {},
   "outputs": [
    {
     "name": "stdout",
     "output_type": "stream",
     "text": [
      "accuracy : 0.6714285714285714\n",
      "             precision    recall  f1-score   support\n",
      "\n",
      "          0       0.72      0.93      0.81       539\n",
      "          1       0.32      0.08      0.12       171\n",
      "          2       0.11      0.07      0.08        60\n",
      "\n",
      "avg / total       0.58      0.67      0.60       770\n",
      "\n",
      "[[500  19  20]\n",
      " [147  13  11]\n",
      " [ 47   9   4]]\n"
     ]
    }
   ],
   "source": [
    "evaluate_model(model_lr_1, X_test, y_test)"
   ]
  },
  {
   "cell_type": "code",
   "execution_count": 1307,
   "metadata": {},
   "outputs": [
    {
     "name": "stdout",
     "output_type": "stream",
     "text": [
      "accuracy : 0.6584415584415585\n",
      "             precision    recall  f1-score   support\n",
      "\n",
      "          0       0.73      0.89      0.80       539\n",
      "          1       0.32      0.11      0.16       171\n",
      "          2       0.14      0.12      0.13        60\n",
      "\n",
      "avg / total       0.59      0.66      0.61       770\n",
      "\n",
      "[[482  27  30]\n",
      " [141  18  12]\n",
      " [ 41  12   7]]\n"
     ]
    }
   ],
   "source": [
    "evaluate_model(model_lr_1_tfidf, X_test_tfidf, y_test_tfidf)"
   ]
  },
  {
   "cell_type": "markdown",
   "metadata": {},
   "source": [
    "Assuming we go with TFIDF + C=1"
   ]
  },
  {
   "cell_type": "code",
   "execution_count": 1325,
   "metadata": {},
   "outputs": [
    {
     "data": {
      "image/png": "[encoded data removed]",
      "text/plain": [
       "<matplotlib.figure.Figure at 0x166dd19e8>"
      ]
     },
     "metadata": {},
     "output_type": "display_data"
    }
   ],
   "source": [
    "plot_most_relevant_features(model_lr_1_tfidf, list(X_train.columns))"
   ]
  },
  {
   "cell_type": "markdown",
   "metadata": {},
   "source": [
    "Positively associated with low grossing movies:"
   ]
  },
  {
   "cell_type": "code",
   "execution_count": 1374,
   "metadata": {},
   "outputs": [
    {
     "data": {
      "text/html": [
       "<div>\n",
       "<style scoped>\n",
       "    .dataframe tbody tr th:only-of-type {\n",
       "        vertical-align: middle;\n",
       "    }\n",
       "\n",
       "    .dataframe tbody tr th {\n",
       "        vertical-align: top;\n",
       "    }\n",
       "\n",
       "    .dataframe thead th {\n",
       "        text-align: right;\n",
       "    }\n",
       "</style>\n",
       "<table border=\"1\" class=\"dataframe\">\n",
       "  <thead>\n",
       "    <tr style=\"text-align: right;\">\n",
       "      <th></th>\n",
       "      <th>en_label</th>\n",
       "      <th>tokenized</th>\n",
       "    </tr>\n",
       "  </thead>\n",
       "  <tbody>\n",
       "    <tr>\n",
       "      <th>22</th>\n",
       "      <td>career</td>\n",
       "      <td>[executive, management, professional, corporat...</td>\n",
       "    </tr>\n",
       "    <tr>\n",
       "      <th>125</th>\n",
       "      <td>sport</td>\n",
       "      <td>[sport, volleyball, basketball, fussball, hand...</td>\n",
       "    </tr>\n",
       "    <tr>\n",
       "      <th>163</th>\n",
       "      <td>valuable</td>\n",
       "      <td>[valuable, good_reputation, prestigious, recog...</td>\n",
       "    </tr>\n",
       "    <tr>\n",
       "      <th>83</th>\n",
       "      <td>lifestyle</td>\n",
       "      <td>[life, lifestyle, freedom]</td>\n",
       "    </tr>\n",
       "    <tr>\n",
       "      <th>131</th>\n",
       "      <td>technical</td>\n",
       "      <td>[technical, high_tech, industrial, mechanical,...</td>\n",
       "    </tr>\n",
       "  </tbody>\n",
       "</table>\n",
       "</div>"
      ],
      "text/plain": [
       "      en_label                                          tokenized\n",
       "22      career  [executive, management, professional, corporat...\n",
       "125      sport  [sport, volleyball, basketball, fussball, hand...\n",
       "163   valuable  [valuable, good_reputation, prestigious, recog...\n",
       "83   lifestyle                         [life, lifestyle, freedom]\n",
       "131  technical  [technical, high_tech, industrial, mechanical,..."
      ]
     },
     "execution_count": 1374,
     "metadata": {},
     "output_type": "execute_result"
    }
   ],
   "source": [
    "dimensions[['en_label', 'tokenized']].iloc[[22,125,163, 83, 131]]"
   ]
  },
  {
   "cell_type": "markdown",
   "metadata": {},
   "source": [
    "Negatively associated with low grossing movies:"
   ]
  },
  {
   "cell_type": "code",
   "execution_count": 1373,
   "metadata": {},
   "outputs": [
    {
     "data": {
      "text/html": [
       "<div>\n",
       "<style scoped>\n",
       "    .dataframe tbody tr th:only-of-type {\n",
       "        vertical-align: middle;\n",
       "    }\n",
       "\n",
       "    .dataframe tbody tr th {\n",
       "        vertical-align: top;\n",
       "    }\n",
       "\n",
       "    .dataframe thead th {\n",
       "        text-align: right;\n",
       "    }\n",
       "</style>\n",
       "<table border=\"1\" class=\"dataframe\">\n",
       "  <thead>\n",
       "    <tr style=\"text-align: right;\">\n",
       "      <th></th>\n",
       "      <th>en_label</th>\n",
       "      <th>tokenized</th>\n",
       "    </tr>\n",
       "  </thead>\n",
       "  <tbody>\n",
       "    <tr>\n",
       "      <th>20</th>\n",
       "      <td>breakfast items</td>\n",
       "      <td>[cheese, yoghurt, fat, oil, baguette, croissan...</td>\n",
       "    </tr>\n",
       "    <tr>\n",
       "      <th>130</th>\n",
       "      <td>teaching</td>\n",
       "      <td>[teaching, teach, learning, learn, course]</td>\n",
       "    </tr>\n",
       "    <tr>\n",
       "      <th>59</th>\n",
       "      <td>fish</td>\n",
       "      <td>[fish, blue]</td>\n",
       "    </tr>\n",
       "    <tr>\n",
       "      <th>110</th>\n",
       "      <td>philharmonics</td>\n",
       "      <td>[philharmonic, philharmonics, classical, classic]</td>\n",
       "    </tr>\n",
       "    <tr>\n",
       "      <th>121</th>\n",
       "      <td>science</td>\n",
       "      <td>[science, technology, physics, chemistry, eins...</td>\n",
       "    </tr>\n",
       "  </tbody>\n",
       "</table>\n",
       "</div>"
      ],
      "text/plain": [
       "            en_label                                          tokenized\n",
       "20   breakfast items  [cheese, yoghurt, fat, oil, baguette, croissan...\n",
       "130         teaching         [teaching, teach, learning, learn, course]\n",
       "59              fish                                       [fish, blue]\n",
       "110    philharmonics  [philharmonic, philharmonics, classical, classic]\n",
       "121          science  [science, technology, physics, chemistry, eins..."
      ]
     },
     "execution_count": 1373,
     "metadata": {},
     "output_type": "execute_result"
    }
   ],
   "source": [
    "dimensions[['en_label', 'tokenized']].iloc[[20, 130, 59, 110, 121]]"
   ]
  },
  {
   "cell_type": "markdown",
   "metadata": {},
   "source": [
    "Positively associated with medium grossing movies:"
   ]
  },
  {
   "cell_type": "code",
   "execution_count": 1372,
   "metadata": {},
   "outputs": [
    {
     "data": {
      "text/html": [
       "<div>\n",
       "<style scoped>\n",
       "    .dataframe tbody tr th:only-of-type {\n",
       "        vertical-align: middle;\n",
       "    }\n",
       "\n",
       "    .dataframe tbody tr th {\n",
       "        vertical-align: top;\n",
       "    }\n",
       "\n",
       "    .dataframe thead th {\n",
       "        text-align: right;\n",
       "    }\n",
       "</style>\n",
       "<table border=\"1\" class=\"dataframe\">\n",
       "  <thead>\n",
       "    <tr style=\"text-align: right;\">\n",
       "      <th></th>\n",
       "      <th>en_label</th>\n",
       "      <th>tokenized</th>\n",
       "    </tr>\n",
       "  </thead>\n",
       "  <tbody>\n",
       "    <tr>\n",
       "      <th>59</th>\n",
       "      <td>fish</td>\n",
       "      <td>[fish, blue]</td>\n",
       "    </tr>\n",
       "    <tr>\n",
       "      <th>110</th>\n",
       "      <td>philharmonics</td>\n",
       "      <td>[philharmonic, philharmonics, classical, classic]</td>\n",
       "    </tr>\n",
       "    <tr>\n",
       "      <th>17</th>\n",
       "      <td>blue_collar</td>\n",
       "      <td>[carpenter, plumber, trucker, janitor, mechanic]</td>\n",
       "    </tr>\n",
       "    <tr>\n",
       "      <th>40</th>\n",
       "      <td>innovative</td>\n",
       "      <td>[innovative, advanced, modern, progressive, av...</td>\n",
       "    </tr>\n",
       "    <tr>\n",
       "      <th>121</th>\n",
       "      <td>science</td>\n",
       "      <td>[science, technology, physics, chemistry, eins...</td>\n",
       "    </tr>\n",
       "  </tbody>\n",
       "</table>\n",
       "</div>"
      ],
      "text/plain": [
       "          en_label                                          tokenized\n",
       "59            fish                                       [fish, blue]\n",
       "110  philharmonics  [philharmonic, philharmonics, classical, classic]\n",
       "17     blue_collar   [carpenter, plumber, trucker, janitor, mechanic]\n",
       "40      innovative  [innovative, advanced, modern, progressive, av...\n",
       "121        science  [science, technology, physics, chemistry, eins..."
      ]
     },
     "execution_count": 1372,
     "metadata": {},
     "output_type": "execute_result"
    }
   ],
   "source": [
    "dimensions[['en_label', 'tokenized']].iloc[[59, 110, 17, 40, 121]]"
   ]
  },
  {
   "cell_type": "markdown",
   "metadata": {},
   "source": [
    "Negatively associated with medium grossing movies:"
   ]
  },
  {
   "cell_type": "code",
   "execution_count": 1371,
   "metadata": {},
   "outputs": [
    {
     "data": {
      "text/html": [
       "<div>\n",
       "<style scoped>\n",
       "    .dataframe tbody tr th:only-of-type {\n",
       "        vertical-align: middle;\n",
       "    }\n",
       "\n",
       "    .dataframe tbody tr th {\n",
       "        vertical-align: top;\n",
       "    }\n",
       "\n",
       "    .dataframe thead th {\n",
       "        text-align: right;\n",
       "    }\n",
       "</style>\n",
       "<table border=\"1\" class=\"dataframe\">\n",
       "  <thead>\n",
       "    <tr style=\"text-align: right;\">\n",
       "      <th></th>\n",
       "      <th>en_label</th>\n",
       "      <th>tokenized</th>\n",
       "    </tr>\n",
       "  </thead>\n",
       "  <tbody>\n",
       "    <tr>\n",
       "      <th>22</th>\n",
       "      <td>career</td>\n",
       "      <td>[executive, management, professional, corporat...</td>\n",
       "    </tr>\n",
       "    <tr>\n",
       "      <th>125</th>\n",
       "      <td>sport</td>\n",
       "      <td>[sport, volleyball, basketball, fussball, hand...</td>\n",
       "    </tr>\n",
       "    <tr>\n",
       "      <th>106</th>\n",
       "      <td>new</td>\n",
       "      <td>[new, fresh, all_new, brand_new, model]</td>\n",
       "    </tr>\n",
       "    <tr>\n",
       "      <th>51</th>\n",
       "      <td>evaluating</td>\n",
       "      <td>[evaluating, appraise, assess, calculate, clas...</td>\n",
       "    </tr>\n",
       "    <tr>\n",
       "      <th>140</th>\n",
       "      <td>thejester</td>\n",
       "      <td>[jester, lighten_up, great_time, play, jokes, ...</td>\n",
       "    </tr>\n",
       "  </tbody>\n",
       "</table>\n",
       "</div>"
      ],
      "text/plain": [
       "       en_label                                          tokenized\n",
       "22       career  [executive, management, professional, corporat...\n",
       "125       sport  [sport, volleyball, basketball, fussball, hand...\n",
       "106         new            [new, fresh, all_new, brand_new, model]\n",
       "51   evaluating  [evaluating, appraise, assess, calculate, clas...\n",
       "140   thejester  [jester, lighten_up, great_time, play, jokes, ..."
      ]
     },
     "execution_count": 1371,
     "metadata": {},
     "output_type": "execute_result"
    }
   ],
   "source": [
    "dimensions[['en_label', 'tokenized']].iloc[[22, 125, 106, 51, 140]]"
   ]
  },
  {
   "cell_type": "markdown",
   "metadata": {},
   "source": [
    "Positively associated with high grossing movies:"
   ]
  },
  {
   "cell_type": "code",
   "execution_count": 1370,
   "metadata": {},
   "outputs": [
    {
     "data": {
      "text/html": [
       "<div>\n",
       "<style scoped>\n",
       "    .dataframe tbody tr th:only-of-type {\n",
       "        vertical-align: middle;\n",
       "    }\n",
       "\n",
       "    .dataframe tbody tr th {\n",
       "        vertical-align: top;\n",
       "    }\n",
       "\n",
       "    .dataframe thead th {\n",
       "        text-align: right;\n",
       "    }\n",
       "</style>\n",
       "<table border=\"1\" class=\"dataframe\">\n",
       "  <thead>\n",
       "    <tr style=\"text-align: right;\">\n",
       "      <th></th>\n",
       "      <th>en_label</th>\n",
       "      <th>tokenized</th>\n",
       "    </tr>\n",
       "  </thead>\n",
       "  <tbody>\n",
       "    <tr>\n",
       "      <th>51</th>\n",
       "      <td>evaluating</td>\n",
       "      <td>[evaluating, appraise, assess, calculate, clas...</td>\n",
       "    </tr>\n",
       "    <tr>\n",
       "      <th>130</th>\n",
       "      <td>teaching</td>\n",
       "      <td>[teaching, teach, learning, learn, course]</td>\n",
       "    </tr>\n",
       "    <tr>\n",
       "      <th>1</th>\n",
       "      <td>added_words</td>\n",
       "      <td>[sharing, smart, freedom, safety, comfort]</td>\n",
       "    </tr>\n",
       "    <tr>\n",
       "      <th>73</th>\n",
       "      <td>winner</td>\n",
       "      <td>[winner, champ, first, award, medal, champion,...</td>\n",
       "    </tr>\n",
       "    <tr>\n",
       "      <th>63</th>\n",
       "      <td>friendship</td>\n",
       "      <td>[friendship, friends, friend, buddy, buddies, ...</td>\n",
       "    </tr>\n",
       "  </tbody>\n",
       "</table>\n",
       "</div>"
      ],
      "text/plain": [
       "        en_label                                          tokenized\n",
       "51    evaluating  [evaluating, appraise, assess, calculate, clas...\n",
       "130     teaching         [teaching, teach, learning, learn, course]\n",
       "1    added_words         [sharing, smart, freedom, safety, comfort]\n",
       "73        winner  [winner, champ, first, award, medal, champion,...\n",
       "63    friendship  [friendship, friends, friend, buddy, buddies, ..."
      ]
     },
     "execution_count": 1370,
     "metadata": {},
     "output_type": "execute_result"
    }
   ],
   "source": [
    "dimensions[['en_label', 'tokenized']].iloc[[51, 130, 1, 73, 63]]"
   ]
  },
  {
   "cell_type": "markdown",
   "metadata": {},
   "source": [
    "Negatively associated with high grossing movies:"
   ]
  },
  {
   "cell_type": "code",
   "execution_count": 1369,
   "metadata": {},
   "outputs": [
    {
     "data": {
      "text/html": [
       "<div>\n",
       "<style scoped>\n",
       "    .dataframe tbody tr th:only-of-type {\n",
       "        vertical-align: middle;\n",
       "    }\n",
       "\n",
       "    .dataframe tbody tr th {\n",
       "        vertical-align: top;\n",
       "    }\n",
       "\n",
       "    .dataframe thead th {\n",
       "        text-align: right;\n",
       "    }\n",
       "</style>\n",
       "<table border=\"1\" class=\"dataframe\">\n",
       "  <thead>\n",
       "    <tr style=\"text-align: right;\">\n",
       "      <th></th>\n",
       "      <th>en_label</th>\n",
       "      <th>tokenized</th>\n",
       "    </tr>\n",
       "  </thead>\n",
       "  <tbody>\n",
       "    <tr>\n",
       "      <th>37</th>\n",
       "      <td>design</td>\n",
       "      <td>[design, modern, sleek, slender, form, idea, l...</td>\n",
       "    </tr>\n",
       "    <tr>\n",
       "      <th>63</th>\n",
       "      <td>friendship</td>\n",
       "      <td>[friendship, friends, friend, buddy, buddies, ...</td>\n",
       "    </tr>\n",
       "    <tr>\n",
       "      <th>107</th>\n",
       "      <td>diligent</td>\n",
       "      <td>[conscientious, prompt, dutiful, punctual, har...</td>\n",
       "    </tr>\n",
       "    <tr>\n",
       "      <th>134</th>\n",
       "      <td>thecarer</td>\n",
       "      <td>[neighbor, neighbor, help, helper, selfishness...</td>\n",
       "    </tr>\n",
       "    <tr>\n",
       "      <th>131</th>\n",
       "      <td>technical</td>\n",
       "      <td>[technical, high_tech, industrial, mechanical,...</td>\n",
       "    </tr>\n",
       "  </tbody>\n",
       "</table>\n",
       "</div>"
      ],
      "text/plain": [
       "       en_label                                          tokenized\n",
       "37       design  [design, modern, sleek, slender, form, idea, l...\n",
       "63   friendship  [friendship, friends, friend, buddy, buddies, ...\n",
       "107    diligent  [conscientious, prompt, dutiful, punctual, har...\n",
       "134    thecarer  [neighbor, neighbor, help, helper, selfishness...\n",
       "131   technical  [technical, high_tech, industrial, mechanical,..."
      ]
     },
     "execution_count": 1369,
     "metadata": {},
     "output_type": "execute_result"
    }
   ],
   "source": [
    "dimensions[['en_label', 'tokenized']].iloc[[37, 63, 107, 134, 131]]"
   ]
  },
  {
   "cell_type": "code",
   "execution_count": null,
   "metadata": {
    "collapsed": true
   },
   "outputs": [],
   "source": []
  },
  {
   "cell_type": "markdown",
   "metadata": {},
   "source": [
    "## Let's try running the model for Comedy."
   ]
  },
  {
   "cell_type": "code",
   "execution_count": 1357,
   "metadata": {
    "collapsed": true
   },
   "outputs": [],
   "source": [
    "X_train, X_val, X_test, y_train, y_val, y_test = split_dataset_for_genre_classification(no_blockbuster, emb, genre = 'Comedy', var = 'gross_bracket', tfidf = False, whole = False)"
   ]
  },
  {
   "cell_type": "code",
   "execution_count": 1358,
   "metadata": {
    "collapsed": true
   },
   "outputs": [],
   "source": [
    "model_lr = train_model('lr', X_train, y_train, 1)"
   ]
  },
  {
   "cell_type": "code",
   "execution_count": 1378,
   "metadata": {},
   "outputs": [
    {
     "name": "stdout",
     "output_type": "stream",
     "text": [
      "accuracy : 0.6229508196721312\n",
      "             precision    recall  f1-score   support\n",
      "\n",
      "          0       0.67      0.85      0.75        82\n",
      "          1       0.42      0.17      0.24        29\n",
      "          2       0.17      0.09      0.12        11\n",
      "\n",
      "avg / total       0.57      0.62      0.57       122\n",
      "\n",
      "[[70  7  5]\n",
      " [24  5  0]\n",
      " [10  0  1]]\n"
     ]
    }
   ],
   "source": [
    "evaluate_model(model_lr, X_test, y_test)"
   ]
  },
  {
   "cell_type": "code",
   "execution_count": 1359,
   "metadata": {
    "scrolled": false
   },
   "outputs": [
    {
     "data": {
      "image/png": "[encoded data removed]",
      "text/plain": [
       "<matplotlib.figure.Figure at 0x16768ac50>"
      ]
     },
     "metadata": {},
     "output_type": "display_data"
    }
   ],
   "source": [
    "plot_most_relevant_features(model_lr, list(X_train.columns))"
   ]
  },
  {
   "cell_type": "markdown",
   "metadata": {},
   "source": [
    "Positive association with high grossing:"
   ]
  },
  {
   "cell_type": "code",
   "execution_count": 1368,
   "metadata": {},
   "outputs": [
    {
     "data": {
      "text/html": [
       "<div>\n",
       "<style scoped>\n",
       "    .dataframe tbody tr th:only-of-type {\n",
       "        vertical-align: middle;\n",
       "    }\n",
       "\n",
       "    .dataframe tbody tr th {\n",
       "        vertical-align: top;\n",
       "    }\n",
       "\n",
       "    .dataframe thead th {\n",
       "        text-align: right;\n",
       "    }\n",
       "</style>\n",
       "<table border=\"1\" class=\"dataframe\">\n",
       "  <thead>\n",
       "    <tr style=\"text-align: right;\">\n",
       "      <th></th>\n",
       "      <th>en_label</th>\n",
       "      <th>tokenized</th>\n",
       "    </tr>\n",
       "  </thead>\n",
       "  <tbody>\n",
       "    <tr>\n",
       "      <th>60</th>\n",
       "      <td>flowers</td>\n",
       "      <td>[rose, carnation, tulip, daisy, sunflower, daf...</td>\n",
       "    </tr>\n",
       "    <tr>\n",
       "      <th>10</th>\n",
       "      <td>bad</td>\n",
       "      <td>[bad]</td>\n",
       "    </tr>\n",
       "    <tr>\n",
       "      <th>143</th>\n",
       "      <td>theruler</td>\n",
       "      <td>[ruler, power, prosperous, successful, family,...</td>\n",
       "    </tr>\n",
       "    <tr>\n",
       "      <th>58</th>\n",
       "      <td>female</td>\n",
       "      <td>[female, woman, girl, sister, she, her, hers, ...</td>\n",
       "    </tr>\n",
       "  </tbody>\n",
       "</table>\n",
       "</div>"
      ],
      "text/plain": [
       "     en_label                                          tokenized\n",
       "60    flowers  [rose, carnation, tulip, daisy, sunflower, daf...\n",
       "10        bad                                              [bad]\n",
       "143  theruler  [ruler, power, prosperous, successful, family,...\n",
       "58     female  [female, woman, girl, sister, she, her, hers, ..."
      ]
     },
     "execution_count": 1368,
     "metadata": {},
     "output_type": "execute_result"
    }
   ],
   "source": [
    "dimensions[['en_label', 'tokenized']].iloc[[60, 10, 143, 58]]"
   ]
  },
  {
   "cell_type": "markdown",
   "metadata": {},
   "source": [
    "Positive association with low grossing:"
   ]
  },
  {
   "cell_type": "code",
   "execution_count": 1367,
   "metadata": {},
   "outputs": [
    {
     "data": {
      "text/html": [
       "<div>\n",
       "<style scoped>\n",
       "    .dataframe tbody tr th:only-of-type {\n",
       "        vertical-align: middle;\n",
       "    }\n",
       "\n",
       "    .dataframe tbody tr th {\n",
       "        vertical-align: top;\n",
       "    }\n",
       "\n",
       "    .dataframe thead th {\n",
       "        text-align: right;\n",
       "    }\n",
       "</style>\n",
       "<table border=\"1\" class=\"dataframe\">\n",
       "  <thead>\n",
       "    <tr style=\"text-align: right;\">\n",
       "      <th></th>\n",
       "      <th>en_label</th>\n",
       "      <th>tokenized</th>\n",
       "    </tr>\n",
       "  </thead>\n",
       "  <tbody>\n",
       "    <tr>\n",
       "      <th>146</th>\n",
       "      <td>NaN</td>\n",
       "      <td>[old, traditional, ancestral, hereditary, brou...</td>\n",
       "    </tr>\n",
       "    <tr>\n",
       "      <th>83</th>\n",
       "      <td>lifestyle</td>\n",
       "      <td>[life, lifestyle, freedom]</td>\n",
       "    </tr>\n",
       "    <tr>\n",
       "      <th>40</th>\n",
       "      <td>innovative</td>\n",
       "      <td>[innovative, advanced, modern, progressive, av...</td>\n",
       "    </tr>\n",
       "  </tbody>\n",
       "</table>\n",
       "</div>"
      ],
      "text/plain": [
       "       en_label                                          tokenized\n",
       "146         NaN  [old, traditional, ancestral, hereditary, brou...\n",
       "83    lifestyle                         [life, lifestyle, freedom]\n",
       "40   innovative  [innovative, advanced, modern, progressive, av..."
      ]
     },
     "execution_count": 1367,
     "metadata": {},
     "output_type": "execute_result"
    }
   ],
   "source": [
    "dimensions[['en_label', 'tokenized']].iloc[[146, 83, 40]]"
   ]
  },
  {
   "cell_type": "code",
   "execution_count": null,
   "metadata": {
    "collapsed": true
   },
   "outputs": [],
   "source": []
  },
  {
   "cell_type": "markdown",
   "metadata": {},
   "source": [
    "# Conclusion"
   ]
  },
  {
   "cell_type": "markdown",
   "metadata": {},
   "source": [
    "* Word rank of title/synopsis doesn't seem to be correlated that much with success of a movie.\n",
    "* Our LR model says that the similarity of the synopsis to the career dimension is associated with high probability of beign a low grosser. On the other side, films with titles semantically linked to evaluating and teaching have high probability of being a high grosser.\n",
    "* From our sample for Comedy, we see that flowers, bad, female correlate with high gross, while traditional, lifestyle, innovative correlate with low gross."
   ]
  },
  {
   "cell_type": "code",
   "execution_count": null,
   "metadata": {
    "collapsed": true
   },
   "outputs": [],
   "source": []
  }
 ],
 "metadata": {
  "kernelspec": {
   "display_name": "Python 3",
   "language": "python",
   "name": "python3"
  },
  "language_info": {
   "codemirror_mode": {
    "name": "ipython",
    "version": 3
   },
   "file_extension": ".py",
   "mimetype": "text/x-python",
   "name": "python",
   "nbconvert_exporter": "python",
   "pygments_lexer": "ipython3",
   "version": "3.6.1"
  }
 },
 "nbformat": 4,
 "nbformat_minor": 2
}
