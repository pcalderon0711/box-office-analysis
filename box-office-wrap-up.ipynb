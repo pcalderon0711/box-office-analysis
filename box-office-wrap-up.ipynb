{
 "cells": [
  {
   "cell_type": "code",
   "execution_count": 250,
   "metadata": {
    "collapsed": true
   },
   "outputs": [],
   "source": [
    "import pandas as pd\n",
    "import numpy as np\n",
    "from nltk import word_tokenize\n",
    "import gensim\n",
    "from sklearn.ensemble import RandomForestClassifier\n",
    "from sklearn.preprocessing import StandardScaler\n",
    "from sklearn.cross_validation import train_test_split\n",
    "from sklearn.linear_model import LogisticRegression\n",
    "from sklearn.svm import SVC\n",
    "from sklearn.feature_extraction.text import TfidfVectorizer\n",
    "from sklearn.metrics import classification_report, confusion_matrix, precision_score, recall_score, f1_score\n",
    "\n",
    "from gensim.corpora import Dictionary\n",
    "from gensim.models.tfidfmodel import TfidfModel\n",
    "\n",
    "import matplotlib.pyplot as plt\n",
    "%matplotlib inline"
   ]
  },
  {
   "cell_type": "markdown",
   "metadata": {},
   "source": [
    "# In this notebook, we wrap up our analysis of Box Office Performance + Text\n",
    "\n",
    "We do the following:\n",
    "* Build a dataset without outliers (bottom 20%, top 20%)\n",
    "* Split analysis by genre\n",
    "* Define buckets for low, medium and high grossing movies (balanced vs imbalanced)\n",
    "* Compare model with concrete words (week 1) vs. dimensions/word ranks (week 2)\n",
    "* Build a model that uses concrete words, dimensions and word ranks for classification"
   ]
  },
  {
   "cell_type": "markdown",
   "metadata": {},
   "source": [
    "# A. Load NF dimensions and embedding model"
   ]
  },
  {
   "cell_type": "code",
   "execution_count": 2,
   "metadata": {
    "collapsed": true
   },
   "outputs": [],
   "source": [
    "# assume that we have a dimensions csv file in data\n",
    "dimensions = pd.read_csv('data/dimensions.csv', usecols = ['en_label', 'en'])"
   ]
  },
  {
   "cell_type": "code",
   "execution_count": 3,
   "metadata": {
    "collapsed": true
   },
   "outputs": [],
   "source": [
    "# remove brand-specific labels\n",
    "dimensions = dimensions.iloc[:200]"
   ]
  },
  {
   "cell_type": "code",
   "execution_count": 4,
   "metadata": {
    "collapsed": true
   },
   "outputs": [],
   "source": [
    "# remove rows with no words\n",
    "dimensions = dimensions[~dimensions['en'].isnull()]"
   ]
  },
  {
   "cell_type": "code",
   "execution_count": 5,
   "metadata": {
    "collapsed": true
   },
   "outputs": [],
   "source": [
    "# turn to lowercase\n",
    "dimensions['en_label'] = dimensions['en_label'].str.lower()\n",
    "dimensions['en'] = dimensions['en'].str.lower()"
   ]
  },
  {
   "cell_type": "code",
   "execution_count": 15,
   "metadata": {
    "collapsed": true,
    "scrolled": true
   },
   "outputs": [],
   "source": [
    "# tokenize words\n",
    "dimensions['tokenized'] = dimensions['en'].str.replace('-', '_').str.replace(',', ' ').map(word_tokenize)"
   ]
  },
  {
   "cell_type": "code",
   "execution_count": 16,
   "metadata": {
    "collapsed": true
   },
   "outputs": [],
   "source": [
    "# load embedding model\n",
    "emb = gensim.models.KeyedVectors.load_word2vec_format('data/en_en_numberbatch_v1706.bin', binary=True)"
   ]
  },
  {
   "cell_type": "code",
   "execution_count": 17,
   "metadata": {
    "collapsed": true
   },
   "outputs": [],
   "source": [
    "def get_average_vector(words):\n",
    "    \"\"\"\n",
    "        Average the word vectors of a list of words.\n",
    "    \"\"\"\n",
    "    words_in_emb = [emb[word] for word in words if word in emb.vocab.keys()]\n",
    "    total = np.sum(words_in_emb, axis=0)\n",
    "    count = len(words_in_emb)\n",
    "    return total / count"
   ]
  },
  {
   "cell_type": "code",
   "execution_count": 18,
   "metadata": {
    "collapsed": true
   },
   "outputs": [],
   "source": [
    "dimensions['dimension'] = dimensions['tokenized'].map(get_average_vector)\n",
    "dimensions = dimensions.drop(columns=['en'])"
   ]
  },
  {
   "cell_type": "code",
   "execution_count": 19,
   "metadata": {
    "collapsed": true
   },
   "outputs": [],
   "source": [
    "dimensions = dimensions.reset_index().drop(columns='index')"
   ]
  },
  {
   "cell_type": "code",
   "execution_count": 20,
   "metadata": {
    "collapsed": true
   },
   "outputs": [],
   "source": [
    "# get word ranks from embedding model\n",
    "word_rank = pd.Series(list(emb.vocab.keys())).reset_index()"
   ]
  },
  {
   "cell_type": "code",
   "execution_count": 21,
   "metadata": {
    "collapsed": true
   },
   "outputs": [],
   "source": [
    "# divide word ranks into deciles\n",
    "word_rank['percentile'] = pd.qcut(word_rank['index'], 10, labels = ['<10', '10-20', '20-30', '30-40', '40-50', '50-60', '60-70', '70-80', '80-90', '90+'])"
   ]
  },
  {
   "cell_type": "code",
   "execution_count": 22,
   "metadata": {
    "collapsed": true
   },
   "outputs": [],
   "source": [
    "rank_dict = dict(zip(word_rank[0].values, word_rank['percentile'].values))"
   ]
  },
  {
   "cell_type": "code",
   "execution_count": 23,
   "metadata": {
    "collapsed": true
   },
   "outputs": [],
   "source": [
    "rank_labels = word_rank['percentile'].unique()"
   ]
  },
  {
   "cell_type": "code",
   "execution_count": null,
   "metadata": {
    "collapsed": true
   },
   "outputs": [],
   "source": []
  },
  {
   "cell_type": "markdown",
   "metadata": {},
   "source": [
    "# B. Create dataset w/o outliers\n",
    "\n",
    "In this part, we load the dataset from the first week, filter out rows w/o filled up title and synopsis, and remove the bottom 20% and top 20% movies by average gross revenue per cinema."
   ]
  },
  {
   "cell_type": "code",
   "execution_count": 24,
   "metadata": {
    "collapsed": true
   },
   "outputs": [],
   "source": [
    "# load data from the week 1 notebook\n",
    "pc = pd.read_csv('data/wiki_matched.csv')"
   ]
  },
  {
   "cell_type": "code",
   "execution_count": 25,
   "metadata": {
    "collapsed": true
   },
   "outputs": [],
   "source": [
    "pc['tokenized_words'] = pc['movie_title'].str.lower().str.replace(r'[^a-zA-Z0-9 ]', '').str.replace(r'\\'', '').map(word_tokenize)\n",
    "pc['wiki_tokenized_words'] = pc['wiki_synopsis'].str.replace(r'[^a-zA-Z0-9 ]', '').str.replace(r'\\'', '').map(word_tokenize)"
   ]
  },
  {
   "cell_type": "code",
   "execution_count": 26,
   "metadata": {
    "collapsed": true
   },
   "outputs": [],
   "source": [
    "# only retain genre, total gross per cinema, and text features\n",
    "reduced = pc[['movie_title', 'genre1', 'genre2', 'adjusted_total_gross_per_cinema', 'wiki_synopsis', 'tokenized_words', 'wiki_tokenized_words']]"
   ]
  },
  {
   "cell_type": "code",
   "execution_count": 27,
   "metadata": {
    "scrolled": true
   },
   "outputs": [
    {
     "name": "stderr",
     "output_type": "stream",
     "text": [
      "C:\\Users\\pio_calderon\\Anaconda3\\lib\\site-packages\\ipykernel_launcher.py:8: RuntimeWarning: invalid value encountered in double_scalars\n",
      "  \n",
      "C:\\Users\\pio_calderon\\Anaconda3\\lib\\site-packages\\ipykernel_launcher.py:2: SettingWithCopyWarning: \n",
      "A value is trying to be set on a copy of a slice from a DataFrame.\n",
      "Try using .loc[row_indexer,col_indexer] = value instead\n",
      "\n",
      "See the caveats in the documentation: http://pandas.pydata.org/pandas-docs/stable/indexing.html#indexing-view-versus-copy\n",
      "  \n",
      "C:\\Users\\pio_calderon\\Anaconda3\\lib\\site-packages\\ipykernel_launcher.py:3: SettingWithCopyWarning: \n",
      "A value is trying to be set on a copy of a slice from a DataFrame.\n",
      "Try using .loc[row_indexer,col_indexer] = value instead\n",
      "\n",
      "See the caveats in the documentation: http://pandas.pydata.org/pandas-docs/stable/indexing.html#indexing-view-versus-copy\n",
      "  This is separate from the ipykernel package so we can avoid doing imports until\n"
     ]
    }
   ],
   "source": [
    "# get average word vectors assuming all words in the title/synopsis have equal weight\n",
    "reduced['wv_title'] = reduced['tokenized_words'].map(get_average_vector)\n",
    "reduced['wv_synopsis'] = reduced['wiki_tokenized_words'].map(get_average_vector)"
   ]
  },
  {
   "cell_type": "code",
   "execution_count": 28,
   "metadata": {
    "collapsed": true
   },
   "outputs": [],
   "source": [
    "def cosine_similarity(a,b):\n",
    "    \"\"\"\n",
    "        Compute the cosine similarity of a and b.\n",
    "    \"\"\"\n",
    "    return np.dot(a,b) / ( (np.dot(a,a) **.5) * (np.dot(b,b) ** .5) )"
   ]
  },
  {
   "cell_type": "code",
   "execution_count": 29,
   "metadata": {
    "collapsed": true
   },
   "outputs": [],
   "source": [
    "def get_similarity_with_dimensions(row, inp, dimensions, tfidf = False):\n",
    "    \"\"\"\n",
    "        Get similarity of row's word vector and every dimension.\n",
    "        row : row of the movie dataframe\n",
    "        inp : either 'title' or 'synopsis'\n",
    "        dimensions : dataframe containing Neuroflash dimensions\n",
    "        tfidf : true if we are using TFIDF-weighted sentence vectors\n",
    "    \"\"\"\n",
    "    for k in range(dimensions['dimension'].shape[0]):\n",
    "        if tfidf:\n",
    "            wv = 'wv_' + inp + '_tfidf'\n",
    "            name = 'cos_' + inp + '_dim_' + str(k) + '_tfidf'\n",
    "        else: \n",
    "            wv = 'wv_' + inp\n",
    "            name = 'cos_' + inp + '_dim_' + str(k)  \n",
    "        # define a new column for the cosine similarity of dimension k and inp\n",
    "        row[name] = cosine_similarity(row[wv], dimensions['dimension'].iloc[k])\n",
    "    return row"
   ]
  },
  {
   "cell_type": "code",
   "execution_count": 30,
   "metadata": {
    "collapsed": true
   },
   "outputs": [],
   "source": [
    "def get_tfidf_wv(row, emb, d, col = 'wiki_tokenized_words'):\n",
    "    \"\"\"\n",
    "        Get TFIDF-weighted vector for either title or synopsis.\n",
    "        row : row of movie dataframe\n",
    "        emb : embedding model used\n",
    "        d : Gensim dictionary for the corpus\n",
    "        col : either 'wiki_tokenized_words' (synopsis) or 'tokenized_words' (title)\n",
    "    \"\"\"\n",
    "    if col == 'wiki_tokenized_words':\n",
    "        tfidf_map = row['wiki_tfidf_map']\n",
    "        name = 'wv_synopsis'\n",
    "    else:\n",
    "        tfidf_map = row['tfidf_map']\n",
    "        name = 'wv_title'\n",
    "    words = row[col]\n",
    "    total = np.zeros(300)\n",
    "    for word in words:\n",
    "        if (word in d.token2id.keys() and d.token2id[word] in tfidf_map.keys() and word in emb.vocab.keys()):\n",
    "            # use the TFIDF of word as the weight to the word vector of word\n",
    "            total += np.array(tfidf_map[d.token2id[word]] * emb[word])\n",
    "    count = len(total)\n",
    "    if count == 0:\n",
    "        row[name + '_tfidf'] = np.nan\n",
    "    else:\n",
    "        row[name + '_tfidf'] = total / count\n",
    "    return row"
   ]
  },
  {
   "cell_type": "code",
   "execution_count": 31,
   "metadata": {
    "collapsed": true
   },
   "outputs": [],
   "source": [
    "def get_word_rank_count(row, inp, rank_dict, rank_labels):\n",
    "    \"\"\"\n",
    "        Get the frequency of the word rank deciles <10 to 90+\n",
    "        row : row of movie dataframe\n",
    "        inp : either 'title' or 'synopsis'\n",
    "        rank_dict : dictionary from words to ranks\n",
    "        rank_labels : labels for the word rank deciles\n",
    "    \"\"\"\n",
    "    if inp == 'title':\n",
    "        val = 'tokenized_words'\n",
    "    elif inp == 'synopsis':\n",
    "        val = 'wiki_tokenized_words'\n",
    "    else:\n",
    "        return\n",
    "    word_count = len(row[val])\n",
    "    running = 0\n",
    "    for k in range(10):\n",
    "        # count the number of words belonging to decile k\n",
    "        total = np.sum([1 for y in [rank_dict[x] for x in row[val] if x in rank_dict.keys()] if y == rank_labels[k]]) \n",
    "        # divide by the total number of words to get frequency\n",
    "        freq = total / word_count\n",
    "        row['freq_' + inp + '_'+ rank_labels[k]] = freq\n",
    "        running += freq\n",
    "    row['freq_' + inp + '_notinemb'] = 1 - running\n",
    "    return row"
   ]
  },
  {
   "cell_type": "code",
   "execution_count": 32,
   "metadata": {
    "collapsed": true
   },
   "outputs": [],
   "source": [
    "# retain only rows with filled-up title and synopis\n",
    "reduced = reduced[~reduced['wv_title'].isnull()]\n",
    "reduced = reduced[~reduced['wv_synopsis'].isnull()]"
   ]
  },
  {
   "cell_type": "code",
   "execution_count": 33,
   "metadata": {
    "collapsed": true
   },
   "outputs": [],
   "source": [
    "reduced = reduced.apply(lambda x: get_word_rank_count(x, 'title', rank_dict, rank_labels), axis=1)\n",
    "reduced = reduced.apply(lambda x: get_word_rank_count(x, 'synopsis', rank_dict, rank_labels), axis=1)"
   ]
  },
  {
   "cell_type": "code",
   "execution_count": 34,
   "metadata": {
    "collapsed": true
   },
   "outputs": [],
   "source": [
    "# divide the movies into 5-quantiles\n",
    "reduced['gross_percentile'] = pd.qcut(reduced['adjusted_total_gross_per_cinema'], 5, labels = ['<20', '20-40', '40-60', '60-80', '>80'])"
   ]
  },
  {
   "cell_type": "markdown",
   "metadata": {},
   "source": [
    "We remove movies that have gross in the top 20% and bottom 20%."
   ]
  },
  {
   "cell_type": "code",
   "execution_count": 42,
   "metadata": {
    "collapsed": true
   },
   "outputs": [],
   "source": [
    "# remove bottom 20 and top 20 movies\n",
    "no_blockbuster = reduced[~reduced['gross_percentile'].isin(['<20', '>80'])]"
   ]
  },
  {
   "cell_type": "code",
   "execution_count": 43,
   "metadata": {},
   "outputs": [
    {
     "name": "stdout",
     "output_type": "stream",
     "text": [
      "After removing outliers, we go from 3241 rows to 1953 rows.\n"
     ]
    }
   ],
   "source": [
    "print(\"After removing outliers, we go from \" + str(reduced.shape[0]) + \" rows to \" + str(no_blockbuster.shape[0]) + \" rows.\")"
   ]
  },
  {
   "cell_type": "code",
   "execution_count": 44,
   "metadata": {
    "scrolled": true
   },
   "outputs": [
    {
     "data": {
      "image/png": "[encoded data removed]",
      "text/plain": [
       "<Figure size 432x288 with 1 Axes>"
      ]
     },
     "metadata": {},
     "output_type": "display_data"
    }
   ],
   "source": [
    "reduced['adjusted_total_gross_per_cinema'].hist(bins = 100);"
   ]
  },
  {
   "cell_type": "code",
   "execution_count": 45,
   "metadata": {},
   "outputs": [
    {
     "data": {
      "text/plain": [
       "<matplotlib.axes._subplots.AxesSubplot at 0xd74a455240>"
      ]
     },
     "execution_count": 45,
     "metadata": {},
     "output_type": "execute_result"
    },
    {
     "data": {
      "image/png": "[encoded data removed]",
      "text/plain": [
       "<Figure size 432x288 with 1 Axes>"
      ]
     },
     "metadata": {},
     "output_type": "display_data"
    }
   ],
   "source": [
    "no_blockbuster['adjusted_total_gross_per_cinema'].hist(bins = 100)"
   ]
  },
  {
   "cell_type": "markdown",
   "metadata": {},
   "source": [
    "Let us look at frequency counts per genre."
   ]
  },
  {
   "cell_type": "code",
   "execution_count": 47,
   "metadata": {
    "scrolled": true
   },
   "outputs": [
    {
     "data": {
      "text/plain": [
       "Drama          450\n",
       "Comedy         310\n",
       "Foreign        289\n",
       "Action         150\n",
       "Documentary    149\n",
       "Name: genre1, dtype: int64"
      ]
     },
     "execution_count": 47,
     "metadata": {},
     "output_type": "execute_result"
    }
   ],
   "source": [
    "# considering only the first genre (some movies have an optional second genre)\n",
    "no_blockbuster['genre1'].value_counts().sort_values(ascending=False).head()"
   ]
  },
  {
   "cell_type": "code",
   "execution_count": 48,
   "metadata": {},
   "outputs": [
    {
     "data": {
      "text/plain": [
       "Drama       662.0\n",
       "Comedy      424.0\n",
       "Foreign     289.0\n",
       "Thriller    198.0\n",
       "Action      195.0\n",
       "dtype: float64"
      ]
     },
     "execution_count": 48,
     "metadata": {},
     "output_type": "execute_result"
    }
   ],
   "source": [
    "# considering both first and second genre\n",
    "no_blockbuster['genre1'].value_counts().add(no_blockbuster['genre2'].value_counts(), fill_value=0).sort_values(ascending=False).head()"
   ]
  },
  {
   "cell_type": "markdown",
   "metadata": {},
   "source": [
    "In our wrap-up, let us focus only on the top 3 genres: **Drama**, **Comedy** and **Foreign**."
   ]
  },
  {
   "cell_type": "markdown",
   "metadata": {},
   "source": [
    "# C. Class Definitions\n",
    "We consider a 3-way multiclass problem for low, medium, high-grossing movies.\n",
    "\n",
    "We will consider two types of binning: (1) binning with unequal binwidths based on 3-quantiles, which yields a balanced problem, and (2) equal binning with equal binwidths, which yields an imbalanced problem.\n",
    "\n",
    "We will assess the performance of our models in the two problems defined above."
   ]
  },
  {
   "cell_type": "code",
   "execution_count": 49,
   "metadata": {},
   "outputs": [
    {
     "name": "stderr",
     "output_type": "stream",
     "text": [
      "C:\\Users\\pio_calderon\\Anaconda3\\lib\\site-packages\\ipykernel_launcher.py:1: SettingWithCopyWarning: \n",
      "A value is trying to be set on a copy of a slice from a DataFrame.\n",
      "Try using .loc[row_indexer,col_indexer] = value instead\n",
      "\n",
      "See the caveats in the documentation: http://pandas.pydata.org/pandas-docs/stable/indexing.html#indexing-view-versus-copy\n",
      "  \"\"\"Entry point for launching an IPython kernel.\n"
     ]
    }
   ],
   "source": [
    "# divide movies into 3-quantiles, and assign movies belonging to the first, middle and last bin as low, medium and high-grossing movies\n",
    "no_blockbuster['class_balanced'] = pd.qcut(no_blockbuster['adjusted_total_gross_per_cinema'],3, ['low', 'medium', 'high'])"
   ]
  },
  {
   "cell_type": "code",
   "execution_count": 50,
   "metadata": {
    "collapsed": true
   },
   "outputs": [],
   "source": [
    "# find out the min, max of the total gross, then divide the range by 3 to get the binwidth for the imbalanced problem\n",
    "min_val = no_blockbuster['adjusted_total_gross_per_cinema'].min()\n",
    "max_val = no_blockbuster['adjusted_total_gross_per_cinema'].max()\n",
    "width = (max_val - min_val)/3\n",
    "\n",
    "# this function maps each movie to its associated bin for the imbalanced problem\n",
    "def map_class_imbalanced(x):\n",
    "    if x < min_val + width:\n",
    "        return 0\n",
    "    elif x < min_val + 2* width:\n",
    "        return 1\n",
    "    else:\n",
    "        return 2"
   ]
  },
  {
   "cell_type": "code",
   "execution_count": 51,
   "metadata": {},
   "outputs": [
    {
     "name": "stderr",
     "output_type": "stream",
     "text": [
      "C:\\Users\\pio_calderon\\Anaconda3\\lib\\site-packages\\ipykernel_launcher.py:1: SettingWithCopyWarning: \n",
      "A value is trying to be set on a copy of a slice from a DataFrame.\n",
      "Try using .loc[row_indexer,col_indexer] = value instead\n",
      "\n",
      "See the caveats in the documentation: http://pandas.pydata.org/pandas-docs/stable/indexing.html#indexing-view-versus-copy\n",
      "  \"\"\"Entry point for launching an IPython kernel.\n"
     ]
    }
   ],
   "source": [
    "no_blockbuster['class_imbalanced'] = no_blockbuster['adjusted_total_gross_per_cinema'].map(lambda x: map_class_imbalanced(x))"
   ]
  },
  {
   "cell_type": "code",
   "execution_count": 52,
   "metadata": {},
   "outputs": [
    {
     "data": {
      "text/plain": [
       "0    0.489891\n",
       "1    0.325557\n",
       "2    0.196993\n",
       "Name: class_imbalanced, dtype: float64"
      ]
     },
     "execution_count": 52,
     "metadata": {},
     "output_type": "execute_result"
    }
   ],
   "source": [
    "no_blockbuster['class_imbalanced'].value_counts() / no_blockbuster['class_balanced'].value_counts().sum()"
   ]
  },
  {
   "cell_type": "markdown",
   "metadata": {},
   "source": [
    "Almost a 3:2:1 imbalance ratio for equal binwidth"
   ]
  },
  {
   "cell_type": "markdown",
   "metadata": {},
   "source": [
    "For the balanced problem, the bin edges are:"
   ]
  },
  {
   "cell_type": "code",
   "execution_count": 53,
   "metadata": {},
   "outputs": [
    {
     "data": {
      "text/plain": [
       "array([ 3302.35439901,  7284.96836185, 12569.40764852, 21960.        ])"
      ]
     },
     "execution_count": 53,
     "metadata": {},
     "output_type": "execute_result"
    }
   ],
   "source": [
    "_, bins = pd.qcut(no_blockbuster['adjusted_total_gross_per_cinema'], 3, retbins=True)\n",
    "bins"
   ]
  },
  {
   "cell_type": "code",
   "execution_count": 54,
   "metadata": {
    "scrolled": true
   },
   "outputs": [
    {
     "name": "stderr",
     "output_type": "stream",
     "text": [
      "C:\\Users\\pio_calderon\\Anaconda3\\lib\\site-packages\\ipykernel_launcher.py:1: SettingWithCopyWarning: \n",
      "A value is trying to be set on a copy of a slice from a DataFrame.\n",
      "Try using .loc[row_indexer,col_indexer] = value instead\n",
      "\n",
      "See the caveats in the documentation: http://pandas.pydata.org/pandas-docs/stable/indexing.html#indexing-view-versus-copy\n",
      "  \"\"\"Entry point for launching an IPython kernel.\n"
     ]
    }
   ],
   "source": [
    "no_blockbuster['class_balanced'] = pd.qcut(no_blockbuster['adjusted_total_gross_per_cinema'], 3, [0, 1, 2])"
   ]
  },
  {
   "cell_type": "code",
   "execution_count": 55,
   "metadata": {},
   "outputs": [
    {
     "data": {
      "text/plain": [
       "2    643\n",
       "1    643\n",
       "0    643\n",
       "Name: class_balanced, dtype: int64"
      ]
     },
     "execution_count": 55,
     "metadata": {},
     "output_type": "execute_result"
    }
   ],
   "source": [
    "no_blockbuster['class_balanced'].value_counts()"
   ]
  },
  {
   "cell_type": "markdown",
   "metadata": {},
   "source": [
    "For the balanced problem, we get balanced classes but unequal binwidth"
   ]
  },
  {
   "cell_type": "markdown",
   "metadata": {},
   "source": [
    "# D. Generating Features and Datasets\n",
    "\n",
    "In this part, we generate the features for the classification problem and split the dataset into train, validation and test.\n",
    "* Let Model A refer to the model built on TFIDF weights of the concrete words in the title and synopsis\n",
    "* Let Model B refer to the model built on dimension similarities and word ranks\n",
    "* Let Model C refer to the model built on Model A and Model B's features"
   ]
  },
  {
   "cell_type": "code",
   "execution_count": 62,
   "metadata": {
    "collapsed": true
   },
   "outputs": [],
   "source": [
    "def generate_and_split_dataset_for_genre_classification(pc, emb, genre = '', var = 'class_balanced', concrete_words = True, similarity_rank = False, tfidf = False, whole = False):\n",
    "    \"\"\"\n",
    "        Split train and tests sets for the specific genre\n",
    "        \n",
    "        Input:\n",
    "            pc : dataframe of features\n",
    "            emb : embedding model\n",
    "            genre : genre to filter\n",
    "            var : box office performance metric\n",
    "            concrete_words : whether to use TFIDF of concrete words as features\n",
    "            similarity_rank : whether to use dimension similarity and word rank as features\n",
    "            tfidf : whether to use tfidf weighting to get embedding sentence vector\n",
    "            whole: whether to train on whole dataset or not\n",
    "        Output:\n",
    "            X_train : input training set\n",
    "            X_val : input validation set\n",
    "            X_test : input test set\n",
    "            y_train : output training set\n",
    "            y_val : output validation set\n",
    "            y_test : output test set\n",
    "            column_names : list of feature names\n",
    "    \"\"\"\n",
    "    \n",
    "    # check whether genre is provided\n",
    "    # if yes, filter pc by genre\n",
    "    if genre == '':\n",
    "        pc = pc\n",
    "    else:\n",
    "        pc = pc[(pc['genre1'] == genre) | (pc['genre2'] == genre)]\n",
    "    \n",
    "    # only retain rows with non-null performance metric\n",
    "    pc = pc[~pc[var].isnull()]\n",
    "    \n",
    "    column_names = ['movie_title', 'wiki_synopsis', 'tokenized_words', 'wiki_tokenized_words', 'wv_title', 'wv_synopsis', var] + [x for x in pc.columns if 'freq' in x]\n",
    "    X = pc[column_names]\n",
    "    \n",
    "    # whether to train on whole dataset or not\n",
    "    if whole:\n",
    "        X_train = X\n",
    "        y_train = pc[var]\n",
    "    \n",
    "    else:\n",
    "        # split 50-25-25 train-validation-test split\n",
    "        X_trainval, X_test, y_trainval, y_test = train_test_split(X,\n",
    "                pc[var], test_size=0.25, stratify = pc[var], random_state=0)\n",
    "        X_train, X_val, y_train, y_val = train_test_split(X_trainval,\n",
    "                y_trainval, test_size=1/3, stratify = y_trainval, random_state=0)\n",
    "        X_train = pd.DataFrame(X_train, columns=column_names)\n",
    "        X_val = pd.DataFrame(X_val, columns=column_names)\n",
    "        X_test = pd.DataFrame(X_test, columns=column_names)\n",
    "\n",
    "    if similarity_rank:\n",
    "        # get maps of words to indices\n",
    "        dict_synopsis = Dictionary(X_train['wiki_tokenized_words'].values)\n",
    "        dict_title = Dictionary(X_train['tokenized_words'].values)\n",
    "\n",
    "        # convert text to BOW representation\n",
    "        corpus_synopsis_train = [dict_synopsis.doc2bow(line) for line in X_train['wiki_tokenized_words'].values]\n",
    "        corpus_title_train = [dict_title.doc2bow(line) for line in X_train['tokenized_words'].values]\n",
    "\n",
    "        # get TFIDF model from BOW repr.\n",
    "        model_synopsis = TfidfModel(corpus_synopsis_train, id2word=dict_synopsis) \n",
    "        model_title = TfidfModel(corpus_title_train, id2word=dict_title) \n",
    "\n",
    "        if tfidf:\n",
    "            # get TFIDF values for each word in each row\n",
    "            X_train['wiki_tfidf_map'] = corpus_synopsis_train\n",
    "            X_train['tfidf_map'] = corpus_title_train\n",
    "            X_train['wiki_tfidf_map'] = X_train['wiki_tfidf_map'].map(lambda x: dict(model_synopsis[x]))\n",
    "            X_train['tfidf_map'] = X_train['tfidf_map'].map(lambda x: dict(model_title[x]))\n",
    "            # append columns to X_train that contains TFIDF-weighted sentence vectors\n",
    "            X_train = X_train.apply(lambda x: get_tfidf_wv(x, emb, dict_synopsis, 'wiki_tokenized_words'), axis=1)\n",
    "            X_train = X_train.apply(lambda x: get_tfidf_wv(x, emb, dict_title, 'tokenized_words'), axis=1)   \n",
    "\n",
    "        # get similarity of sentence vectors with dimensions\n",
    "        X_train = X_train.apply(lambda x: get_similarity_with_dimensions(x, 'title', dimensions, tfidf=tfidf), axis=1)\n",
    "        X_train = X_train.apply(lambda x: get_similarity_with_dimensions(x, 'synopsis', dimensions, tfidf=tfidf), axis=1)    \n",
    "\n",
    "        if tfidf:\n",
    "            column_names = [x for x in X_train.columns if (((x.startswith('cos') and x.endswith('tfidf'))) or 'freq' in x)]\n",
    "        else:\n",
    "            column_names = [x for x in X_train.columns if ((x.startswith('cos')) or 'freq' in x)]\n",
    "\n",
    "    if concrete_words:\n",
    "        # obtain tfidf representation for words in the training set\n",
    "        # only consider up to 2-grams, and filter out tokens appearing in < 4 titles\n",
    "        tfidf = TfidfVectorizer(ngram_range=(1,2), min_df = 4)\n",
    "        tfidf_features = tfidf.fit_transform(X_train['movie_title'].values)\n",
    "        tfidf_df = pd.DataFrame(tfidf_features.toarray(), index = X_train.index,\n",
    "                 columns=['title_' + x for x in tfidf.vocabulary_.keys()])\n",
    "\n",
    "        # tfidf for the synopsis\n",
    "        wiki_tfidf = TfidfVectorizer(stop_words='english', min_df = 20)\n",
    "        wiki_tfidf_features = wiki_tfidf.fit_transform(X_train['wiki_synopsis'].values)\n",
    "        wiki_tfidf_df = pd.DataFrame(wiki_tfidf_features.toarray(), index = X_train.index,\n",
    "                 columns=['synopsis_' + x for x in wiki_tfidf.vocabulary_.keys()])\n",
    "    \n",
    "    to_concat = []\n",
    "    if similarity_rank:\n",
    "        to_concat.extend([X_train[column_names]])\n",
    "    if concrete_words:\n",
    "        to_concat.extend([tfidf_df, wiki_tfidf_df])\n",
    "    X_train = pd.concat(to_concat, axis=1)\n",
    "    \n",
    "    pad = X_train.mean()\n",
    "    X_train = X_train.fillna(pad)\n",
    "    \n",
    "    cols = X_train.columns\n",
    "    \n",
    "    # scale the dataset features\n",
    "    ss = StandardScaler()\n",
    "    X_train = ss.fit_transform(X_train)\n",
    "\n",
    "    if whole:\n",
    "        return X_train, None, None, y_train, None, None, cols\n",
    "\n",
    "    else:\n",
    "        # do the same procedure as done with the train set to the validation and test sets\n",
    "        if similarity_rank:\n",
    "            corpus_synopsis_val = [dict_synopsis.doc2bow(line) for line in X_val['wiki_tokenized_words'].values]\n",
    "            corpus_title_val = [dict_title.doc2bow(line) for line in X_val['tokenized_words'].values]\n",
    "\n",
    "            corpus_synopsis_test = [dict_synopsis.doc2bow(line) for line in X_test['wiki_tokenized_words'].values]\n",
    "            corpus_title_test = [dict_title.doc2bow(line) for line in X_test['tokenized_words'].values]\n",
    "\n",
    "            if tfidf:\n",
    "                X_val['wiki_tfidf_map'] = corpus_synopsis_val\n",
    "                X_val['tfidf_map'] = corpus_title_val\n",
    "                X_val['wiki_tfidf_map'] = X_val['wiki_tfidf_map'].map(lambda x: dict(model_synopsis[x]))\n",
    "                X_val['tfidf_map'] = X_val['tfidf_map'].map(lambda x: dict(model_title[x]))\n",
    "                X_val = X_val.apply(lambda x: get_tfidf_wv(x, emb, dict_synopsis), axis=1)\n",
    "                X_val = X_val.apply(lambda x: get_tfidf_wv(x, emb, dict_title, 'tokenized_words'), axis=1)\n",
    "\n",
    "            X_val = X_val.apply(lambda x: get_similarity_with_dimensions(x, 'title', dimensions, tfidf=tfidf), axis=1)\n",
    "            X_val = X_val.apply(lambda x: get_similarity_with_dimensions(x, 'synopsis', dimensions, tfidf=tfidf), axis=1)    \n",
    "\n",
    "            if tfidf:\n",
    "                X_test['wiki_tfidf_map'] = corpus_synopsis_test\n",
    "                X_test['tfidf_map'] = corpus_title_test\n",
    "                X_test['wiki_tfidf_map'] = X_test['wiki_tfidf_map'].map(lambda x: dict(model_synopsis[x]))\n",
    "                X_test['tfidf_map'] = X_test['tfidf_map'].map(lambda x: dict(model_title[x]))\n",
    "                X_test = X_test.apply(lambda x: get_tfidf_wv(x, emb, dict_synopsis), axis=1)\n",
    "                X_test = X_test.apply(lambda x: get_tfidf_wv(x, emb, dict_title, 'tokenized_words'), axis=1)\n",
    "\n",
    "            X_test = X_test.apply(lambda x: get_similarity_with_dimensions(x, 'title', dimensions, tfidf=tfidf), axis=1)\n",
    "            X_test = X_test.apply(lambda x: get_similarity_with_dimensions(x, 'synopsis', dimensions, tfidf=tfidf), axis=1)    \n",
    "\n",
    "        if concrete_words:\n",
    "            # get tfidf representation of validation set\n",
    "            tfidf_features_val = tfidf.transform(X_val['movie_title'].values)\n",
    "            tfidf_df_val = pd.DataFrame(tfidf_features_val.toarray(), \\\n",
    "                    index = X_val.index, columns=tfidf_df.columns)\n",
    "            wiki_tfidf_features_val = wiki_tfidf.transform(X_val['wiki_synopsis'].values)\n",
    "            wiki_tfidf_df_val = pd.DataFrame(wiki_tfidf_features_val.toarray(), \\\n",
    "                    index = X_val.index, columns=wiki_tfidf_df.columns)\n",
    "            \n",
    "            # get tfidf representation of test set\n",
    "            tfidf_features_test = tfidf.transform(X_test['movie_title'].values)\n",
    "            tfidf_df_test = pd.DataFrame(tfidf_features_test.toarray(), \\\n",
    "                    index = X_test.index, columns=tfidf_df.columns)\n",
    "            wiki_tfidf_features_test = wiki_tfidf.transform(X_test['wiki_synopsis'].values)\n",
    "            wiki_tfidf_df_test = pd.DataFrame(wiki_tfidf_features_test.toarray(), \\\n",
    "                    index = X_test.index, columns=wiki_tfidf_df.columns)\n",
    "            \n",
    "        X_val = X_val.fillna(pad)\n",
    "        X_test = X_test.fillna(pad)\n",
    "\n",
    "        to_concat_val = []\n",
    "        to_concat_test = []\n",
    "        if similarity_rank:\n",
    "            to_concat_val.extend([X_val[column_names]])\n",
    "            to_concat_test.extend([X_test[column_names]])\n",
    "        if concrete_words:\n",
    "            to_concat_val.extend([tfidf_df_val, wiki_tfidf_df_val])\n",
    "            to_concat_test.extend([tfidf_df_test, wiki_tfidf_df_test])\n",
    "\n",
    "        X_val = pd.concat(to_concat_val, axis=1)\n",
    "        X_test = pd.concat(to_concat_test, axis=1)\n",
    "        \n",
    "        X_val = ss.transform(X_val)\n",
    "        X_test = ss.transform(X_test)\n",
    "\n",
    "        return X_train, X_val, X_test, y_train, y_val, y_test, cols"
   ]
  },
  {
   "cell_type": "code",
   "execution_count": 71,
   "metadata": {
    "collapsed": true
   },
   "outputs": [],
   "source": [
    "def train_model(modeltype, X_train, y_train):\n",
    "    \"\"\"\n",
    "        Train chosen model.\n",
    "        \n",
    "        Input:\n",
    "            modeltype : 'lr'. I wrote this to be extendable easily.\n",
    "            X_train : input training set\n",
    "            y_train : output training set\n",
    "        Output:\n",
    "            model : trained logistic regression model\n",
    "    \"\"\"\n",
    "\n",
    "    if modeltype == 'lr':\n",
    "        model = LogisticRegression(class_weight='balanced', C=10)\n",
    "    model.fit(X_train, y_train)\n",
    "    return model"
   ]
  },
  {
   "cell_type": "code",
   "execution_count": 116,
   "metadata": {
    "collapsed": true
   },
   "outputs": [],
   "source": [
    "def evaluate_model(model, X, y, label):\n",
    "    \"\"\"\n",
    "        Evaluate trained model.\n",
    "        \n",
    "        Input:\n",
    "            model : classification model\n",
    "            X : input to model\n",
    "            y : output to predict\n",
    "            label : model label, either A, B, C\n",
    "        Output:\n",
    "            dictionary containing the label, accuracy, recall, precision, f1 metrics\n",
    "    \"\"\"\n",
    "    \n",
    "    a = model.score(X, y)\n",
    "    r = recall_score(y, model.predict(X), average='weighted')\n",
    "    p = precision_score(y, model.predict(X), average='weighted')\n",
    "    f = f1_score(y, model.predict(X), average='weighted')\n",
    "    return {'label': label, 'accuracy': a, 'recall': r, 'precision': p, 'f1': f}"
   ]
  },
  {
   "cell_type": "code",
   "execution_count": 102,
   "metadata": {
    "collapsed": true
   },
   "outputs": [],
   "source": [
    "def evaluate_final_model(model, X, y):\n",
    "    \"\"\"\n",
    "        Evaluate final model.\n",
    "        \n",
    "        Input:\n",
    "            model : classification model\n",
    "            X : input to model\n",
    "            y : output to predict\n",
    "    \"\"\"\n",
    "    \n",
    "    print('accuracy : {}'.format(model.score(X, y)))\n",
    "    print(classification_report(y, model.predict(X)))\n",
    "    print(confusion_matrix(y, model.predict(X)))"
   ]
  },
  {
   "cell_type": "code",
   "execution_count": 244,
   "metadata": {
    "collapsed": true
   },
   "outputs": [],
   "source": [
    "def plot_most_relevant_features(model, column_names, n=5):\n",
    "    \"\"\"\n",
    "        Plot the features which have the highest effect on\n",
    "        box office performance based on the mode.\n",
    "        \n",
    "        Input:\n",
    "            model : trained LR model\n",
    "            column_names : list of features\n",
    "            n : number of features to include (in one direction)\n",
    "    \"\"\"\n",
    "    \n",
    "    coef_low = model.coef_[0]\n",
    "    coef_medium = model.coef_[1]\n",
    "    coef_high = model.coef_[2]\n",
    "    \n",
    "    coef_low_sorted = list(coef_low[np.argsort(-coef_low)])\n",
    "    columns_low_sorted = list(np.array(column_names)[np.argsort(-coef_low)])\n",
    "    coef_medium_sorted = list(coef_medium[np.argsort(-coef_medium)])\n",
    "    columns_medium_sorted = list(np.array(column_names)[np.argsort(-coef_medium)])\n",
    "    coef_high_sorted = list(coef_high[np.argsort(-coef_high)])\n",
    "    columns_high_sorted = list(np.array(column_names)[np.argsort(-coef_high)])    \n",
    "\n",
    "    plt.figure(figsize=(15,6))\n",
    "    \n",
    "    plt.subplot(131)\n",
    "    plt.bar(range(2*n), coef_low_sorted[:n] + coef_low_sorted[-n:])\n",
    "    plt.xticks(range(2*n), columns_low_sorted[:n] + columns_low_sorted[-n:], rotation=270, size=15)\n",
    "    plt.yticks(size=15)\n",
    "    plt.ylabel('Coefficient', size=20)\n",
    "    plt.title('Low gross', size=21);\n",
    "    \n",
    "    plt.subplot(132)\n",
    "    plt.bar(range(2*n), coef_medium_sorted[:n] + coef_medium_sorted[-n:])\n",
    "    plt.xticks(range(2*n), columns_medium_sorted[:n] + columns_medium_sorted[-n:], rotation=270, size=15)\n",
    "    plt.yticks(size=15)\n",
    "    plt.title('Medium gross', size=21);\n",
    "    \n",
    "    plt.subplot(133)\n",
    "    plt.bar(range(2*n), coef_high_sorted[:n] + coef_high_sorted[-n:])\n",
    "    plt.xticks(range(2*n), columns_high_sorted[:n] + columns_high_sorted[-n:], rotation=270, size=15)\n",
    "    plt.yticks(size=15)\n",
    "    plt.title('High gross', size=21);"
   ]
  },
  {
   "cell_type": "markdown",
   "metadata": {},
   "source": [
    "### Generate features and dataset splits for Models A, B, C for Drama, Comedy and Foreign\n",
    "Iterate over each combination of genre, model, and balanced/imbalanced problem to get train, validation and test data sets."
   ]
  },
  {
   "cell_type": "code",
   "execution_count": null,
   "metadata": {
    "collapsed": true
   },
   "outputs": [],
   "source": [
    "for genre in ['Drama', 'Comedy', 'Foreign']:\n",
    "    for similarity_rank in [False, True]:\n",
    "        for concrete_word in [False, True]:\n",
    "            for balanced in ['class_balanced', 'class_imbalanced']:                    \n",
    "                print(genre, concrete_word, similarity_rank, balanced)\n",
    "                if (not concrete_word and not similarity_rank):\n",
    "                    continue\n",
    "                X_train, X_val, X_test, y_train, y_val, y_test, column_names = \\\n",
    "                    generate_and_split_dataset_for_genre_classification(no_blockbuster, emb, genre = genre, var = balanced, \\\n",
    "                    concrete_words = concrete_word, similarity_rank = similarity_rank, tfidf = True, whole = False)\n",
    "                if concrete_word:\n",
    "                    if similarity_rank:\n",
    "                        label = 'C'\n",
    "                    else:\n",
    "                        label = 'A'\n",
    "                else:\n",
    "                    label = 'B'\n",
    "                pd.DataFrame(X_train, columns=column_names).to_csv('data/{}_model_{}_{}_X_train.csv'.format(genre, label, balanced), index=False)\n",
    "                pd.DataFrame(X_val, columns=column_names).to_csv('data/{}_model_{}_{}_X_val.csv'.format(genre, label, balanced), index=False)\n",
    "                pd.DataFrame(X_test, columns=column_names).to_csv('data/{}_model_{}_{}_X_test.csv'.format(genre, label, balanced), index=False)\n",
    "                y_train.to_csv('data/{}_model_{}_{}_y_train.csv'.format(genre, label, balanced), index=False)\n",
    "                y_val.to_csv('data/{}_model_{}_{}_y_val.csv'.format(genre, label, balanced), index=False)\n",
    "                y_test.to_csv('data/{}_model_{}_{}_y_test.csv'.format(genre, label, balanced), index=False)"
   ]
  },
  {
   "cell_type": "markdown",
   "metadata": {},
   "source": [
    "Get whole datasets for final models (see next section to see model evaluation)"
   ]
  },
  {
   "cell_type": "code",
   "execution_count": 255,
   "metadata": {},
   "outputs": [
    {
     "name": "stderr",
     "output_type": "stream",
     "text": [
      "C:\\Users\\pio_calderon\\Anaconda3\\lib\\site-packages\\ipykernel_launcher.py:58: SettingWithCopyWarning: \n",
      "A value is trying to be set on a copy of a slice from a DataFrame.\n",
      "Try using .loc[row_indexer,col_indexer] = value instead\n",
      "\n",
      "See the caveats in the documentation: http://pandas.pydata.org/pandas-docs/stable/indexing.html#indexing-view-versus-copy\n",
      "C:\\Users\\pio_calderon\\Anaconda3\\lib\\site-packages\\ipykernel_launcher.py:59: SettingWithCopyWarning: \n",
      "A value is trying to be set on a copy of a slice from a DataFrame.\n",
      "Try using .loc[row_indexer,col_indexer] = value instead\n",
      "\n",
      "See the caveats in the documentation: http://pandas.pydata.org/pandas-docs/stable/indexing.html#indexing-view-versus-copy\n",
      "C:\\Users\\pio_calderon\\Anaconda3\\lib\\site-packages\\ipykernel_launcher.py:60: SettingWithCopyWarning: \n",
      "A value is trying to be set on a copy of a slice from a DataFrame.\n",
      "Try using .loc[row_indexer,col_indexer] = value instead\n",
      "\n",
      "See the caveats in the documentation: http://pandas.pydata.org/pandas-docs/stable/indexing.html#indexing-view-versus-copy\n",
      "C:\\Users\\pio_calderon\\Anaconda3\\lib\\site-packages\\ipykernel_launcher.py:61: SettingWithCopyWarning: \n",
      "A value is trying to be set on a copy of a slice from a DataFrame.\n",
      "Try using .loc[row_indexer,col_indexer] = value instead\n",
      "\n",
      "See the caveats in the documentation: http://pandas.pydata.org/pandas-docs/stable/indexing.html#indexing-view-versus-copy\n"
     ]
    }
   ],
   "source": [
    "balanced = 'class_imbalanced'\n",
    "for genre in ['Drama', 'Comedy', 'Foreign']:\n",
    "    X_train, _, _, y_train, _, _, column_names = \\\n",
    "        generate_and_split_dataset_for_genre_classification(no_blockbuster, emb, genre = genre, var = balanced, \\\n",
    "        concrete_words = True, similarity_rank = False, tfidf = True, whole = True)\n",
    "    label = 'A'\n",
    "    pd.DataFrame(X_train, columns=column_names).to_csv('data/{}_whole_model_{}_{}_X_whole.csv'.format(genre, label, balanced), index=False)\n",
    "    y_train.to_csv('data/{}_model_{}_{}_y_whole.csv'.format(genre, label, balanced), index=False)\n",
    "    \n",
    "balanced = 'class_balanced'\n",
    "for genre in ['Drama', 'Comedy', 'Foreign']:\n",
    "    if genre == 'Drama':\n",
    "        X_train, _, _, y_train, _, _, column_names = \\\n",
    "            generate_and_split_dataset_for_genre_classification(no_blockbuster, emb, genre = genre, var = 'class_balanced', \\\n",
    "            concrete_words = True, similarity_rank = True, tfidf = True, whole = True)\n",
    "        label = 'C'\n",
    "    else:\n",
    "        X_train, _, _, y_train, _, _, column_names = \\\n",
    "            generate_and_split_dataset_for_genre_classification(no_blockbuster, emb, genre = genre, var = 'class_balanced', \\\n",
    "            concrete_words = False, similarity_rank = True, tfidf = True, whole = True)\n",
    "        label = 'B'\n",
    "    pd.DataFrame(X_train, columns=column_names).to_csv('data/{}_model_{}_{}_X_whole.csv'.format(genre, label, balanced), index=False)\n",
    "    y_train.to_csv('data/{}_model_{}_{}_y_whole.csv'.format(genre, label, balanced), index=False)"
   ]
  },
  {
   "cell_type": "markdown",
   "metadata": {},
   "source": [
    "# E. Imbalanced Classification Problem\n",
    "Here we focus on the imbalanced classification problem (binwidths are the same). We focus on drama, comedy and foreign films since they have the most data points."
   ]
  },
  {
   "cell_type": "code",
   "execution_count": 124,
   "metadata": {
    "collapsed": true
   },
   "outputs": [],
   "source": [
    "def cross_validate_for_genre(genre, balance = 'class_imbalanced'):\n",
    "    \"\"\"\n",
    "        Get evaluation metrics for models A, B, C for movies of the input genre and the specified type of\n",
    "        binning (imbalanced or balanced)\n",
    "        \n",
    "        Input:\n",
    "            genre : Drama, Comedy or Foreign\n",
    "            balance : either class_imbalanced or class_balanced\n",
    "        Output:\n",
    "            df : dataframe containing evaluation metrics for models A, B, C\n",
    "    \"\"\"\n",
    "    df = []\n",
    "    for model_label in ['A', 'B', 'C']:        \n",
    "        X_tr = pd.read_csv('data/{}_model_{}_{}_X_train.csv'.format(genre, model_label, balance))\n",
    "        y_tr = pd.read_csv('data/{}_model_{}_{}_y_train.csv'.format(genre, model_label, balance), header = None).values.reshape(-1)\n",
    "        model = train_model('lr', X_tr, y_tr)\n",
    "\n",
    "        X_val = pd.read_csv('data/{}_model_{}_{}_X_val.csv'.format(genre, model_label, balance))\n",
    "        y_val = pd.read_csv('data/{}_model_{}_{}_y_val.csv'.format(genre, model_label, balance), header = None).values.reshape(-1)\n",
    "        df.append(evaluate_model(model, X_val, y_val, model_label))\n",
    "    return pd.DataFrame(df)[['label', 'accuracy', 'precision', 'recall', 'f1']]"
   ]
  },
  {
   "cell_type": "code",
   "execution_count": 157,
   "metadata": {
    "collapsed": true
   },
   "outputs": [],
   "source": [
    "def evaluate_on_test_for_genre(genre, model_label, balance = 'class_imbalanced'):\n",
    "    \"\"\"\n",
    "        Evaluate specified model (model_label) on the test set.\n",
    "        \n",
    "        Input:\n",
    "            genre : Drama, Comedy or Foreign\n",
    "            model_label : either 'A', 'B', 'C'\n",
    "            balance : either class_imbalanced or class_balanced\n",
    "        Output:\n",
    "            series containing evaluation metrics\n",
    "    \"\"\"    \n",
    "    X_tr = pd.read_csv('data/{}_model_{}_{}_X_train.csv'.format(genre, model_label, balance))\n",
    "    y_tr = pd.read_csv('data/{}_model_{}_{}_y_train.csv'.format(genre, model_label, balance), header = None)\n",
    "    X_val = pd.read_csv('data/{}_model_{}_{}_X_val.csv'.format(genre, model_label, balance))\n",
    "    y_val = pd.read_csv('data/{}_model_{}_{}_y_val.csv'.format(genre, model_label, balance), header = None)\n",
    "\n",
    "    X = pd.concat([X_tr, X_val], axis = 0, ignore_index = True)\n",
    "    y = pd.concat([y_tr, y_val], axis = 0, ignore_index = True).values.reshape(-1)\n",
    "    model = train_model('lr', X, y)\n",
    "    \n",
    "    X_te = pd.read_csv('data/{}_model_{}_{}_X_test.csv'.format(genre, model_label, balance))\n",
    "    y_te = pd.read_csv('data/{}_model_{}_{}_y_test.csv'.format(genre, model_label, balance), header = None).values.reshape(-1)\n",
    "    \n",
    "    print(classification_report(y_te, model.predict(X_te)))\n",
    "    print(confusion_matrix(y_te, model.predict(X_te)))\n",
    "    return evaluate_model(model, X_te, y_te, model_label)"
   ]
  },
  {
   "cell_type": "markdown",
   "metadata": {},
   "source": [
    "### Drama"
   ]
  },
  {
   "cell_type": "code",
   "execution_count": 125,
   "metadata": {},
   "outputs": [
    {
     "data": {
      "text/html": [
       "<div>\n",
       "<style scoped>\n",
       "    .dataframe tbody tr th:only-of-type {\n",
       "        vertical-align: middle;\n",
       "    }\n",
       "\n",
       "    .dataframe tbody tr th {\n",
       "        vertical-align: top;\n",
       "    }\n",
       "\n",
       "    .dataframe thead th {\n",
       "        text-align: right;\n",
       "    }\n",
       "</style>\n",
       "<table border=\"1\" class=\"dataframe\">\n",
       "  <thead>\n",
       "    <tr style=\"text-align: right;\">\n",
       "      <th></th>\n",
       "      <th>label</th>\n",
       "      <th>accuracy</th>\n",
       "      <th>precision</th>\n",
       "      <th>recall</th>\n",
       "      <th>f1</th>\n",
       "    </tr>\n",
       "  </thead>\n",
       "  <tbody>\n",
       "    <tr>\n",
       "      <th>0</th>\n",
       "      <td>A</td>\n",
       "      <td>0.409639</td>\n",
       "      <td>0.403879</td>\n",
       "      <td>0.409639</td>\n",
       "      <td>0.406531</td>\n",
       "    </tr>\n",
       "    <tr>\n",
       "      <th>1</th>\n",
       "      <td>B</td>\n",
       "      <td>0.379518</td>\n",
       "      <td>0.370400</td>\n",
       "      <td>0.379518</td>\n",
       "      <td>0.374470</td>\n",
       "    </tr>\n",
       "    <tr>\n",
       "      <th>2</th>\n",
       "      <td>C</td>\n",
       "      <td>0.361446</td>\n",
       "      <td>0.361956</td>\n",
       "      <td>0.361446</td>\n",
       "      <td>0.360859</td>\n",
       "    </tr>\n",
       "  </tbody>\n",
       "</table>\n",
       "</div>"
      ],
      "text/plain": [
       "  label  accuracy  precision    recall        f1\n",
       "0     A  0.409639   0.403879  0.409639  0.406531\n",
       "1     B  0.379518   0.370400  0.379518  0.374470\n",
       "2     C  0.361446   0.361956  0.361446  0.360859"
      ]
     },
     "execution_count": 125,
     "metadata": {},
     "output_type": "execute_result"
    }
   ],
   "source": [
    "cross_validate_for_genre('Drama')"
   ]
  },
  {
   "cell_type": "markdown",
   "metadata": {},
   "source": [
    "From the validation, **model A** (concrete words) performs best across all metrics. Let us see its performance on the test set:"
   ]
  },
  {
   "cell_type": "code",
   "execution_count": 158,
   "metadata": {},
   "outputs": [
    {
     "name": "stdout",
     "output_type": "stream",
     "text": [
      "             precision    recall  f1-score   support\n",
      "\n",
      "          0       0.59      0.52      0.55        85\n",
      "          1       0.39      0.40      0.40        50\n",
      "          2       0.15      0.19      0.17        31\n",
      "\n",
      "avg / total       0.45      0.42      0.43       166\n",
      "\n",
      "[[44 21 20]\n",
      " [15 20 15]\n",
      " [15 10  6]]\n"
     ]
    },
    {
     "data": {
      "text/plain": [
       "{'label': 'A',\n",
       " 'accuracy': 0.42168674698795183,\n",
       " 'recall': 0.42168674698795183,\n",
       " 'precision': 0.44990945207017524,\n",
       " 'f1': 0.433811277240477}"
      ]
     },
     "execution_count": 158,
     "metadata": {},
     "output_type": "execute_result"
    }
   ],
   "source": [
    "evaluate_on_test_for_genre('Drama', 'A')"
   ]
  },
  {
   "cell_type": "markdown",
   "metadata": {},
   "source": [
    "Now let's retrain the model on the whole dataset to see which features the model depends on."
   ]
  },
  {
   "cell_type": "code",
   "execution_count": 173,
   "metadata": {},
   "outputs": [
    {
     "data": {
      "image/png": "[encoded data removed]",
      "text/plain": [
       "<Figure size 1080x432 with 3 Axes>"
      ]
     },
     "metadata": {},
     "output_type": "display_data"
    }
   ],
   "source": [
    "X = pd.read_csv('data/Drama_whole_model_A_class_imbalanced_X_whole.csv')\n",
    "y = pd.read_csv('data/Drama_model_A_class_imbalanced_y_whole.csv', header = None).values.reshape(-1)\n",
    "model = train_model('lr', X, y)\n",
    "plot_most_relevant_features(model, X.columns, n=5)"
   ]
  },
  {
   "cell_type": "markdown",
   "metadata": {},
   "source": [
    "### Comedy"
   ]
  },
  {
   "cell_type": "code",
   "execution_count": 126,
   "metadata": {
    "scrolled": false
   },
   "outputs": [
    {
     "data": {
      "text/html": [
       "<div>\n",
       "<style scoped>\n",
       "    .dataframe tbody tr th:only-of-type {\n",
       "        vertical-align: middle;\n",
       "    }\n",
       "\n",
       "    .dataframe tbody tr th {\n",
       "        vertical-align: top;\n",
       "    }\n",
       "\n",
       "    .dataframe thead th {\n",
       "        text-align: right;\n",
       "    }\n",
       "</style>\n",
       "<table border=\"1\" class=\"dataframe\">\n",
       "  <thead>\n",
       "    <tr style=\"text-align: right;\">\n",
       "      <th></th>\n",
       "      <th>label</th>\n",
       "      <th>accuracy</th>\n",
       "      <th>precision</th>\n",
       "      <th>recall</th>\n",
       "      <th>f1</th>\n",
       "    </tr>\n",
       "  </thead>\n",
       "  <tbody>\n",
       "    <tr>\n",
       "      <th>0</th>\n",
       "      <td>A</td>\n",
       "      <td>0.405660</td>\n",
       "      <td>0.406182</td>\n",
       "      <td>0.405660</td>\n",
       "      <td>0.405722</td>\n",
       "    </tr>\n",
       "    <tr>\n",
       "      <th>1</th>\n",
       "      <td>B</td>\n",
       "      <td>0.349057</td>\n",
       "      <td>0.351876</td>\n",
       "      <td>0.349057</td>\n",
       "      <td>0.350334</td>\n",
       "    </tr>\n",
       "    <tr>\n",
       "      <th>2</th>\n",
       "      <td>C</td>\n",
       "      <td>0.339623</td>\n",
       "      <td>0.341517</td>\n",
       "      <td>0.339623</td>\n",
       "      <td>0.340528</td>\n",
       "    </tr>\n",
       "  </tbody>\n",
       "</table>\n",
       "</div>"
      ],
      "text/plain": [
       "  label  accuracy  precision    recall        f1\n",
       "0     A  0.405660   0.406182  0.405660  0.405722\n",
       "1     B  0.349057   0.351876  0.349057  0.350334\n",
       "2     C  0.339623   0.341517  0.339623  0.340528"
      ]
     },
     "execution_count": 126,
     "metadata": {},
     "output_type": "execute_result"
    }
   ],
   "source": [
    "cross_validate_for_genre('Comedy')"
   ]
  },
  {
   "cell_type": "markdown",
   "metadata": {},
   "source": [
    "From the validation, **model A** (concrete words) performs best across all metrics. Let us see its performance on the test set:"
   ]
  },
  {
   "cell_type": "code",
   "execution_count": 251,
   "metadata": {},
   "outputs": [
    {
     "name": "stdout",
     "output_type": "stream",
     "text": [
      "             precision    recall  f1-score   support\n",
      "\n",
      "          0       0.42      0.40      0.41        48\n",
      "          1       0.30      0.34      0.32        38\n",
      "          2       0.17      0.15      0.16        20\n",
      "\n",
      "avg / total       0.33      0.33      0.33       106\n",
      "\n",
      "[[19 21  8]\n",
      " [18 13  7]\n",
      " [ 8  9  3]]\n"
     ]
    },
    {
     "data": {
      "text/plain": [
       "{'label': 'A',\n",
       " 'accuracy': 0.330188679245283,\n",
       " 'recall': 0.330188679245283,\n",
       " 'precision': 0.33102237823606845,\n",
       " 'f1': 0.3298898945928876}"
      ]
     },
     "execution_count": 251,
     "metadata": {},
     "output_type": "execute_result"
    }
   ],
   "source": [
    "evaluate_on_test_for_genre('Comedy', 'A')"
   ]
  },
  {
   "cell_type": "markdown",
   "metadata": {},
   "source": [
    "Now let's retrain the model on the whole dataset to see which features the model depends on."
   ]
  },
  {
   "cell_type": "code",
   "execution_count": 174,
   "metadata": {},
   "outputs": [
    {
     "name": "stderr",
     "output_type": "stream",
     "text": [
      "C:\\Users\\pio_calderon\\Anaconda3\\lib\\site-packages\\sklearn\\utils\\validation.py:578: DataConversionWarning: A column-vector y was passed when a 1d array was expected. Please change the shape of y to (n_samples, ), for example using ravel().\n",
      "  y = column_or_1d(y, warn=True)\n"
     ]
    },
    {
     "data": {
      "image/png": "[encoded data removed]",
      "text/plain": [
       "<Figure size 1080x432 with 3 Axes>"
      ]
     },
     "metadata": {},
     "output_type": "display_data"
    }
   ],
   "source": [
    "X = pd.read_csv('data/Comedy_whole_model_A_class_imbalanced_X_whole.csv')\n",
    "y = pd.read_csv('data/Comedy_model_A_class_imbalanced_y_whole.csv', header = None)\n",
    "model = train_model('lr', X, y)\n",
    "plot_most_relevant_features(model, X.columns, n=5)"
   ]
  },
  {
   "cell_type": "markdown",
   "metadata": {},
   "source": [
    "### Foreign"
   ]
  },
  {
   "cell_type": "code",
   "execution_count": 127,
   "metadata": {},
   "outputs": [
    {
     "data": {
      "text/html": [
       "<div>\n",
       "<style scoped>\n",
       "    .dataframe tbody tr th:only-of-type {\n",
       "        vertical-align: middle;\n",
       "    }\n",
       "\n",
       "    .dataframe tbody tr th {\n",
       "        vertical-align: top;\n",
       "    }\n",
       "\n",
       "    .dataframe thead th {\n",
       "        text-align: right;\n",
       "    }\n",
       "</style>\n",
       "<table border=\"1\" class=\"dataframe\">\n",
       "  <thead>\n",
       "    <tr style=\"text-align: right;\">\n",
       "      <th></th>\n",
       "      <th>label</th>\n",
       "      <th>accuracy</th>\n",
       "      <th>precision</th>\n",
       "      <th>recall</th>\n",
       "      <th>f1</th>\n",
       "    </tr>\n",
       "  </thead>\n",
       "  <tbody>\n",
       "    <tr>\n",
       "      <th>0</th>\n",
       "      <td>A</td>\n",
       "      <td>0.430556</td>\n",
       "      <td>0.440394</td>\n",
       "      <td>0.430556</td>\n",
       "      <td>0.430934</td>\n",
       "    </tr>\n",
       "    <tr>\n",
       "      <th>1</th>\n",
       "      <td>B</td>\n",
       "      <td>0.388889</td>\n",
       "      <td>0.437376</td>\n",
       "      <td>0.388889</td>\n",
       "      <td>0.379396</td>\n",
       "    </tr>\n",
       "    <tr>\n",
       "      <th>2</th>\n",
       "      <td>C</td>\n",
       "      <td>0.361111</td>\n",
       "      <td>0.378733</td>\n",
       "      <td>0.361111</td>\n",
       "      <td>0.367493</td>\n",
       "    </tr>\n",
       "  </tbody>\n",
       "</table>\n",
       "</div>"
      ],
      "text/plain": [
       "  label  accuracy  precision    recall        f1\n",
       "0     A  0.430556   0.440394  0.430556  0.430934\n",
       "1     B  0.388889   0.437376  0.388889  0.379396\n",
       "2     C  0.361111   0.378733  0.361111  0.367493"
      ]
     },
     "execution_count": 127,
     "metadata": {},
     "output_type": "execute_result"
    }
   ],
   "source": [
    "cross_validate_for_genre('Foreign')"
   ]
  },
  {
   "cell_type": "markdown",
   "metadata": {},
   "source": [
    "From the validation, **model A** (concrete words) performs best across all metrics. Let us see its performance on the test set:"
   ]
  },
  {
   "cell_type": "code",
   "execution_count": 160,
   "metadata": {},
   "outputs": [
    {
     "name": "stdout",
     "output_type": "stream",
     "text": [
      "             precision    recall  f1-score   support\n",
      "\n",
      "          0       0.54      0.42      0.47        33\n",
      "          1       0.37      0.42      0.39        26\n",
      "          2       0.24      0.29      0.26        14\n",
      "\n",
      "avg / total       0.42      0.40      0.40        73\n",
      "\n",
      "[[14 12  7]\n",
      " [ 9 11  6]\n",
      " [ 3  7  4]]\n"
     ]
    },
    {
     "data": {
      "text/plain": [
       "{'label': 'A',\n",
       " 'accuracy': 0.3972602739726027,\n",
       " 'recall': 0.3972602739726027,\n",
       " 'precision': 0.4191326267071634,\n",
       " 'f1': 0.40394802588006445}"
      ]
     },
     "execution_count": 160,
     "metadata": {},
     "output_type": "execute_result"
    }
   ],
   "source": [
    "evaluate_on_test_for_genre('Foreign', 'A')"
   ]
  },
  {
   "cell_type": "markdown",
   "metadata": {},
   "source": [
    "Now let's retrain the model on the whole dataset to see which features the model depends on."
   ]
  },
  {
   "cell_type": "code",
   "execution_count": 175,
   "metadata": {},
   "outputs": [
    {
     "name": "stderr",
     "output_type": "stream",
     "text": [
      "C:\\Users\\pio_calderon\\Anaconda3\\lib\\site-packages\\sklearn\\utils\\validation.py:578: DataConversionWarning: A column-vector y was passed when a 1d array was expected. Please change the shape of y to (n_samples, ), for example using ravel().\n",
      "  y = column_or_1d(y, warn=True)\n"
     ]
    },
    {
     "data": {
      "image/png": "[encoded data removed]",
      "text/plain": [
       "<Figure size 1080x432 with 3 Axes>"
      ]
     },
     "metadata": {},
     "output_type": "display_data"
    }
   ],
   "source": [
    "X = pd.read_csv('data/Foreign_whole_model_A_class_imbalanced_X_whole.csv')\n",
    "y = pd.read_csv('data/Foreign_model_A_class_imbalanced_y_whole.csv', header = None)\n",
    "model = train_model('lr', X, y)\n",
    "plot_most_relevant_features(model, X.columns, n=5)"
   ]
  },
  {
   "cell_type": "markdown",
   "metadata": {},
   "source": [
    "Observations:\n",
    "* Quite difficult to assess performance since problem is imbalanced.\n",
    "* However, performance isn't that great. Models are passable detecting low-grossing movies, but have difficult time distinguishing medium and high grossing movies.\n",
    "* This could be a data issue since we are working with small sample sizes after the top-20-bottom-20 reduction."
   ]
  },
  {
   "cell_type": "code",
   "execution_count": null,
   "metadata": {
    "collapsed": true
   },
   "outputs": [],
   "source": []
  },
  {
   "cell_type": "markdown",
   "metadata": {},
   "source": [
    "# F. Balanced Classification Problem"
   ]
  },
  {
   "cell_type": "markdown",
   "metadata": {},
   "source": [
    "### Drama"
   ]
  },
  {
   "cell_type": "code",
   "execution_count": 128,
   "metadata": {},
   "outputs": [
    {
     "data": {
      "text/html": [
       "<div>\n",
       "<style scoped>\n",
       "    .dataframe tbody tr th:only-of-type {\n",
       "        vertical-align: middle;\n",
       "    }\n",
       "\n",
       "    .dataframe tbody tr th {\n",
       "        vertical-align: top;\n",
       "    }\n",
       "\n",
       "    .dataframe thead th {\n",
       "        text-align: right;\n",
       "    }\n",
       "</style>\n",
       "<table border=\"1\" class=\"dataframe\">\n",
       "  <thead>\n",
       "    <tr style=\"text-align: right;\">\n",
       "      <th></th>\n",
       "      <th>label</th>\n",
       "      <th>accuracy</th>\n",
       "      <th>precision</th>\n",
       "      <th>recall</th>\n",
       "      <th>f1</th>\n",
       "    </tr>\n",
       "  </thead>\n",
       "  <tbody>\n",
       "    <tr>\n",
       "      <th>0</th>\n",
       "      <td>A</td>\n",
       "      <td>0.353659</td>\n",
       "      <td>0.357148</td>\n",
       "      <td>0.353659</td>\n",
       "      <td>0.353621</td>\n",
       "    </tr>\n",
       "    <tr>\n",
       "      <th>1</th>\n",
       "      <td>B</td>\n",
       "      <td>0.341463</td>\n",
       "      <td>0.343373</td>\n",
       "      <td>0.341463</td>\n",
       "      <td>0.340817</td>\n",
       "    </tr>\n",
       "    <tr>\n",
       "      <th>2</th>\n",
       "      <td>C</td>\n",
       "      <td>0.353659</td>\n",
       "      <td>0.356076</td>\n",
       "      <td>0.353659</td>\n",
       "      <td>0.354599</td>\n",
       "    </tr>\n",
       "  </tbody>\n",
       "</table>\n",
       "</div>"
      ],
      "text/plain": [
       "  label  accuracy  precision    recall        f1\n",
       "0     A  0.353659   0.357148  0.353659  0.353621\n",
       "1     B  0.341463   0.343373  0.341463  0.340817\n",
       "2     C  0.353659   0.356076  0.353659  0.354599"
      ]
     },
     "execution_count": 128,
     "metadata": {},
     "output_type": "execute_result"
    }
   ],
   "source": [
    "cross_validate_for_genre('Drama', 'class_balanced')"
   ]
  },
  {
   "cell_type": "markdown",
   "metadata": {},
   "source": [
    "From the validation, **model C** (mixed model) performs best accdg to F1. Let us see its performance on the test set:"
   ]
  },
  {
   "cell_type": "code",
   "execution_count": 257,
   "metadata": {},
   "outputs": [
    {
     "name": "stdout",
     "output_type": "stream",
     "text": [
      "             precision    recall  f1-score   support\n",
      "\n",
      "          0       0.34      0.38      0.36        56\n",
      "          1       0.31      0.34      0.33        58\n",
      "          2       0.23      0.18      0.20        51\n",
      "\n",
      "avg / total       0.30      0.30      0.30       165\n",
      "\n",
      "[[21 21 14]\n",
      " [22 20 16]\n",
      " [19 23  9]]\n"
     ]
    },
    {
     "data": {
      "text/plain": [
       "{'label': 'C',\n",
       " 'accuracy': 0.30303030303030304,\n",
       " 'recall': 0.30303030303030304,\n",
       " 'precision': 0.2961331679073615,\n",
       " 'f1': 0.2978702838330513}"
      ]
     },
     "execution_count": 257,
     "metadata": {},
     "output_type": "execute_result"
    }
   ],
   "source": [
    "evaluate_on_test_for_genre('Drama', 'C', 'class_balanced')"
   ]
  },
  {
   "cell_type": "markdown",
   "metadata": {},
   "source": [
    "Now let's retrain the model on the whole dataset to see which features the model depends on."
   ]
  },
  {
   "cell_type": "code",
   "execution_count": 262,
   "metadata": {},
   "outputs": [
    {
     "name": "stderr",
     "output_type": "stream",
     "text": [
      "C:\\Users\\pio_calderon\\Anaconda3\\lib\\site-packages\\sklearn\\utils\\validation.py:578: DataConversionWarning: A column-vector y was passed when a 1d array was expected. Please change the shape of y to (n_samples, ), for example using ravel().\n",
      "  y = column_or_1d(y, warn=True)\n"
     ]
    },
    {
     "data": {
      "image/png": "[encoded data removed]",
      "text/plain": [
       "<Figure size 1080x432 with 3 Axes>"
      ]
     },
     "metadata": {},
     "output_type": "display_data"
    }
   ],
   "source": [
    "X = pd.read_csv('data/Drama_model_C_class_balanced_X_whole.csv')\n",
    "\n",
    "y = pd.read_csv('data/Drama_model_C_class_balanced_y_whole.csv', header = None)\n",
    "model = train_model('lr', X, y)\n",
    "\n",
    "plot_most_relevant_features(model, X.columns, n=5)"
   ]
  },
  {
   "cell_type": "markdown",
   "metadata": {},
   "source": [
    "### Comedy"
   ]
  },
  {
   "cell_type": "code",
   "execution_count": 129,
   "metadata": {
    "scrolled": true
   },
   "outputs": [
    {
     "data": {
      "text/html": [
       "<div>\n",
       "<style scoped>\n",
       "    .dataframe tbody tr th:only-of-type {\n",
       "        vertical-align: middle;\n",
       "    }\n",
       "\n",
       "    .dataframe tbody tr th {\n",
       "        vertical-align: top;\n",
       "    }\n",
       "\n",
       "    .dataframe thead th {\n",
       "        text-align: right;\n",
       "    }\n",
       "</style>\n",
       "<table border=\"1\" class=\"dataframe\">\n",
       "  <thead>\n",
       "    <tr style=\"text-align: right;\">\n",
       "      <th></th>\n",
       "      <th>label</th>\n",
       "      <th>accuracy</th>\n",
       "      <th>precision</th>\n",
       "      <th>recall</th>\n",
       "      <th>f1</th>\n",
       "    </tr>\n",
       "  </thead>\n",
       "  <tbody>\n",
       "    <tr>\n",
       "      <th>0</th>\n",
       "      <td>A</td>\n",
       "      <td>0.330189</td>\n",
       "      <td>0.331033</td>\n",
       "      <td>0.330189</td>\n",
       "      <td>0.327853</td>\n",
       "    </tr>\n",
       "    <tr>\n",
       "      <th>1</th>\n",
       "      <td>B</td>\n",
       "      <td>0.367925</td>\n",
       "      <td>0.373705</td>\n",
       "      <td>0.367925</td>\n",
       "      <td>0.370114</td>\n",
       "    </tr>\n",
       "    <tr>\n",
       "      <th>2</th>\n",
       "      <td>C</td>\n",
       "      <td>0.330189</td>\n",
       "      <td>0.336453</td>\n",
       "      <td>0.330189</td>\n",
       "      <td>0.327114</td>\n",
       "    </tr>\n",
       "  </tbody>\n",
       "</table>\n",
       "</div>"
      ],
      "text/plain": [
       "  label  accuracy  precision    recall        f1\n",
       "0     A  0.330189   0.331033  0.330189  0.327853\n",
       "1     B  0.367925   0.373705  0.367925  0.370114\n",
       "2     C  0.330189   0.336453  0.330189  0.327114"
      ]
     },
     "execution_count": 129,
     "metadata": {},
     "output_type": "execute_result"
    }
   ],
   "source": [
    "cross_validate_for_genre('Comedy', 'class_balanced')"
   ]
  },
  {
   "cell_type": "markdown",
   "metadata": {},
   "source": [
    "From the validation, **model B** (dimensions and ranks) performs best across all metrics. Let us see its performance on the test set:"
   ]
  },
  {
   "cell_type": "code",
   "execution_count": 162,
   "metadata": {},
   "outputs": [
    {
     "name": "stdout",
     "output_type": "stream",
     "text": [
      "             precision    recall  f1-score   support\n",
      "\n",
      "          0       0.21      0.19      0.20        31\n",
      "          1       0.30      0.34      0.32        35\n",
      "          2       0.32      0.30      0.31        40\n",
      "\n",
      "avg / total       0.28      0.28      0.28       106\n",
      "\n",
      "[[ 6 12 13]\n",
      " [10 12 13]\n",
      " [12 16 12]]\n"
     ]
    },
    {
     "data": {
      "text/plain": [
       "{'label': 'B',\n",
       " 'accuracy': 0.2830188679245283,\n",
       " 'recall': 0.2830188679245283,\n",
       " 'precision': 0.2808909065115619,\n",
       " 'f1': 0.28125261371183985}"
      ]
     },
     "execution_count": 162,
     "metadata": {},
     "output_type": "execute_result"
    }
   ],
   "source": [
    "evaluate_on_test_for_genre('Comedy', 'B', 'class_balanced')"
   ]
  },
  {
   "cell_type": "markdown",
   "metadata": {},
   "source": [
    "Now let's retrain the model on the whole dataset to see which features the model depends on."
   ]
  },
  {
   "cell_type": "code",
   "execution_count": 248,
   "metadata": {},
   "outputs": [
    {
     "name": "stderr",
     "output_type": "stream",
     "text": [
      "C:\\Users\\pio_calderon\\Anaconda3\\lib\\site-packages\\sklearn\\utils\\validation.py:578: DataConversionWarning: A column-vector y was passed when a 1d array was expected. Please change the shape of y to (n_samples, ), for example using ravel().\n",
      "  y = column_or_1d(y, warn=True)\n"
     ]
    },
    {
     "data": {
      "image/png": "[encoded data removed]",
      "text/plain": [
       "<Figure size 1080x432 with 3 Axes>"
      ]
     },
     "metadata": {},
     "output_type": "display_data"
    }
   ],
   "source": [
    "X = pd.read_csv('data/Comedy_model_B_class_balanced_X_whole.csv')\n",
    "y = pd.read_csv('data/Comedy_model_B_class_balanced_y_whole.csv', header = None)\n",
    "model = train_model('lr', X, y)\n",
    "\n",
    "freq_label = pd.Series(X.columns[:22])\n",
    "title_label = dimensions['en_label'].map(lambda x: 'title: ' + str(x))\n",
    "synopsis_label = dimensions['en_label'].map(lambda x: 'synopsis: ' + str(x))\n",
    "col_labels = pd.concat([freq_label, title_label, synopsis_label], ignore_index=True).values\n",
    "X.columns = col_labels\n",
    "\n",
    "plot_most_relevant_features(model, X.columns, n=5)"
   ]
  },
  {
   "cell_type": "code",
   "execution_count": 247,
   "metadata": {
    "collapsed": true
   },
   "outputs": [],
   "source": []
  },
  {
   "cell_type": "markdown",
   "metadata": {},
   "source": [
    "### Foreign"
   ]
  },
  {
   "cell_type": "code",
   "execution_count": 130,
   "metadata": {
    "scrolled": true
   },
   "outputs": [
    {
     "data": {
      "text/html": [
       "<div>\n",
       "<style scoped>\n",
       "    .dataframe tbody tr th:only-of-type {\n",
       "        vertical-align: middle;\n",
       "    }\n",
       "\n",
       "    .dataframe tbody tr th {\n",
       "        vertical-align: top;\n",
       "    }\n",
       "\n",
       "    .dataframe thead th {\n",
       "        text-align: right;\n",
       "    }\n",
       "</style>\n",
       "<table border=\"1\" class=\"dataframe\">\n",
       "  <thead>\n",
       "    <tr style=\"text-align: right;\">\n",
       "      <th></th>\n",
       "      <th>label</th>\n",
       "      <th>accuracy</th>\n",
       "      <th>precision</th>\n",
       "      <th>recall</th>\n",
       "      <th>f1</th>\n",
       "    </tr>\n",
       "  </thead>\n",
       "  <tbody>\n",
       "    <tr>\n",
       "      <th>0</th>\n",
       "      <td>A</td>\n",
       "      <td>0.333333</td>\n",
       "      <td>0.328195</td>\n",
       "      <td>0.333333</td>\n",
       "      <td>0.328958</td>\n",
       "    </tr>\n",
       "    <tr>\n",
       "      <th>1</th>\n",
       "      <td>B</td>\n",
       "      <td>0.361111</td>\n",
       "      <td>0.382044</td>\n",
       "      <td>0.361111</td>\n",
       "      <td>0.350408</td>\n",
       "    </tr>\n",
       "    <tr>\n",
       "      <th>2</th>\n",
       "      <td>C</td>\n",
       "      <td>0.347222</td>\n",
       "      <td>0.355357</td>\n",
       "      <td>0.347222</td>\n",
       "      <td>0.341149</td>\n",
       "    </tr>\n",
       "  </tbody>\n",
       "</table>\n",
       "</div>"
      ],
      "text/plain": [
       "  label  accuracy  precision    recall        f1\n",
       "0     A  0.333333   0.328195  0.333333  0.328958\n",
       "1     B  0.361111   0.382044  0.361111  0.350408\n",
       "2     C  0.347222   0.355357  0.347222  0.341149"
      ]
     },
     "execution_count": 130,
     "metadata": {},
     "output_type": "execute_result"
    }
   ],
   "source": [
    "cross_validate_for_genre('Foreign', 'class_balanced')"
   ]
  },
  {
   "cell_type": "markdown",
   "metadata": {},
   "source": [
    "From the validation, **model B** (dimensions and ranks) performs best across all metrics. Let us see its performance on the test set:"
   ]
  },
  {
   "cell_type": "code",
   "execution_count": 164,
   "metadata": {
    "scrolled": true
   },
   "outputs": [
    {
     "name": "stdout",
     "output_type": "stream",
     "text": [
      "             precision    recall  f1-score   support\n",
      "\n",
      "          0       0.41      0.52      0.46        23\n",
      "          1       0.27      0.17      0.21        24\n",
      "          2       0.46      0.52      0.49        25\n",
      "\n",
      "avg / total       0.38      0.40      0.39        72\n",
      "\n",
      "[[12  5  6]\n",
      " [11  4  9]\n",
      " [ 6  6 13]]\n"
     ]
    },
    {
     "data": {
      "text/plain": [
       "{'label': 'B',\n",
       " 'accuracy': 0.4027777777777778,\n",
       " 'recall': 0.4027777777777778,\n",
       " 'precision': 0.38228311439518337,\n",
       " 'f1': 0.38614739558135786}"
      ]
     },
     "execution_count": 164,
     "metadata": {},
     "output_type": "execute_result"
    }
   ],
   "source": [
    "evaluate_on_test_for_genre('Foreign', 'B', 'class_balanced')"
   ]
  },
  {
   "cell_type": "markdown",
   "metadata": {},
   "source": [
    "Now let's retrain the model on the whole dataset to see which features the model depends on."
   ]
  },
  {
   "cell_type": "code",
   "execution_count": 249,
   "metadata": {},
   "outputs": [
    {
     "name": "stderr",
     "output_type": "stream",
     "text": [
      "C:\\Users\\pio_calderon\\Anaconda3\\lib\\site-packages\\sklearn\\utils\\validation.py:578: DataConversionWarning: A column-vector y was passed when a 1d array was expected. Please change the shape of y to (n_samples, ), for example using ravel().\n",
      "  y = column_or_1d(y, warn=True)\n"
     ]
    },
    {
     "data": {
      "image/png": "[encoded data removed]",
      "text/plain": [
       "<Figure size 1080x432 with 3 Axes>"
      ]
     },
     "metadata": {},
     "output_type": "display_data"
    }
   ],
   "source": [
    "X = pd.read_csv('data/Foreign_model_B_class_balanced_X_whole.csv')\n",
    "y = pd.read_csv('data/Foreign_model_B_class_balanced_y_whole.csv', header = None)\n",
    "model = train_model('lr', X, y)\n",
    "\n",
    "freq_label = pd.Series(X.columns[:22])\n",
    "title_label = dimensions['en_label'].map(lambda x: 'title: ' + str(x))\n",
    "synopsis_label = dimensions['en_label'].map(lambda x: 'synopsis: ' + str(x))\n",
    "col_labels = pd.concat([freq_label, title_label, synopsis_label], ignore_index=True).values\n",
    "X.columns = col_labels\n",
    "\n",
    "plot_most_relevant_features(model, X.columns, n=5)"
   ]
  },
  {
   "cell_type": "code",
   "execution_count": 234,
   "metadata": {
    "collapsed": true
   },
   "outputs": [],
   "source": []
  },
  {
   "cell_type": "markdown",
   "metadata": {},
   "source": [
    "# Summary and Conclusion\n",
    "\n",
    "* We compared logistic regression models built on the concrete words, similarity to Neuro Flash dimensions, and the combination of the two on two classification problems.\n",
    "* For the imbalanced problem, model A (concrete words) performed best for Comedy, Drama, Foreign.\n",
    "* For the balanced problem, it was a toss-up between models B (dimensions) and C (mixed).\n",
    "* Overall, the predictive power of the models isn't that great, implying that there is a lot more to it than the wording of the text and synopsis to predict box office performance. \n",
    "* Coefficients of the logistic regression models can be used to see which factors (words or dimensions) the model picked up to correlate with high probability of being a low or a high grosser.\n",
    "* A k-fold cross validation is recommended for future since low performance on test set might be due to unlucky splitting."
   ]
  },
  {
   "cell_type": "code",
   "execution_count": null,
   "metadata": {
    "collapsed": true
   },
   "outputs": [],
   "source": []
  }
 ],
 "metadata": {
  "kernelspec": {
   "display_name": "Python 3",
   "language": "python",
   "name": "python3"
  },
  "language_info": {
   "codemirror_mode": {
    "name": "ipython",
    "version": 3
   },
   "file_extension": ".py",
   "mimetype": "text/x-python",
   "name": "python",
   "nbconvert_exporter": "python",
   "pygments_lexer": "ipython3",
   "version": "3.6.1"
  }
 },
 "nbformat": 4,
 "nbformat_minor": 2
}
