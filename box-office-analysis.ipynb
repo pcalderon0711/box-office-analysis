{
 "cells": [
  {
   "cell_type": "code",
   "execution_count": 696,
   "metadata": {
    "collapsed": true
   },
   "outputs": [],
   "source": [
    "import pandas as pd\n",
    "import numpy as np\n",
    "import re, os, requests\n",
    "import matplotlib.pyplot as plt\n",
    "import seaborn as sns\n",
    "from bs4 import BeautifulSoup\n",
    "from dateutil.relativedelta import relativedelta\n",
    "%matplotlib inline"
   ]
  },
  {
   "cell_type": "markdown",
   "metadata": {},
   "source": [
    "# Part 1: Web Scraping\n",
    "**Task**: Scrape movie box office performance and metadata from boxofficemojo.com\n",
    "\n",
    "**Timeframe Considered**: 2010-2018"
   ]
  },
  {
   "cell_type": "code",
   "execution_count": 303,
   "metadata": {
    "collapsed": true
   },
   "outputs": [],
   "source": [
    "def get_film_metadata(url_string):\n",
    "    \"\"\"\n",
    "        Obtain movie metadata from the url of a movie's page\n",
    "        \n",
    "        Input:\n",
    "            url_string : movie metadata url\n",
    "        Output:\n",
    "            movie_dict : dictionary of movie information\n",
    "    \"\"\"\n",
    "    \n",
    "    url = requests.get(url_string)\n",
    "    bs = BeautifulSoup(url.content, 'lxml')  \n",
    "    \n",
    "    # select table of metadata information \n",
    "    entries = bs.select('center td')\n",
    "    \n",
    "    # table entries are in the form 'label: xxx'\n",
    "    # retain only xxx\n",
    "    remove_label = lambda x: x[x.find(':') + 2:]\n",
    "    \n",
    "    # get list of metadata values\n",
    "    fixed_entries = [remove_label(entry.text) for entry in entries]\n",
    "    # get list of metadata labels\n",
    "    meta_labels = ['total_gross', 'distributor', 'release_date', 'genre', 'runtime', 'rating', 'budget']\n",
    "                       \n",
    "    # combine values and labels to a dict\n",
    "    metadata_dict = dict(zip(meta_labels, fixed_entries))\n",
    "                       \n",
    "    return metadata_dict"
   ]
  },
  {
   "cell_type": "code",
   "execution_count": 304,
   "metadata": {},
   "outputs": [],
   "source": [
    "def process_row(row, base):\n",
    "    \"\"\"\n",
    "        Process a single row in the movie performance table\n",
    "        \n",
    "        Input:\n",
    "            row : bs4 element representing the row of the table\n",
    "            base : root link of website (to combine with metadata link)\n",
    "        Output:\n",
    "            movie_dict : dictionary of movie information\n",
    "    \"\"\"\n",
    "    \n",
    "    tds = row.select('td')\n",
    "    \n",
    "    # construct movie performance dictionary\n",
    "    performance_dict = {'rank': int(tds[0].text),\n",
    "            'movie_title': tds[1].text,\n",
    "            'studio': tds[2].text,\n",
    "            'adjusted_total_gross': tds[3].text,\n",
    "            'theaters': tds[4].text,\n",
    "            'adjusted_opening': tds[5].text,\n",
    "            'open': tds[7].text,\n",
    "            'close': tds[8].text}\n",
    "    \n",
    "    # check whether movie page exists\n",
    "    try:\n",
    "        # get link to movie information page\n",
    "        metadata_link = tds[1].select('a')[0].get('href')\n",
    "        \n",
    "        # construct metadata dictionary\n",
    "        metadata_dict = get_film_metadata(base + metadata_link)\n",
    "        \n",
    "        # combine movie performance and metadata\n",
    "        movie_dict = {**performance_dict, **metadata_dict}\n",
    "    except:\n",
    "        movie_dict = performance_dict\n",
    "        \n",
    "    return movie_dict"
   ]
  },
  {
   "cell_type": "code",
   "execution_count": 305,
   "metadata": {
    "collapsed": true
   },
   "outputs": [],
   "source": [
    "def get_movie_df_for_year_k(k):\n",
    "    \"\"\"\n",
    "        Get the dataframe of movies (including metadata) ranked by box office performance\n",
    "        for the year k\n",
    "        \n",
    "        Input:\n",
    "            k : year to obtain movies\n",
    "        Output:\n",
    "            movie_df : Pandas dataframe with box office performance and movie metadata for year k\n",
    "    \"\"\"\n",
    "    \n",
    "    # root url\n",
    "    base = 'http://www.boxofficemojo.com'\n",
    "    \n",
    "    # initialize scraping with the first page\n",
    "    # always adjust prices to 2018 so that we can ignore the effect of inflation\n",
    "    url = requests.get('http://www.boxofficemojo.com/yearly/chart/?yr={}&p=.htm&adjust_yr=2018'.format(k))\n",
    "    bs = BeautifulSoup(url.content, 'lxml')\n",
    "    # get table containing movie data\n",
    "    table = bs.find_all('table', bgcolor='#ffffff')[0]\n",
    "    # extract only rows with movies\n",
    "    rows = table.select('tr')[2:-4]\n",
    "    movie_df = pd.DataFrame([process_row(row, base) for row in rows])\n",
    "\n",
    "    # obtain a list of urls to pass through\n",
    "    next_links = [x.get('href') + '&adjust_yr=2016' for x in bs.select('center')[0].select('a')]\n",
    "    \n",
    "    # iterate over the next pages\n",
    "    for link in next_links:\n",
    "        url = requests.get(base + link)\n",
    "        bs = BeautifulSoup(url.content, 'lxml')\n",
    "        table = bs.find_all('table', bgcolor='#ffffff')[0]\n",
    "        rows = table.select('tr')[2:-4]\n",
    "        next_df = pd.DataFrame([process_row(row, base) for row in rows])\n",
    "        \n",
    "        # concatenate new movie dataframe with the previous one\n",
    "        movie_df = pd.concat([movie_df, next_df], ignore_index=True)\n",
    "        \n",
    "    movie_df['year'] = k\n",
    "    \n",
    "    return movie_df"
   ]
  },
  {
   "cell_type": "code",
   "execution_count": 306,
   "metadata": {},
   "outputs": [
    {
     "name": "stdout",
     "output_type": "stream",
     "text": [
      "2017 done!\n"
     ]
    }
   ],
   "source": [
    "# iterate over 2010 to 2018\n",
    "# might take a long time since we are accessing metadata page for each movie\n",
    "for k in [2017]:\n",
    "    movie_df = get_movie_df_for_year_k(k)\n",
    "    # save yearly data frame as a csv file for further cleaning\n",
    "    movie_df.to_csv('data/precleaned_{}.csv'.format(k), index=False)\n",
    "    print('{} done!'.format(k))"
   ]
  },
  {
   "cell_type": "code",
   "execution_count": null,
   "metadata": {
    "collapsed": true
   },
   "outputs": [],
   "source": []
  },
  {
   "cell_type": "markdown",
   "metadata": {},
   "source": [
    "# Part 2: Data Cleaning\n",
    "**Tasks**: \n",
    "* Consolidate all dataframes. \n",
    "* Convert strings to floats and date strings to date objects for further analysis"
   ]
  },
  {
   "cell_type": "code",
   "execution_count": 702,
   "metadata": {},
   "outputs": [],
   "source": [
    "# Collect all data across years into a dataframe called pc\n",
    "pc = pd.DataFrame()\n",
    "for file in sorted(os.listdir('data')):\n",
    "    pc = pd.concat([pc, pd.read_csv('data/' + file)], ignore_index=True)"
   ]
  },
  {
   "cell_type": "code",
   "execution_count": 703,
   "metadata": {},
   "outputs": [],
   "source": [
    "# Remove dollar symbols, commas, and convert amounts to floats\n",
    "pc['adjusted_opening'] = pc['adjusted_opening'].str.replace('[$,]', '').astype(float)\n",
    "pc['adjusted_total_gross'] = pc['adjusted_total_gross'].str.replace('[$,]', '').astype(float)\n",
    "pc['budget'] = pc['budget'].str.replace('[$,]', '').map(lambda x: x if pd.isnull(x) else ( \\\n",
    "        float(re.findall(r'[0-9]+', x)[0])*1000000 if \\\n",
    "        str(x)[-7:] == 'million' else float(re.findall(r'[0-9]+', x)[0]))).astype(float)\n",
    "pc['theaters'] = pc['theaters'].str.replace(',', '').astype(float)\n",
    "\n",
    "# Total gross is a delnquent column: it has some text, so we extract the first numerical value\n",
    "pc['total_gross'] = pc['total_gross'].str.replace('[$,]', '').str.extract(r'([0-9]+)', expand=False).astype(float)"
   ]
  },
  {
   "cell_type": "code",
   "execution_count": 704,
   "metadata": {
    "collapsed": true
   },
   "outputs": [],
   "source": [
    "pc['adjusted_opening_per_cinema'] = pc['adjusted_opening'] / pc['theaters']\n",
    "pc['adjusted_total_gross_per_cinema'] = pc['adjusted_total_gross'] / pc['theaters']\n",
    "pc['total_gross_per_cinema'] = pc['total_gross'] / pc['theaters']"
   ]
  },
  {
   "cell_type": "code",
   "execution_count": 705,
   "metadata": {
    "collapsed": true
   },
   "outputs": [],
   "source": [
    "with_close = pc['close'] == '-'"
   ]
  },
  {
   "cell_type": "code",
   "execution_count": 706,
   "metadata": {
    "scrolled": true
   },
   "outputs": [
    {
     "name": "stderr",
     "output_type": "stream",
     "text": [
      "/Users/piocalderon/anaconda/lib/python3.6/site-packages/ipykernel_launcher.py:1: SettingWithCopyWarning: \n",
      "A value is trying to be set on a copy of a slice from a DataFrame\n",
      "\n",
      "See the caveats in the documentation: http://pandas.pydata.org/pandas-docs/stable/indexing.html#indexing-view-versus-copy\n",
      "  \"\"\"Entry point for launching an IPython kernel.\n"
     ]
    }
   ],
   "source": [
    "pc['close'][with_close] = np.nan"
   ]
  },
  {
   "cell_type": "code",
   "execution_count": 707,
   "metadata": {},
   "outputs": [],
   "source": [
    "# Convert open and close to datetime objects\n",
    "pc['open'] = pd.to_datetime(pc['year'].astype(str) + '/' + pc['open'])\n",
    "pc['close'] = pd.to_datetime(pc['year'].astype(str) + '/' + pc['close'])"
   ]
  },
  {
   "cell_type": "code",
   "execution_count": 708,
   "metadata": {},
   "outputs": [],
   "source": [
    "to_add_year = (pc['close'] < pc['open'])\n",
    "#pc['close'][to_add_year] = pc['close'][to_add_year].dt"
   ]
  },
  {
   "cell_type": "code",
   "execution_count": 709,
   "metadata": {},
   "outputs": [
    {
     "name": "stderr",
     "output_type": "stream",
     "text": [
      "/Users/piocalderon/anaconda/lib/python3.6/site-packages/ipykernel_launcher.py:1: SettingWithCopyWarning: \n",
      "A value is trying to be set on a copy of a slice from a DataFrame\n",
      "\n",
      "See the caveats in the documentation: http://pandas.pydata.org/pandas-docs/stable/indexing.html#indexing-view-versus-copy\n",
      "  \"\"\"Entry point for launching an IPython kernel.\n"
     ]
    }
   ],
   "source": [
    "pc['close'][to_add_year] = pc['close'][to_add_year] + pd.Timedelta(days=365)"
   ]
  },
  {
   "cell_type": "code",
   "execution_count": 710,
   "metadata": {},
   "outputs": [],
   "source": [
    "pc['in_cinema'] = pc['close'] - pc['open']"
   ]
  },
  {
   "cell_type": "code",
   "execution_count": 711,
   "metadata": {},
   "outputs": [],
   "source": [
    "# Convert runtime to minutes\n",
    "temp_runtime = pc['runtime'].str.extract(r'(?P<hour>[0-9]+)[a-zA-Z .]+(?P<minute>[0-9]+)', expand=False)\n",
    "pc['runtime'] = temp_runtime['hour'].astype(float)*60 + temp_runtime['minute'].astype(float)"
   ]
  },
  {
   "cell_type": "code",
   "execution_count": 712,
   "metadata": {
    "collapsed": true
   },
   "outputs": [],
   "source": [
    "with_genre = ~pd.isnull(pc['genre'])"
   ]
  },
  {
   "cell_type": "code",
   "execution_count": 713,
   "metadata": {},
   "outputs": [],
   "source": [
    "pc[['genre1', 'genre2']] = pd.DataFrame(pc['genre'][with_genre].str.replace('/', '').str.split().values.tolist(), pc[with_genre].index).add_prefix('genre_')"
   ]
  },
  {
   "cell_type": "code",
   "execution_count": 714,
   "metadata": {},
   "outputs": [
    {
     "name": "stderr",
     "output_type": "stream",
     "text": [
      "/Users/piocalderon/anaconda/lib/python3.6/site-packages/ipykernel_launcher.py:1: SettingWithCopyWarning: \n",
      "A value is trying to be set on a copy of a slice from a DataFrame\n",
      "\n",
      "See the caveats in the documentation: http://pandas.pydata.org/pandas-docs/stable/indexing.html#indexing-view-versus-copy\n",
      "  \"\"\"Entry point for launching an IPython kernel.\n"
     ]
    }
   ],
   "source": [
    "pc['genre2'][pd.isnull(pc['genre2'])] = np.nan"
   ]
  },
  {
   "cell_type": "code",
   "execution_count": 715,
   "metadata": {},
   "outputs": [],
   "source": [
    "pc['movie_title'] = pc['movie_title'].str.replace('\\(.+\\)', '').str.strip()"
   ]
  },
  {
   "cell_type": "code",
   "execution_count": 716,
   "metadata": {},
   "outputs": [],
   "source": [
    "pc['distributor'] = pc['distributor'].str.replace('\\(.+\\)', '').str.strip()"
   ]
  },
  {
   "cell_type": "code",
   "execution_count": 717,
   "metadata": {},
   "outputs": [],
   "source": [
    "# Define columns to retain\n",
    "cols = [\n",
    "        'year',\n",
    "        'rank',\n",
    "        'movie_title',\n",
    "        'rating',\n",
    "        'genre1',\n",
    "        'genre2',\n",
    "        'runtime',\n",
    "        'distributor',\n",
    "        'budget',\n",
    "        'adjusted_opening',\n",
    "        'adjusted_total_gross',\n",
    "        'total_gross',\n",
    "        'adjusted_opening_per_cinema',\n",
    "        'adjusted_total_gross_per_cinema',\n",
    "        'total_gross_per_cinema',\n",
    "        'theaters',\n",
    "        'in_cinema',\n",
    "        'open',\n",
    "        'close'\n",
    "       ]\n",
    "\n",
    "pc = pc[cols]"
   ]
  },
  {
   "cell_type": "code",
   "execution_count": null,
   "metadata": {
    "collapsed": true
   },
   "outputs": [],
   "source": []
  },
  {
   "cell_type": "markdown",
   "metadata": {},
   "source": [
    "# Part 3: Exploratory Data Analysis\n",
    "**Tasks**\n",
    "* Look at the trends across the different metadata we obtained\n",
    "* See temporal trends of movie performance"
   ]
  },
  {
   "cell_type": "code",
   "execution_count": null,
   "metadata": {
    "collapsed": true
   },
   "outputs": [],
   "source": []
  },
  {
   "cell_type": "code",
   "execution_count": 733,
   "metadata": {},
   "outputs": [
    {
     "data": {
      "text/plain": [
       "<matplotlib.text.Text at 0x128076ba8>"
      ]
     },
     "execution_count": 733,
     "metadata": {},
     "output_type": "execute_result"
    },
    {
     "data": {
      "image/png": "[encoded data removed]",
      "text/plain": [
       "<matplotlib.figure.Figure at 0x1282b3518>"
      ]
     },
     "metadata": {},
     "output_type": "display_data"
    }
   ],
   "source": [
    "pc.groupby('genre1').mean()['adjusted_opening_per_cinema'].sort_values().plot.bar()\n",
    "plt.title(\"Effect of Genre on Opening per Cinema\")\n",
    "plt.xlabel('Major Genre')\n",
    "plt.ylabel('Adjusted Opening per Cinema')"
   ]
  },
  {
   "cell_type": "code",
   "execution_count": 735,
   "metadata": {},
   "outputs": [
    {
     "data": {
      "text/plain": [
       "<matplotlib.text.Text at 0x128ebe320>"
      ]
     },
     "execution_count": 735,
     "metadata": {},
     "output_type": "execute_result"
    },
    {
     "data": {
      "image/png": "[encoded data removed]",
      "text/plain": [
       "<matplotlib.figure.Figure at 0x128e76748>"
      ]
     },
     "metadata": {},
     "output_type": "display_data"
    }
   ],
   "source": [
    "pc.groupby('genre1').mean()['adjusted_total_gross_per_cinema'].sort_values().plot.bar()\n",
    "plt.title(\"Effect of Genre on Total Gross per Cinema\")\n",
    "plt.xlabel('Major Genre')\n",
    "plt.ylabel('Adjusted Opening per Cinema')"
   ]
  },
  {
   "cell_type": "code",
   "execution_count": 736,
   "metadata": {},
   "outputs": [
    {
     "data": {
      "text/plain": [
       "<matplotlib.text.Text at 0x129040320>"
      ]
     },
     "execution_count": 736,
     "metadata": {},
     "output_type": "execute_result"
    },
    {
     "data": {
      "image/png": "[encoded data removed]",
      "text/plain": [
       "<matplotlib.figure.Figure at 0x12902e898>"
      ]
     },
     "metadata": {},
     "output_type": "display_data"
    }
   ],
   "source": [
    "pc.groupby('distributor').mean()['adjusted_total_gross_per_cinema'].sort_values().dropna().tail(20).plot.bar()\n",
    "plt.title(\"Effect of Distributor on Total Gross per Cinema\")\n",
    "plt.xlabel('Distributor')\n",
    "plt.ylabel('Adjusted Opening per Cinema')"
   ]
  },
  {
   "cell_type": "code",
   "execution_count": null,
   "metadata": {
    "collapsed": true
   },
   "outputs": [],
   "source": [
    "plt.scatter(pc['runtime'], pc)"
   ]
  }
 ],
 "metadata": {
  "kernelspec": {
   "display_name": "Python 3",
   "language": "python",
   "name": "python3"
  },
  "language_info": {
   "codemirror_mode": {
    "name": "ipython",
    "version": 3
   },
   "file_extension": ".py",
   "mimetype": "text/x-python",
   "name": "python",
   "nbconvert_exporter": "python",
   "pygments_lexer": "ipython3",
   "version": "3.6.1"
  }
 },
 "nbformat": 4,
 "nbformat_minor": 2
}
